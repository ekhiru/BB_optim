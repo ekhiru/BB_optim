{
 "cells": [
  {
   "cell_type": "code",
   "execution_count": 1,
   "metadata": {
    "execution": {
     "iopub.execute_input": "2020-11-11T17:25:23.445Z",
     "iopub.status.busy": "2020-11-11T17:25:23.436Z",
     "iopub.status.idle": "2020-11-11T17:25:24.563Z",
     "shell.execute_reply": "2020-11-11T17:25:24.606Z"
    },
    "jupyter": {
     "outputs_hidden": false,
     "source_hidden": false
    },
    "nteract": {
     "transient": {
      "deleting": false
     }
    }
   },
   "outputs": [
    {
     "name": "stdout",
     "output_type": "stream",
     "text": [
      "3.6.9 (default, Oct  8 2020, 12:12:24) \n",
      "[GCC 8.4.0]\n"
     ]
    }
   ],
   "source": [
    "from imp import reload\n",
    "import sys\n",
    "print(sys.version)\n",
    "# import rpy2\n",
    "import os\n",
    "import os.path\n",
    "import glob\n",
    "import numpy as np\n",
    "import pandas as pd\n",
    "from scipy import stats\n",
    "import statsmodels.stats.api as sms\n",
    "import seaborn as sns\n",
    "import matplotlib.pyplot as plt\n",
    "import matplotlib\n",
    "# Use Type 1 fonts in plots.\n",
    "matplotlib.rcParams['ps.useafm'] = True\n",
    "matplotlib.rcParams['pdf.use14corefonts'] = True\n",
    "matplotlib.rcParams['text.usetex'] = False\n",
    "# Do not wrap long lines\n",
    "np.set_printoptions(linewidth=np.nan)\n",
    "sns.set_style(\"whitegrid\")\n",
    "import runner\n",
    "import umm"
   ]
  },
  {
   "cell_type": "markdown",
   "metadata": {
    "nteract": {
     "transient": {
      "deleting": false
     }
    }
   },
   "source": [
    "# Plotting the results of the experiments in the paper \n",
    "## Which value of $r_1$ (ratio_samples_learn) and $r_2$ (weight_samples_learn) is the best for each instance?\n",
    "\n",
    "The learning rate $\\rho$ (uBorda parameter) is **not** set manually. Instead, we use these two parameters to obtain a more interpretable setting: The value of $\\rho$ is set at each iteration and depends on the set of function evaluations $F$. Parameter $\\rho$ is set such that the largest $r_1$\\% of the mass of the weights is concentrated in the best $r_2$\\% of the solutions in $S$, i.e., \n",
    "\n",
    "$$\n",
    "r_1 \\sum_{\\sigma\\in S}\\rho^{f(\\sigma)} =  \\sum_{\\sigma\\in S'}\\rho^{f(\\sigma)} \\text{where} |S'| = r_2|S| \\land \\forall \\sigma'\\in S', \\sigma\\in S\\setminus S' : f(\\sigma')\\geq f(\\sigma)\n",
    "$$\n",
    "\n",
    "\n",
    "Therefore, for each instance, we plot the mean of the best fitnesses over 10 repetitions as a function of $r_1$ and $r_2$. Since we are minimizing, the lower the better. \n",
    "\n",
    "Overall, the values ($r_1, r_2$)=(.1,.9) have good performance, we will use this configuration for the rest of the experimental section. \n",
    "\n",
    "For the LOP instances (synthetic and real) the best fitness function changes smoothly when we change the parameters\n",
    "For the QAP and PFSP this does not happen, meaning that the convergence to the optimal is not smooth\n",
    "\n",
    "The following two cells perform the experiments, in particular:\n",
    "- the first one run the whole combination of parameters (beware that this takes long because they are lots of executions) and we do not recomment to run here and\n",
    "- the second one processes the results and generates the plots"
   ]
  },
  {
   "cell_type": "code",
   "execution_count": 3,
   "metadata": {
    "collapsed": true,
    "execution": {
     "iopub.execute_input": "2020-11-11T17:29:45.371Z",
     "iopub.status.busy": "2020-11-11T17:29:45.362Z",
     "iopub.status.idle": "2020-11-11T17:29:45.386Z",
     "shell.execute_reply": "2020-11-11T17:29:45.394Z"
    },
    "jupyter": {
     "outputs_hidden": false,
     "source_hidden": false
    },
    "nteract": {
     "transient": {
      "deleting": false
     }
    }
   },
   "outputs": [],
   "source": [
    "# dfselected = pd.read_csv('./best_fitness_selected.txt',sep='\\t')\n",
    "# lis = []\n",
    "# for inst in dfselected.instance_name.values:#collect all the instance paths\n",
    "#   for folder in ['./lop/','./pfsp/', './qap/']: \n",
    "#       for dirpath, dirnames, filenames in os.walk(folder):\n",
    "#           for filename in [f for f in filenames ]:\n",
    "#             if inst in os.path.join(dirpath, filename):\n",
    "#                 lis.append(os.path.join(dirpath, filename))    \n",
    "# budget=40#0\n",
    "# m_ini=10\n",
    "# budgetMM=10\n",
    "# res = []\n",
    "# for instance_name in lis:\n",
    "#   for r1 in [.1,.2,.3,.4,.5]:\n",
    "#     for r2 in [.6,.7,.8,.9,.99]:\n",
    "#       for seed in range(1):\n",
    "#         out_filename = \"pickles/\"+instance_name.replace(\"/\", \"__\").replace(\".txt\", \"\")\n",
    "#         df = runner.run_once(\"UMM\", instance_name, seed,budget = budget, m_ini = m_ini, budgetMM = budgetMM, \n",
    "#                              ratio_samples_learn = r1, weight_mass_learn = r2, out_filename = out_filename)\n",
    "#         print(out_filename,r1, r2,df.Fitness.min())\n",
    "#         res.append([out_filename,ratio_samples_learn, weight_mass_learn,df.Fitness.min()])\n",
    "#         #os.remove(out_filename)"
   ]
  },
  {
   "cell_type": "code",
   "execution_count": 2,
   "metadata": {
    "collapsed": true,
    "execution": {
     "iopub.execute_input": "2020-10-28T18:34:24.954Z",
     "iopub.status.busy": "2020-10-28T18:34:24.935Z",
     "iopub.status.idle": "2020-10-28T18:34:33.433Z",
     "shell.execute_reply": "2020-10-28T18:34:33.534Z"
    },
    "jupyter": {
     "outputs_hidden": false,
     "source_hidden": false
    },
    "nteract": {
     "transient": {
      "deleting": false
     }
    }
   },
   "outputs": [
    {
     "name": "stdout",
     "output_type": "stream",
     "text": [
      "N-atp111\n"
     ]
    },
    {
     "name": "stderr",
     "output_type": "stream",
     "text": [
      "findfont: Font family ['sans-serif'] not found. Falling back to Helvetica.\n",
      "findfont: Font family ['sans-serif'] not found. Falling back to Helvetica.\n"
     ]
    },
    {
     "data": {
      "image/png": "[encoded data removed]",
      "text/plain": [
       "<Figure size 216x144 with 2 Axes>"
      ]
     },
     "metadata": {
      "needs_background": "light"
     },
     "output_type": "display_data"
    },
    {
     "name": "stdout",
     "output_type": "stream",
     "text": [
      "N-atp134\n"
     ]
    },
    {
     "data": {
      "image/png": "[encoded data removed]",
      "text/plain": [
       "<Figure size 216x144 with 2 Axes>"
      ]
     },
     "metadata": {},
     "output_type": "display_data"
    },
    {
     "name": "stdout",
     "output_type": "stream",
     "text": [
      "N-be75eec-150\n"
     ]
    },
    {
     "data": {
      "image/png": "[encoded data removed]",
      "text/plain": [
       "<Figure size 216x144 with 2 Axes>"
      ]
     },
     "metadata": {},
     "output_type": "display_data"
    },
    {
     "name": "stdout",
     "output_type": "stream",
     "text": [
      "N-be75np-150\n"
     ]
    },
    {
     "data": {
      "image/png": "[encoded data removed]",
      "text/plain": [
       "<Figure size 216x144 with 2 Axes>"
      ]
     },
     "metadata": {},
     "output_type": "display_data"
    },
    {
     "name": "stdout",
     "output_type": "stream",
     "text": [
      "N-p50-01\n"
     ]
    },
    {
     "data": {
      "image/png": "[encoded data removed]",
      "text/plain": [
       "<Figure size 216x144 with 2 Axes>"
      ]
     },
     "metadata": {},
     "output_type": "display_data"
    },
    {
     "name": "stdout",
     "output_type": "stream",
     "text": [
      "N-p50-02\n"
     ]
    },
    {
     "data": {
      "image/png": "[encoded data removed]",
      "text/plain": [
       "<Figure size 216x144 with 2 Axes>"
      ]
     },
     "metadata": {},
     "output_type": "display_data"
    },
    {
     "name": "stdout",
     "output_type": "stream",
     "text": [
      "N-t1d100.01\n"
     ]
    },
    {
     "data": {
      "image/png": "[encoded data removed]",
      "text/plain": [
       "<Figure size 216x144 with 2 Axes>"
      ]
     },
     "metadata": {},
     "output_type": "display_data"
    },
    {
     "name": "stdout",
     "output_type": "stream",
     "text": [
      "N-t1d100.02\n"
     ]
    },
    {
     "data": {
      "image/png": "[encoded data removed]",
      "text/plain": [
       "<Figure size 216x144 with 2 Axes>"
      ]
     },
     "metadata": {},
     "output_type": "display_data"
    },
    {
     "name": "stdout",
     "output_type": "stream",
     "text": [
      "N-t1d150.01\n"
     ]
    },
    {
     "data": {
      "image/png": "[encoded data removed]",
      "text/plain": [
       "<Figure size 216x144 with 2 Axes>"
      ]
     },
     "metadata": {},
     "output_type": "display_data"
    },
    {
     "name": "stdout",
     "output_type": "stream",
     "text": [
      "N-t1d150.02\n"
     ]
    },
    {
     "data": {
      "image/png": "[encoded data removed]",
      "text/plain": [
       "<Figure size 216x144 with 2 Axes>"
      ]
     },
     "metadata": {},
     "output_type": "display_data"
    },
    {
     "name": "stdout",
     "output_type": "stream",
     "text": [
      "N-t2d150.01\n"
     ]
    },
    {
     "data": {
      "image/png": "[encoded data removed]",
      "text/plain": [
       "<Figure size 216x144 with 2 Axes>"
      ]
     },
     "metadata": {},
     "output_type": "display_data"
    },
    {
     "name": "stdout",
     "output_type": "stream",
     "text": [
      "N-t2d150.02\n"
     ]
    },
    {
     "data": {
      "image/png": "[encoded data removed]",
      "text/plain": [
       "<Figure size 216x144 with 2 Axes>"
      ]
     },
     "metadata": {},
     "output_type": "display_data"
    },
    {
     "name": "stdout",
     "output_type": "stream",
     "text": [
      "kra32.dat\n"
     ]
    },
    {
     "data": {
      "image/png": "[encoded data removed]",
      "text/plain": [
       "<Figure size 216x144 with 2 Axes>"
      ]
     },
     "metadata": {},
     "output_type": "display_data"
    },
    {
     "name": "stdout",
     "output_type": "stream",
     "text": [
      "nug12.dat\n"
     ]
    },
    {
     "data": {
      "image/png": "[encoded data removed]",
      "text/plain": [
       "<Figure size 216x144 with 2 Axes>"
      ]
     },
     "metadata": {},
     "output_type": "display_data"
    },
    {
     "name": "stdout",
     "output_type": "stream",
     "text": [
      "nug30.dat\n"
     ]
    },
    {
     "data": {
      "image/png": "[encoded data removed]",
      "text/plain": [
       "<Figure size 216x144 with 2 Axes>"
      ]
     },
     "metadata": {},
     "output_type": "display_data"
    },
    {
     "name": "stdout",
     "output_type": "stream",
     "text": [
      "rec05\n"
     ]
    },
    {
     "data": {
      "image/png": "[encoded data removed]",
      "text/plain": [
       "<Figure size 216x144 with 2 Axes>"
      ]
     },
     "metadata": {},
     "output_type": "display_data"
    },
    {
     "name": "stdout",
     "output_type": "stream",
     "text": [
      "rec13\n"
     ]
    },
    {
     "data": {
      "image/png": "[encoded data removed]",
      "text/plain": [
       "<Figure size 216x144 with 2 Axes>"
      ]
     },
     "metadata": {},
     "output_type": "display_data"
    },
    {
     "name": "stdout",
     "output_type": "stream",
     "text": [
      "rec19\n"
     ]
    },
    {
     "data": {
      "image/png": "[encoded data removed]",
      "text/plain": [
       "<Figure size 216x144 with 2 Axes>"
      ]
     },
     "metadata": {},
     "output_type": "display_data"
    },
    {
     "name": "stdout",
     "output_type": "stream",
     "text": [
      "rec31\n"
     ]
    },
    {
     "data": {
      "image/png": "[encoded data removed]",
      "text/plain": [
       "<Figure size 216x144 with 2 Axes>"
      ]
     },
     "metadata": {},
     "output_type": "display_data"
    },
    {
     "name": "stdout",
     "output_type": "stream",
     "text": [
      "tho30.dat\n"
     ]
    },
    {
     "data": {
      "image/png": "[encoded data removed]",
      "text/plain": [
       "<Figure size 216x144 with 2 Axes>"
      ]
     },
     "metadata": {},
     "output_type": "display_data"
    }
   ],
   "source": [
    "df = pd.read_csv('results/results.csv',index_col=0)\n",
    "df.columns = [c if c!='min' else 'best' for c in df.columns]\n",
    "df = pd.pivot_table(df,index=['filename','ratio','weight'],values='best',aggfunc={np.mean,np.min, np.std})#.reset_index()\n",
    "df.columns = ['best_'+ c for c in df.columns]\n",
    "dfres = df.reset_index()\n",
    "dfres\n",
    "for instance_name in dfres.filename.drop_duplicates().values:\n",
    "    print(instance_name, )\n",
    "    plt.figure(figsize=(3,2))\n",
    "    sns.set_style(\"whitegrid\")\n",
    "    square = dfres[dfres.filename == instance_name].pivot_table(index='ratio', columns='weight', values='best_mean')\n",
    "    sns.heatmap(square, cmap=\"viridis\")\n",
    "    plt.tight_layout()\n",
    "    plt.xlabel(r'$r_2$')\n",
    "    plt.ylabel(r'$r_1$')\n",
    "    plt.savefig('img/heatmap_'+instance_name.replace('.','_')+'.pdf')\n",
    "    plt.show()"
   ]
  },
  {
   "cell_type": "code",
   "execution_count": 27,
   "metadata": {
    "collapsed": true,
    "execution": {
     "iopub.execute_input": "2020-10-28T18:45:04.240Z",
     "iopub.status.busy": "2020-10-28T18:45:04.233Z",
     "iopub.status.idle": "2020-10-28T18:45:04.259Z",
     "shell.execute_reply": "2020-10-28T18:45:04.281Z"
    },
    "jupyter": {
     "outputs_hidden": false,
     "source_hidden": false
    },
    "nteract": {
     "transient": {
      "deleting": false
     }
    }
   },
   "outputs": [
    {
     "data": {
      "text/html": [
       "<div>\n",
       "<style scoped>\n",
       "    .dataframe tbody tr th:only-of-type {\n",
       "        vertical-align: middle;\n",
       "    }\n",
       "\n",
       "    .dataframe tbody tr th {\n",
       "        vertical-align: top;\n",
       "    }\n",
       "\n",
       "    .dataframe thead th {\n",
       "        text-align: right;\n",
       "    }\n",
       "</style>\n",
       "<table border=\"1\" class=\"dataframe\">\n",
       "  <thead>\n",
       "    <tr style=\"text-align: right;\">\n",
       "      <th></th>\n",
       "      <th>ratio</th>\n",
       "      <th>weight</th>\n",
       "      <th>filename</th>\n",
       "      <th>best_mean</th>\n",
       "      <th>totalrank</th>\n",
       "    </tr>\n",
       "  </thead>\n",
       "  <tbody>\n",
       "    <tr>\n",
       "      <th>21</th>\n",
       "      <td>0.1</td>\n",
       "      <td>0.70</td>\n",
       "      <td>N-atp134</td>\n",
       "      <td>7.520000e+02</td>\n",
       "      <td>1.0</td>\n",
       "    </tr>\n",
       "    <tr>\n",
       "      <th>45</th>\n",
       "      <td>0.1</td>\n",
       "      <td>0.80</td>\n",
       "      <td>N-t1d150.02</td>\n",
       "      <td>1.769090e+05</td>\n",
       "      <td>1.0</td>\n",
       "    </tr>\n",
       "    <tr>\n",
       "      <th>49</th>\n",
       "      <td>0.1</td>\n",
       "      <td>0.80</td>\n",
       "      <td>nug12.dat</td>\n",
       "      <td>6.544000e+02</td>\n",
       "      <td>1.0</td>\n",
       "    </tr>\n",
       "    <tr>\n",
       "      <th>52</th>\n",
       "      <td>0.1</td>\n",
       "      <td>0.80</td>\n",
       "      <td>rec13</td>\n",
       "      <td>2.151200e+03</td>\n",
       "      <td>1.0</td>\n",
       "    </tr>\n",
       "    <tr>\n",
       "      <th>56</th>\n",
       "      <td>0.1</td>\n",
       "      <td>0.90</td>\n",
       "      <td>N-atp111</td>\n",
       "      <td>5.943333e+02</td>\n",
       "      <td>1.0</td>\n",
       "    </tr>\n",
       "    <tr>\n",
       "      <th>60</th>\n",
       "      <td>0.1</td>\n",
       "      <td>0.90</td>\n",
       "      <td>N-p50-01</td>\n",
       "      <td>2.102760e+04</td>\n",
       "      <td>1.0</td>\n",
       "    </tr>\n",
       "    <tr>\n",
       "      <th>61</th>\n",
       "      <td>0.1</td>\n",
       "      <td>0.90</td>\n",
       "      <td>N-p50-02</td>\n",
       "      <td>2.161360e+04</td>\n",
       "      <td>1.0</td>\n",
       "    </tr>\n",
       "    <tr>\n",
       "      <th>63</th>\n",
       "      <td>0.1</td>\n",
       "      <td>0.90</td>\n",
       "      <td>N-t1d100.02</td>\n",
       "      <td>7.682770e+04</td>\n",
       "      <td>1.0</td>\n",
       "    </tr>\n",
       "    <tr>\n",
       "      <th>64</th>\n",
       "      <td>0.1</td>\n",
       "      <td>0.90</td>\n",
       "      <td>N-t1d150.01</td>\n",
       "      <td>1.796552e+05</td>\n",
       "      <td>1.0</td>\n",
       "    </tr>\n",
       "    <tr>\n",
       "      <th>79</th>\n",
       "      <td>0.1</td>\n",
       "      <td>0.99</td>\n",
       "      <td>N-be75np-150</td>\n",
       "      <td>3.175422e+06</td>\n",
       "      <td>1.0</td>\n",
       "    </tr>\n",
       "    <tr>\n",
       "      <th>82</th>\n",
       "      <td>0.1</td>\n",
       "      <td>0.99</td>\n",
       "      <td>N-t1d100.01</td>\n",
       "      <td>7.576020e+04</td>\n",
       "      <td>1.0</td>\n",
       "    </tr>\n",
       "    <tr>\n",
       "      <th>86</th>\n",
       "      <td>0.1</td>\n",
       "      <td>0.99</td>\n",
       "      <td>N-t2d150.01</td>\n",
       "      <td>1.401333e+04</td>\n",
       "      <td>1.0</td>\n",
       "    </tr>\n",
       "    <tr>\n",
       "      <th>87</th>\n",
       "      <td>0.1</td>\n",
       "      <td>0.99</td>\n",
       "      <td>N-t2d150.02</td>\n",
       "      <td>1.430475e+04</td>\n",
       "      <td>1.0</td>\n",
       "    </tr>\n",
       "    <tr>\n",
       "      <th>135</th>\n",
       "      <td>0.2</td>\n",
       "      <td>0.70</td>\n",
       "      <td>tho30.dat</td>\n",
       "      <td>1.912034e+05</td>\n",
       "      <td>1.0</td>\n",
       "    </tr>\n",
       "    <tr>\n",
       "      <th>178</th>\n",
       "      <td>0.2</td>\n",
       "      <td>0.99</td>\n",
       "      <td>N-be75eec-150</td>\n",
       "      <td>1.391377e+06</td>\n",
       "      <td>1.0</td>\n",
       "    </tr>\n",
       "    <tr>\n",
       "      <th>190</th>\n",
       "      <td>0.2</td>\n",
       "      <td>0.99</td>\n",
       "      <td>nug30.dat</td>\n",
       "      <td>7.456800e+03</td>\n",
       "      <td>1.0</td>\n",
       "    </tr>\n",
       "    <tr>\n",
       "      <th>288</th>\n",
       "      <td>0.3</td>\n",
       "      <td>0.99</td>\n",
       "      <td>kra32.dat</td>\n",
       "      <td>1.152950e+05</td>\n",
       "      <td>1.0</td>\n",
       "    </tr>\n",
       "    <tr>\n",
       "      <th>291</th>\n",
       "      <td>0.3</td>\n",
       "      <td>0.99</td>\n",
       "      <td>rec05</td>\n",
       "      <td>1.317500e+03</td>\n",
       "      <td>1.0</td>\n",
       "    </tr>\n",
       "    <tr>\n",
       "      <th>388</th>\n",
       "      <td>0.4</td>\n",
       "      <td>0.99</td>\n",
       "      <td>rec19</td>\n",
       "      <td>2.390100e+03</td>\n",
       "      <td>1.0</td>\n",
       "    </tr>\n",
       "    <tr>\n",
       "      <th>389</th>\n",
       "      <td>0.4</td>\n",
       "      <td>0.99</td>\n",
       "      <td>rec31</td>\n",
       "      <td>3.528200e+03</td>\n",
       "      <td>1.0</td>\n",
       "    </tr>\n",
       "  </tbody>\n",
       "</table>\n",
       "</div>"
      ],
      "text/plain": [
       "     ratio  weight       filename     best_mean  totalrank\n",
       "21     0.1    0.70       N-atp134  7.520000e+02        1.0\n",
       "45     0.1    0.80    N-t1d150.02  1.769090e+05        1.0\n",
       "49     0.1    0.80      nug12.dat  6.544000e+02        1.0\n",
       "52     0.1    0.80          rec13  2.151200e+03        1.0\n",
       "56     0.1    0.90       N-atp111  5.943333e+02        1.0\n",
       "60     0.1    0.90       N-p50-01  2.102760e+04        1.0\n",
       "61     0.1    0.90       N-p50-02  2.161360e+04        1.0\n",
       "63     0.1    0.90    N-t1d100.02  7.682770e+04        1.0\n",
       "64     0.1    0.90    N-t1d150.01  1.796552e+05        1.0\n",
       "79     0.1    0.99   N-be75np-150  3.175422e+06        1.0\n",
       "82     0.1    0.99    N-t1d100.01  7.576020e+04        1.0\n",
       "86     0.1    0.99    N-t2d150.01  1.401333e+04        1.0\n",
       "87     0.1    0.99    N-t2d150.02  1.430475e+04        1.0\n",
       "135    0.2    0.70      tho30.dat  1.912034e+05        1.0\n",
       "178    0.2    0.99  N-be75eec-150  1.391377e+06        1.0\n",
       "190    0.2    0.99      nug30.dat  7.456800e+03        1.0\n",
       "288    0.3    0.99      kra32.dat  1.152950e+05        1.0\n",
       "291    0.3    0.99          rec05  1.317500e+03        1.0\n",
       "388    0.4    0.99          rec19  2.390100e+03        1.0\n",
       "389    0.4    0.99          rec31  3.528200e+03        1.0"
      ]
     },
     "execution_count": 27,
     "metadata": {},
     "output_type": "execute_result"
    }
   ],
   "source": [
    "a = dfres.groupby(['ratio','weight','filename']).best_mean.mean().reset_index()\n",
    "a#.groupby('filename').rank()\n",
    "a[\"totalrank\"] = a.groupby(\"filename\")[\"best_mean\"].rank(\"dense\", ascending=True)\n",
    "a[a.filename=='N-atp111']\n",
    "a\n",
    "a[a.totalrank==1]"
   ]
  },
  {
   "cell_type": "markdown",
   "metadata": {
    "nteract": {
     "transient": {
      "deleting": false
     }
    }
   },
   "source": [
    "## Synthetic datasets (LOP)\n",
    "\n",
    "\n",
    "  The instances $M$ follow this distribution $M_\\phi[i,j]$\n",
    "  $$M_\\phi[i,j] = h(j-i+1,\\phi) - h(j-i,\\phi),$$ where $$h(k,\\phi)=\\frac{k}{1-\\phi^k} \\enspace.$$\n",
    "  \n",
    "Taking different values of $\\phi$ we controll the uniformity of $M$.\n",
    "  \n",
    "In the next cell we plot the results over the synthetic instances"
   ]
  },
  {
   "cell_type": "code",
   "execution_count": 3,
   "metadata": {
    "execution": {
     "iopub.execute_input": "2020-10-26T18:24:41.526Z",
     "iopub.status.busy": "2020-10-26T18:24:41.519Z",
     "iopub.status.idle": "2020-10-26T18:25:59.033Z",
     "shell.execute_reply": "2020-10-26T18:25:59.082Z"
    },
    "jupyter": {
     "outputs_hidden": false,
     "source_hidden": false
    },
    "nteract": {
     "transient": {
      "deleting": false
     }
    }
   },
   "outputs": [
    {
     "name": "stdout",
     "output_type": "stream",
     "text": [
      "<class 'pandas.core.frame.DataFrame'>\n",
      "Int64Index: 24000 entries, 0 to 399\n",
      "Data columns (total 18 columns):\n",
      " #   Column                Non-Null Count  Dtype  \n",
      "---  ------                --------------  -----  \n",
      " 0   rho                   11700 non-null  float64\n",
      " 1   phi_estim             11700 non-null  float64\n",
      " 2   phi_sample            11700 non-null  float64\n",
      " 3   Distance              24000 non-null  float64\n",
      " 4   Fitness               24000 non-null  float64\n",
      " 5   x                     24000 non-null  object \n",
      " 6   m_ini                 24000 non-null  int64  \n",
      " 7   seed                  24000 non-null  int64  \n",
      " 8   budget                24000 non-null  int64  \n",
      " 9   budgetMM              12000 non-null  float64\n",
      " 10  ratio_samples_learn   12000 non-null  float64\n",
      " 11  weight_mass_learn     12000 non-null  float64\n",
      " 12  Function evaluations  24000 non-null  int64  \n",
      " 13  run_time              24000 non-null  float64\n",
      " 14  Problem               24000 non-null  object \n",
      " 15  instance              24000 non-null  object \n",
      " 16  Solver                24000 non-null  object \n",
      " 17  budgetGA              12000 non-null  float64\n",
      "dtypes: float64(10), int64(4), object(4)\n",
      "memory usage: 3.5+ MB\n"
     ]
    }
   ],
   "source": [
    "# Compare synthetic data in the same plot.\n",
    "# Compare the convergence to lowest fitness funtion values by the two solvers\n",
    "# MANUEL: Can we read it in one go?\n",
    "lis = []\n",
    "for filename in glob.glob(\"./results/LOP-synthetic*/*.pkl.gz\"):\n",
    "    lis.append(pd.read_pickle(filename))\n",
    "df = pd.concat(lis)\n",
    "df.info()"
   ]
  },
  {
   "cell_type": "code",
   "execution_count": 6,
   "metadata": {
    "execution": {
     "iopub.execute_input": "2020-10-26T18:24:41.526Z",
     "iopub.status.busy": "2020-10-26T18:24:41.519Z",
     "iopub.status.idle": "2020-10-26T18:25:59.033Z",
     "shell.execute_reply": "2020-10-26T18:25:59.082Z"
    },
    "jupyter": {
     "outputs_hidden": false,
     "source_hidden": false
    },
    "nteract": {
     "transient": {
      "deleting": false
     }
    }
   },
   "outputs": [
    {
     "ename": "KeyError",
     "evalue": "'Uniformity'",
     "output_type": "error",
     "traceback": [
      "\u001b[0;31m---------------------------------------------------------------------------\u001b[0m",
      "\u001b[0;31mKeyError\u001b[0m                                  Traceback (most recent call last)",
      "\u001b[0;32m~/.local/lib/python3.6/site-packages/pandas/core/indexes/base.py\u001b[0m in \u001b[0;36mget_loc\u001b[0;34m(self, key, method, tolerance)\u001b[0m\n\u001b[1;32m   2894\u001b[0m             \u001b[0;32mtry\u001b[0m\u001b[0;34m:\u001b[0m\u001b[0;34m\u001b[0m\u001b[0;34m\u001b[0m\u001b[0m\n\u001b[0;32m-> 2895\u001b[0;31m                 \u001b[0;32mreturn\u001b[0m \u001b[0mself\u001b[0m\u001b[0;34m.\u001b[0m\u001b[0m_engine\u001b[0m\u001b[0;34m.\u001b[0m\u001b[0mget_loc\u001b[0m\u001b[0;34m(\u001b[0m\u001b[0mcasted_key\u001b[0m\u001b[0;34m)\u001b[0m\u001b[0;34m\u001b[0m\u001b[0;34m\u001b[0m\u001b[0m\n\u001b[0m\u001b[1;32m   2896\u001b[0m             \u001b[0;32mexcept\u001b[0m \u001b[0mKeyError\u001b[0m \u001b[0;32mas\u001b[0m \u001b[0merr\u001b[0m\u001b[0;34m:\u001b[0m\u001b[0;34m\u001b[0m\u001b[0;34m\u001b[0m\u001b[0m\n",
      "\u001b[0;32mpandas/_libs/index.pyx\u001b[0m in \u001b[0;36mpandas._libs.index.IndexEngine.get_loc\u001b[0;34m()\u001b[0m\n",
      "\u001b[0;32mpandas/_libs/index.pyx\u001b[0m in \u001b[0;36mpandas._libs.index.IndexEngine.get_loc\u001b[0;34m()\u001b[0m\n",
      "\u001b[0;32mpandas/_libs/hashtable_class_helper.pxi\u001b[0m in \u001b[0;36mpandas._libs.hashtable.PyObjectHashTable.get_item\u001b[0;34m()\u001b[0m\n",
      "\u001b[0;32mpandas/_libs/hashtable_class_helper.pxi\u001b[0m in \u001b[0;36mpandas._libs.hashtable.PyObjectHashTable.get_item\u001b[0;34m()\u001b[0m\n",
      "\u001b[0;31mKeyError\u001b[0m: 'Uniformity'",
      "\nThe above exception was the direct cause of the following exception:\n",
      "\u001b[0;31mKeyError\u001b[0m                                  Traceback (most recent call last)",
      "\u001b[0;32m<ipython-input-6-46733754cc1b>\u001b[0m in \u001b[0;36m<module>\u001b[0;34m\u001b[0m\n\u001b[1;32m      4\u001b[0m \u001b[0mcolor_variable\u001b[0m \u001b[0;34m=\u001b[0m \u001b[0;34m'Uniformity'\u001b[0m\u001b[0;34m\u001b[0m\u001b[0;34m\u001b[0m\u001b[0m\n\u001b[1;32m      5\u001b[0m \u001b[0my_variables\u001b[0m \u001b[0;34m=\u001b[0m \u001b[0;34m[\u001b[0m\u001b[0;34m'Fitness'\u001b[0m\u001b[0;34m]\u001b[0m\u001b[0;31m#,'Distance','phi_sample'\u001b[0m\u001b[0;34m\u001b[0m\u001b[0;34m\u001b[0m\u001b[0m\n\u001b[0;32m----> 6\u001b[0;31m \u001b[0mpalette\u001b[0m \u001b[0;34m=\u001b[0m \u001b[0msns\u001b[0m\u001b[0;34m.\u001b[0m\u001b[0mcolor_palette\u001b[0m\u001b[0;34m(\u001b[0m\u001b[0;34m\"husl\"\u001b[0m\u001b[0;34m,\u001b[0m \u001b[0mlen\u001b[0m\u001b[0;34m(\u001b[0m\u001b[0mdf\u001b[0m\u001b[0;34m[\u001b[0m\u001b[0mcolor_variable\u001b[0m\u001b[0;34m]\u001b[0m\u001b[0;34m.\u001b[0m\u001b[0mdrop_duplicates\u001b[0m\u001b[0;34m(\u001b[0m\u001b[0;34m)\u001b[0m\u001b[0;34m)\u001b[0m\u001b[0;34m)\u001b[0m\u001b[0;34m\u001b[0m\u001b[0;34m\u001b[0m\u001b[0m\n\u001b[0m\u001b[1;32m      7\u001b[0m \u001b[0;32mfor\u001b[0m \u001b[0my_variable\u001b[0m \u001b[0;32min\u001b[0m \u001b[0my_variables\u001b[0m\u001b[0;34m:\u001b[0m\u001b[0;34m\u001b[0m\u001b[0;34m\u001b[0m\u001b[0m\n\u001b[1;32m      8\u001b[0m     \u001b[0mplt\u001b[0m\u001b[0;34m.\u001b[0m\u001b[0mfigure\u001b[0m\u001b[0;34m(\u001b[0m\u001b[0mfigsize\u001b[0m\u001b[0;34m=\u001b[0m\u001b[0;34m(\u001b[0m\u001b[0;36m8\u001b[0m\u001b[0;34m,\u001b[0m\u001b[0;36m3\u001b[0m\u001b[0;34m)\u001b[0m\u001b[0;34m)\u001b[0m\u001b[0;34m\u001b[0m\u001b[0;34m\u001b[0m\u001b[0m\n",
      "\u001b[0;32m~/.local/lib/python3.6/site-packages/pandas/core/frame.py\u001b[0m in \u001b[0;36m__getitem__\u001b[0;34m(self, key)\u001b[0m\n\u001b[1;32m   2900\u001b[0m             \u001b[0;32mif\u001b[0m \u001b[0mself\u001b[0m\u001b[0;34m.\u001b[0m\u001b[0mcolumns\u001b[0m\u001b[0;34m.\u001b[0m\u001b[0mnlevels\u001b[0m \u001b[0;34m>\u001b[0m \u001b[0;36m1\u001b[0m\u001b[0;34m:\u001b[0m\u001b[0;34m\u001b[0m\u001b[0;34m\u001b[0m\u001b[0m\n\u001b[1;32m   2901\u001b[0m                 \u001b[0;32mreturn\u001b[0m \u001b[0mself\u001b[0m\u001b[0;34m.\u001b[0m\u001b[0m_getitem_multilevel\u001b[0m\u001b[0;34m(\u001b[0m\u001b[0mkey\u001b[0m\u001b[0;34m)\u001b[0m\u001b[0;34m\u001b[0m\u001b[0;34m\u001b[0m\u001b[0m\n\u001b[0;32m-> 2902\u001b[0;31m             \u001b[0mindexer\u001b[0m \u001b[0;34m=\u001b[0m \u001b[0mself\u001b[0m\u001b[0;34m.\u001b[0m\u001b[0mcolumns\u001b[0m\u001b[0;34m.\u001b[0m\u001b[0mget_loc\u001b[0m\u001b[0;34m(\u001b[0m\u001b[0mkey\u001b[0m\u001b[0;34m)\u001b[0m\u001b[0;34m\u001b[0m\u001b[0;34m\u001b[0m\u001b[0m\n\u001b[0m\u001b[1;32m   2903\u001b[0m             \u001b[0;32mif\u001b[0m \u001b[0mis_integer\u001b[0m\u001b[0;34m(\u001b[0m\u001b[0mindexer\u001b[0m\u001b[0;34m)\u001b[0m\u001b[0;34m:\u001b[0m\u001b[0;34m\u001b[0m\u001b[0;34m\u001b[0m\u001b[0m\n\u001b[1;32m   2904\u001b[0m                 \u001b[0mindexer\u001b[0m \u001b[0;34m=\u001b[0m \u001b[0;34m[\u001b[0m\u001b[0mindexer\u001b[0m\u001b[0;34m]\u001b[0m\u001b[0;34m\u001b[0m\u001b[0;34m\u001b[0m\u001b[0m\n",
      "\u001b[0;32m~/.local/lib/python3.6/site-packages/pandas/core/indexes/base.py\u001b[0m in \u001b[0;36mget_loc\u001b[0;34m(self, key, method, tolerance)\u001b[0m\n\u001b[1;32m   2895\u001b[0m                 \u001b[0;32mreturn\u001b[0m \u001b[0mself\u001b[0m\u001b[0;34m.\u001b[0m\u001b[0m_engine\u001b[0m\u001b[0;34m.\u001b[0m\u001b[0mget_loc\u001b[0m\u001b[0;34m(\u001b[0m\u001b[0mcasted_key\u001b[0m\u001b[0;34m)\u001b[0m\u001b[0;34m\u001b[0m\u001b[0;34m\u001b[0m\u001b[0m\n\u001b[1;32m   2896\u001b[0m             \u001b[0;32mexcept\u001b[0m \u001b[0mKeyError\u001b[0m \u001b[0;32mas\u001b[0m \u001b[0merr\u001b[0m\u001b[0;34m:\u001b[0m\u001b[0;34m\u001b[0m\u001b[0;34m\u001b[0m\u001b[0m\n\u001b[0;32m-> 2897\u001b[0;31m                 \u001b[0;32mraise\u001b[0m \u001b[0mKeyError\u001b[0m\u001b[0;34m(\u001b[0m\u001b[0mkey\u001b[0m\u001b[0;34m)\u001b[0m \u001b[0;32mfrom\u001b[0m \u001b[0merr\u001b[0m\u001b[0;34m\u001b[0m\u001b[0;34m\u001b[0m\u001b[0m\n\u001b[0m\u001b[1;32m   2898\u001b[0m \u001b[0;34m\u001b[0m\u001b[0m\n\u001b[1;32m   2899\u001b[0m         \u001b[0;32mif\u001b[0m \u001b[0mtolerance\u001b[0m \u001b[0;32mis\u001b[0m \u001b[0;32mnot\u001b[0m \u001b[0;32mNone\u001b[0m\u001b[0;34m:\u001b[0m\u001b[0;34m\u001b[0m\u001b[0;34m\u001b[0m\u001b[0m\n",
      "\u001b[0;31mKeyError\u001b[0m: 'Uniformity'"
     ]
    }
   ],
   "source": [
    "# MANUEL: I'm not sure what this does so I'm tempted to delete it.\n",
    "#print(\"Ranking of the solvers by fitness\")\n",
    "#print(df.groupby(['Solver','seed']).Fitness.min().reset_index().sort_values(by='Fitness').Solver)\n",
    "color_variable = 'Uniformity'\n",
    "y_variables = ['Fitness']#,'Distance','phi_sample'\n",
    "palette = sns.color_palette(\"husl\", len(df[color_variable].drop_duplicates()))\n",
    "for y_variable in y_variables:\n",
    "    plt.figure(figsize=(8,3))\n",
    "    g = sns.lineplot(x='Function evaluations',y=y_variable,style='Solver', hue=color_variable,data=df, palette=palette)\n",
    "    g.set_title('Synthetic LOP')\n",
    "    plt.tight_layout()\n",
    "    plt.savefig('img/synthetic_LOP_combined.pdf')\n",
    "    plt.show()"
   ]
  },
  {
   "cell_type": "markdown",
   "metadata": {
    "nteract": {
     "transient": {
      "deleting": false
     }
    }
   },
   "source": [
    "## Real datasets (LOP, QAP, PFSP)\n",
    "In the following lines we load the results of the real dataset for CEGO and UMM, plot the results and make the comparison table"
   ]
  },
  {
   "cell_type": "code",
   "execution_count": 3,
   "metadata": {
    "execution": {
     "iopub.execute_input": "2020-11-11T16:07:11.709Z",
     "iopub.status.busy": "2020-11-11T16:07:11.697Z",
     "iopub.status.idle": "2020-11-11T16:07:13.644Z",
     "shell.execute_reply": "2020-11-11T16:07:13.656Z"
    },
    "jupyter": {
     "outputs_hidden": false,
     "source_hidden": false
    },
    "nteract": {
     "transient": {
      "deleting": false
     }
    }
   },
   "outputs": [],
   "source": [
    "lis = []\n",
    "for folder in ['results/lop/','results/pfsp/', 'results/qap/']: \n",
    "    for dirpath, dirnames, filenames in os.walk(folder):\n",
    "        for filename in [f for f in filenames if f.endswith(\".pkl.gz\")]:\n",
    "            lis.append(pd.read_pickle(os.path.join(dirpath, filename)))\n",
    "dfcego = pd.concat(lis)\n",
    "dfumm = pd.concat([pd.read_pickle('pickles/'+filename) for filename in os.listdir('pickles') if 'pkl.gz'in filename])\n",
    "dfumm['instance'] = dfumm['instance'].str[2:] # to remove the initial ./\n"
   ]
  },
  {
   "cell_type": "code",
   "execution_count": 4,
   "metadata": {
    "execution": {
     "iopub.execute_input": "2020-11-11T16:07:14.293Z",
     "iopub.status.busy": "2020-11-11T16:07:14.283Z",
     "iopub.status.idle": "2020-11-11T16:07:28.019Z",
     "shell.execute_reply": "2020-11-11T16:07:28.036Z"
    },
    "jupyter": {
     "outputs_hidden": false,
     "source_hidden": false
    },
    "nteract": {
     "transient": {
      "deleting": false
     }
    }
   },
   "outputs": [
    {
     "name": "stdout",
     "output_type": "stream",
     "text": [
      "Instance:  kra32\n",
      "Saving to img/fitness_real_qap_kra32_dat.pdf\n"
     ]
    },
    {
     "name": "stderr",
     "output_type": "stream",
     "text": [
      "findfont: Font family ['sans-serif'] not found. Falling back to Helvetica.\n",
      "findfont: Font family ['sans-serif'] not found. Falling back to Helvetica.\n"
     ]
    },
    {
     "data": {
      "image/png": "[encoded data removed]",
      "text/plain": [
       "<Figure size 576x216 with 1 Axes>"
      ]
     },
     "metadata": {},
     "output_type": "display_data"
    }
   ],
   "source": [
    "dfselected = pd.read_csv('lop/best_fitness_selected.txt',sep='\\t')\n",
    "dfselected\n",
    "for inst in ['kra32']:# dfselected.instance_name.values:\n",
    "  print(\"Instance: \", inst)\n",
    "  df = pd.concat([dfumm[dfumm.instance.str.contains(inst)], dfcego[dfcego.instance.str.contains(inst)]],sort=False)\n",
    "  if len(df) > 0:\n",
    "    plt.figure(figsize=(8,3))\n",
    "    palette = sns.color_palette(\"husl\", len(df['Solver'].drop_duplicates()))\n",
    "    g = sns.lineplot(x='Function evaluations',y='Fitness',hue='Solver',data=df, palette=palette)\n",
    "    g.set_title('Problem: '+df.Problem.iloc[0]+', Instance: '+ inst)\n",
    "    plt.tight_layout()\n",
    "    filename = 'img/fitness_real_'+df.instance.iloc[0].replace('/','_').replace('.','_')+'.pdf'\n",
    "    print(\"Saving to \" + filename)\n",
    "    plt.savefig(filename)\n",
    "    plt.show()\n"
   ]
  },
  {
   "cell_type": "markdown",
   "metadata": {
    "nteract": {
     "transient": {
      "deleting": false
     }
    }
   },
   "source": [
    "## Summary of the results\n",
    "\n",
    "Table with the summary of the results"
   ]
  },
  {
   "cell_type": "code",
   "execution_count": 20,
   "metadata": {},
   "outputs": [],
   "source": []
  },
  {
   "cell_type": "code",
   "execution_count": 5,
   "metadata": {
    "execution": {
     "iopub.execute_input": "2020-11-11T16:09:09.407Z",
     "iopub.status.busy": "2020-11-11T16:09:09.398Z",
     "iopub.status.idle": "2020-11-11T16:09:09.561Z",
     "shell.execute_reply": "2020-11-11T16:09:09.590Z"
    },
    "jupyter": {
     "outputs_hidden": false,
     "source_hidden": false
    },
    "nteract": {
     "transient": {
      "deleting": false
     }
    }
   },
   "outputs": [
    {
     "data": {
      "text/html": [
       "<div>\n",
       "<style scoped>\n",
       "    .dataframe tbody tr th:only-of-type {\n",
       "        vertical-align: middle;\n",
       "    }\n",
       "\n",
       "    .dataframe tbody tr th {\n",
       "        vertical-align: top;\n",
       "    }\n",
       "\n",
       "    .dataframe thead th {\n",
       "        text-align: right;\n",
       "    }\n",
       "</style>\n",
       "<table border=\"1\" class=\"dataframe\">\n",
       "  <thead>\n",
       "    <tr style=\"text-align: right;\">\n",
       "      <th></th>\n",
       "      <th>Problem</th>\n",
       "      <th>Instance</th>\n",
       "      <th>UMM fitness</th>\n",
       "      <th>CEGO fitness</th>\n",
       "      <th>Confidence interval</th>\n",
       "      <th>UMM Runtime</th>\n",
       "      <th>CEGO Runtime</th>\n",
       "      <th>CEGO F. evaluations</th>\n",
       "    </tr>\n",
       "  </thead>\n",
       "  <tbody>\n",
       "    <tr>\n",
       "      <th>0</th>\n",
       "      <td>LOP</td>\n",
       "      <td>N-t1d100.01</td>\n",
       "      <td>76119.6 (915.4)</td>\n",
       "      <td>78012.0 (432.1)</td>\n",
       "      <td>(1199.9, 2584.9)</td>\n",
       "      <td>3.2</td>\n",
       "      <td>145.1</td>\n",
       "      <td>158.3</td>\n",
       "    </tr>\n",
       "    <tr>\n",
       "      <th>1</th>\n",
       "      <td>LOP</td>\n",
       "      <td>N-t1d100.02</td>\n",
       "      <td>76827.7 (891.0)</td>\n",
       "      <td>78834.0 (477.8)</td>\n",
       "      <td>(1319.6, 2693.0)</td>\n",
       "      <td>3.2</td>\n",
       "      <td>144.7</td>\n",
       "      <td>156.0</td>\n",
       "    </tr>\n",
       "    <tr>\n",
       "      <th>2</th>\n",
       "      <td>LOP</td>\n",
       "      <td>N-t1d150.01</td>\n",
       "      <td>179508.3 (1647.9)</td>\n",
       "      <td>186969.0 (2094.6)</td>\n",
       "      <td>(5683.0, 9238.4)</td>\n",
       "      <td>6.5</td>\n",
       "      <td>145.7</td>\n",
       "      <td>103.9</td>\n",
       "    </tr>\n",
       "    <tr>\n",
       "      <th>3</th>\n",
       "      <td>LOP</td>\n",
       "      <td>N-t1d150.02</td>\n",
       "      <td>177592.8 (1196.2)</td>\n",
       "      <td>183414.7 (779.2)</td>\n",
       "      <td>(4862.2, 6781.6)</td>\n",
       "      <td>6.5</td>\n",
       "      <td>145.3</td>\n",
       "      <td>103.6</td>\n",
       "    </tr>\n",
       "    <tr>\n",
       "      <th>4</th>\n",
       "      <td>LOP</td>\n",
       "      <td>N-t1d200.01</td>\n",
       "      <td>323513.6 (1371.2)</td>\n",
       "      <td>333804.1 (1191.9)</td>\n",
       "      <td>(9081.7, 11499.3)</td>\n",
       "      <td>10.7</td>\n",
       "      <td>145.4</td>\n",
       "      <td>77.7</td>\n",
       "    </tr>\n",
       "    <tr>\n",
       "      <th>5</th>\n",
       "      <td>LOP</td>\n",
       "      <td>N-t1d200.02</td>\n",
       "      <td>319675.8 (2242.6)</td>\n",
       "      <td>331730.9 (2819.7)</td>\n",
       "      <td>(9652.8, 14457.4)</td>\n",
       "      <td>10.6</td>\n",
       "      <td>145.9</td>\n",
       "      <td>78.2</td>\n",
       "    </tr>\n",
       "    <tr>\n",
       "      <th>6</th>\n",
       "      <td>LOP</td>\n",
       "      <td>N-t2d150.01</td>\n",
       "      <td>15297.7 (563.5)</td>\n",
       "      <td>22207.3 (1667.3)</td>\n",
       "      <td>(5685.1, 8134.1)</td>\n",
       "      <td>7.0</td>\n",
       "      <td>145.5</td>\n",
       "      <td>104.5</td>\n",
       "    </tr>\n",
       "    <tr>\n",
       "      <th>7</th>\n",
       "      <td>LOP</td>\n",
       "      <td>N-t2d150.02</td>\n",
       "      <td>14724.9 (667.5)</td>\n",
       "      <td>22036.0 (744.7)</td>\n",
       "      <td>(6646.1, 7976.1)</td>\n",
       "      <td>7.1</td>\n",
       "      <td>145.0</td>\n",
       "      <td>103.1</td>\n",
       "    </tr>\n",
       "    <tr>\n",
       "      <th>8</th>\n",
       "      <td>LOP</td>\n",
       "      <td>N-t2d200.01</td>\n",
       "      <td>33465.2 (2001.0)</td>\n",
       "      <td>54043.6 (1477.6)</td>\n",
       "      <td>(18915.5, 22241.3)</td>\n",
       "      <td>11.2</td>\n",
       "      <td>146.7</td>\n",
       "      <td>78.2</td>\n",
       "    </tr>\n",
       "    <tr>\n",
       "      <th>9</th>\n",
       "      <td>LOP</td>\n",
       "      <td>N-t2d200.02</td>\n",
       "      <td>35901.8 (2077.5)</td>\n",
       "      <td>52787.0 (4194.2)</td>\n",
       "      <td>(13691.7, 20078.7)</td>\n",
       "      <td>11.2</td>\n",
       "      <td>145.7</td>\n",
       "      <td>78.9</td>\n",
       "    </tr>\n",
       "    <tr>\n",
       "      <th>10</th>\n",
       "      <td>LOP</td>\n",
       "      <td>N-p50-01</td>\n",
       "      <td>21027.6 (711.8)</td>\n",
       "      <td>21034.3 (183.9)</td>\n",
       "      <td>(-510.0, 523.4)</td>\n",
       "      <td>0.9</td>\n",
       "      <td>144.6</td>\n",
       "      <td>305.8</td>\n",
       "    </tr>\n",
       "    <tr>\n",
       "      <th>11</th>\n",
       "      <td>LOP</td>\n",
       "      <td>N-p50-02</td>\n",
       "      <td>21613.6 (596.4)</td>\n",
       "      <td>21767.3 (254.9)</td>\n",
       "      <td>(-292.4, 599.8)</td>\n",
       "      <td>0.9</td>\n",
       "      <td>144.5</td>\n",
       "      <td>315.1</td>\n",
       "    </tr>\n",
       "    <tr>\n",
       "      <th>12</th>\n",
       "      <td>LOP</td>\n",
       "      <td>N-atp111</td>\n",
       "      <td>594.0 (15.4)</td>\n",
       "      <td>668.5 (9.4)</td>\n",
       "      <td>(62.3, 86.7)</td>\n",
       "      <td>4.1</td>\n",
       "      <td>145.1</td>\n",
       "      <td>137.9</td>\n",
       "    </tr>\n",
       "    <tr>\n",
       "      <th>13</th>\n",
       "      <td>LOP</td>\n",
       "      <td>N-atp134</td>\n",
       "      <td>756.3 (21.3)</td>\n",
       "      <td>856.4 (12.2)</td>\n",
       "      <td>(83.5, 116.7)</td>\n",
       "      <td>5.7</td>\n",
       "      <td>145.0</td>\n",
       "      <td>116.5</td>\n",
       "    </tr>\n",
       "    <tr>\n",
       "      <th>14</th>\n",
       "      <td>LOP</td>\n",
       "      <td>N-be75eec_150</td>\n",
       "      <td>1415208.5 (58593.5)</td>\n",
       "      <td>1592220.8 (29945.9)</td>\n",
       "      <td>(132194.6, 221830.0)</td>\n",
       "      <td>6.9</td>\n",
       "      <td>145.9</td>\n",
       "      <td>103.2</td>\n",
       "    </tr>\n",
       "    <tr>\n",
       "      <th>15</th>\n",
       "      <td>LOP</td>\n",
       "      <td>N-be75eec_250</td>\n",
       "      <td>4431271.0 (109756.7)</td>\n",
       "      <td>5098734.4 (172874.0)</td>\n",
       "      <td>(529631.9, 805294.9)</td>\n",
       "      <td>15.5</td>\n",
       "      <td>146.7</td>\n",
       "      <td>63.0</td>\n",
       "    </tr>\n",
       "    <tr>\n",
       "      <th>16</th>\n",
       "      <td>LOP</td>\n",
       "      <td>N-be75np_150</td>\n",
       "      <td>3204878.3 (80704.1)</td>\n",
       "      <td>3669753.9 (74292.3)</td>\n",
       "      <td>(391963.4, 537787.8)</td>\n",
       "      <td>6.9</td>\n",
       "      <td>145.5</td>\n",
       "      <td>105.2</td>\n",
       "    </tr>\n",
       "    <tr>\n",
       "      <th>17</th>\n",
       "      <td>LOP</td>\n",
       "      <td>N-be75np_250</td>\n",
       "      <td>9544754.9 (260523.9)</td>\n",
       "      <td>10818828.5 (127722.3)</td>\n",
       "      <td>(1075992.3, 1472154.9)</td>\n",
       "      <td>15.5</td>\n",
       "      <td>146.4</td>\n",
       "      <td>62.5</td>\n",
       "    </tr>\n",
       "    <tr>\n",
       "      <th>18</th>\n",
       "      <td>PFSP</td>\n",
       "      <td>rec05.txt</td>\n",
       "      <td>1330.7 (17.9)</td>\n",
       "      <td>1317.9 (25.1)</td>\n",
       "      <td>(-33.4, 7.8)</td>\n",
       "      <td>0.1</td>\n",
       "      <td>38.6</td>\n",
       "      <td>400.0</td>\n",
       "    </tr>\n",
       "    <tr>\n",
       "      <th>19</th>\n",
       "      <td>PFSP</td>\n",
       "      <td>rec13.txt</td>\n",
       "      <td>2158.7 (29.5)</td>\n",
       "      <td>2128.2 (25.0)</td>\n",
       "      <td>(-56.2, -4.8)</td>\n",
       "      <td>0.1</td>\n",
       "      <td>38.1</td>\n",
       "      <td>400.0</td>\n",
       "    </tr>\n",
       "    <tr>\n",
       "      <th>20</th>\n",
       "      <td>PFSP</td>\n",
       "      <td>rec19.txt</td>\n",
       "      <td>2405.1 (12.6)</td>\n",
       "      <td>2398.6 (19.8)</td>\n",
       "      <td>(-22.3, 9.3)</td>\n",
       "      <td>0.3</td>\n",
       "      <td>82.1</td>\n",
       "      <td>400.0</td>\n",
       "    </tr>\n",
       "    <tr>\n",
       "      <th>21</th>\n",
       "      <td>PFSP</td>\n",
       "      <td>rec31.txt</td>\n",
       "      <td>3561.7 (15.8)</td>\n",
       "      <td>3567.3 (42.4)</td>\n",
       "      <td>(-25.8, 37.0)</td>\n",
       "      <td>0.9</td>\n",
       "      <td>72.3</td>\n",
       "      <td>218.3</td>\n",
       "    </tr>\n",
       "    <tr>\n",
       "      <th>22</th>\n",
       "      <td>QAP</td>\n",
       "      <td>kra32.dat</td>\n",
       "      <td>116320.0 (4673.5)</td>\n",
       "      <td>116260.0 (4802.5)</td>\n",
       "      <td>(-4663.5, 4543.5)</td>\n",
       "      <td>0.3</td>\n",
       "      <td>92.7</td>\n",
       "      <td>400.0</td>\n",
       "    </tr>\n",
       "    <tr>\n",
       "      <th>23</th>\n",
       "      <td>QAP</td>\n",
       "      <td>nug12.dat</td>\n",
       "      <td>660.4 (17.3)</td>\n",
       "      <td>624.2 (26.3)</td>\n",
       "      <td>(-57.3, -15.1)</td>\n",
       "      <td>0.0</td>\n",
       "      <td>14.8</td>\n",
       "      <td>400.0</td>\n",
       "    </tr>\n",
       "    <tr>\n",
       "      <th>24</th>\n",
       "      <td>QAP</td>\n",
       "      <td>nug30.dat</td>\n",
       "      <td>7474.0 (83.9)</td>\n",
       "      <td>7486.8 (40.4)</td>\n",
       "      <td>(-50.8, 76.4)</td>\n",
       "      <td>0.3</td>\n",
       "      <td>84.2</td>\n",
       "      <td>400.0</td>\n",
       "    </tr>\n",
       "    <tr>\n",
       "      <th>25</th>\n",
       "      <td>QAP</td>\n",
       "      <td>tho30.dat</td>\n",
       "      <td>191482.0 (4419.7)</td>\n",
       "      <td>192416.0 (2584.2)</td>\n",
       "      <td>(-2527.0, 4395.0)</td>\n",
       "      <td>0.3</td>\n",
       "      <td>84.3</td>\n",
       "      <td>400.0</td>\n",
       "    </tr>\n",
       "  </tbody>\n",
       "</table>\n",
       "</div>"
      ],
      "text/plain": [
       "   Problem       Instance           UMM fitness           CEGO fitness  \\\n",
       "0      LOP    N-t1d100.01       76119.6 (915.4)        78012.0 (432.1)   \n",
       "1      LOP    N-t1d100.02       76827.7 (891.0)        78834.0 (477.8)   \n",
       "2      LOP    N-t1d150.01     179508.3 (1647.9)      186969.0 (2094.6)   \n",
       "3      LOP    N-t1d150.02     177592.8 (1196.2)       183414.7 (779.2)   \n",
       "4      LOP    N-t1d200.01     323513.6 (1371.2)      333804.1 (1191.9)   \n",
       "5      LOP    N-t1d200.02     319675.8 (2242.6)      331730.9 (2819.7)   \n",
       "6      LOP    N-t2d150.01       15297.7 (563.5)       22207.3 (1667.3)   \n",
       "7      LOP    N-t2d150.02       14724.9 (667.5)        22036.0 (744.7)   \n",
       "8      LOP    N-t2d200.01      33465.2 (2001.0)       54043.6 (1477.6)   \n",
       "9      LOP    N-t2d200.02      35901.8 (2077.5)       52787.0 (4194.2)   \n",
       "10     LOP       N-p50-01       21027.6 (711.8)        21034.3 (183.9)   \n",
       "11     LOP       N-p50-02       21613.6 (596.4)        21767.3 (254.9)   \n",
       "12     LOP       N-atp111          594.0 (15.4)            668.5 (9.4)   \n",
       "13     LOP       N-atp134          756.3 (21.3)           856.4 (12.2)   \n",
       "14     LOP  N-be75eec_150   1415208.5 (58593.5)    1592220.8 (29945.9)   \n",
       "15     LOP  N-be75eec_250  4431271.0 (109756.7)   5098734.4 (172874.0)   \n",
       "16     LOP   N-be75np_150   3204878.3 (80704.1)    3669753.9 (74292.3)   \n",
       "17     LOP   N-be75np_250  9544754.9 (260523.9)  10818828.5 (127722.3)   \n",
       "18    PFSP      rec05.txt         1330.7 (17.9)          1317.9 (25.1)   \n",
       "19    PFSP      rec13.txt         2158.7 (29.5)          2128.2 (25.0)   \n",
       "20    PFSP      rec19.txt         2405.1 (12.6)          2398.6 (19.8)   \n",
       "21    PFSP      rec31.txt         3561.7 (15.8)          3567.3 (42.4)   \n",
       "22     QAP      kra32.dat     116320.0 (4673.5)      116260.0 (4802.5)   \n",
       "23     QAP      nug12.dat          660.4 (17.3)           624.2 (26.3)   \n",
       "24     QAP      nug30.dat         7474.0 (83.9)          7486.8 (40.4)   \n",
       "25     QAP      tho30.dat     191482.0 (4419.7)      192416.0 (2584.2)   \n",
       "\n",
       "       Confidence interval  UMM Runtime  CEGO Runtime  CEGO F. evaluations  \n",
       "0         (1199.9, 2584.9)          3.2         145.1                158.3  \n",
       "1         (1319.6, 2693.0)          3.2         144.7                156.0  \n",
       "2         (5683.0, 9238.4)          6.5         145.7                103.9  \n",
       "3         (4862.2, 6781.6)          6.5         145.3                103.6  \n",
       "4        (9081.7, 11499.3)         10.7         145.4                 77.7  \n",
       "5        (9652.8, 14457.4)         10.6         145.9                 78.2  \n",
       "6         (5685.1, 8134.1)          7.0         145.5                104.5  \n",
       "7         (6646.1, 7976.1)          7.1         145.0                103.1  \n",
       "8       (18915.5, 22241.3)         11.2         146.7                 78.2  \n",
       "9       (13691.7, 20078.7)         11.2         145.7                 78.9  \n",
       "10         (-510.0, 523.4)          0.9         144.6                305.8  \n",
       "11         (-292.4, 599.8)          0.9         144.5                315.1  \n",
       "12            (62.3, 86.7)          4.1         145.1                137.9  \n",
       "13           (83.5, 116.7)          5.7         145.0                116.5  \n",
       "14    (132194.6, 221830.0)          6.9         145.9                103.2  \n",
       "15    (529631.9, 805294.9)         15.5         146.7                 63.0  \n",
       "16    (391963.4, 537787.8)          6.9         145.5                105.2  \n",
       "17  (1075992.3, 1472154.9)         15.5         146.4                 62.5  \n",
       "18            (-33.4, 7.8)          0.1          38.6                400.0  \n",
       "19           (-56.2, -4.8)          0.1          38.1                400.0  \n",
       "20            (-22.3, 9.3)          0.3          82.1                400.0  \n",
       "21           (-25.8, 37.0)          0.9          72.3                218.3  \n",
       "22       (-4663.5, 4543.5)          0.3          92.7                400.0  \n",
       "23          (-57.3, -15.1)          0.0          14.8                400.0  \n",
       "24           (-50.8, 76.4)          0.3          84.2                400.0  \n",
       "25       (-2527.0, 4395.0)          0.3          84.3                400.0  "
      ]
     },
     "execution_count": 5,
     "metadata": {},
     "output_type": "execute_result"
    }
   ],
   "source": [
    "# MANUEL: Why max() then mean?\n",
    "# Isn't this enough?\n",
    "# dfcego.groupby(['Problem','instance'])['run_time'].mean().reset_index()\n",
    "a = dfcego.groupby(['Problem','instance','seed']).run_time.max().groupby(['Problem','instance']).mean().reset_index().round(1)\n",
    "a['run_time'] = (a['run_time']/3600).round(1)\n",
    "a.columns = ['Problem','instance','CEGO Runtime']\n",
    "b = dfumm.groupby(['Problem','instance','seed']).run_time.max().groupby(['Problem','instance']).mean().reset_index().round(1)\n",
    "b['run_time'] = (b['run_time']/3600).round(1)\n",
    "b.columns = ['Problem','instance','UMM Runtime']\n",
    "dftime = pd.merge(b,a)\n",
    "\n",
    "a = dfcego.groupby(['Problem','instance','seed'])['Function evaluations'].max().groupby(['Problem','instance']).mean().reset_index()\n",
    "\n",
    "a.columns = ['Problem','instance','CEGO F. evaluations']\n",
    "dftime = pd.merge(dftime,a)\n",
    "a = dfcego.groupby(['Problem','instance','seed']).Fitness.min()\n",
    "b = dfumm.groupby(['Problem','instance','seed']).Fitness.min()\n",
    "aa = a.groupby(['Problem','instance']).agg(Fitness_CEGO_mean='mean', Fitness_CEGO_std='std').reset_index() \n",
    "bb = b.groupby(['Problem','instance']).agg(Fitness_UMM_mean='mean', Fitness_UMM_std='std').reset_index() \n",
    "df = pd.merge(aa,bb)\n",
    "aa = a.reset_index()\n",
    "bb = b.reset_index()\n",
    "for inst in df.instance:\n",
    "  x,y = aa[aa.instance==inst].Fitness.values,bb[bb.instance==inst].Fitness.values\n",
    "  cm = sms.CompareMeans(sms.DescrStatsW(x), sms.DescrStatsW(y))\n",
    "  df.loc[df.instance==inst,'Confidence interval'] = str(tuple([i.round(1) for i in cm.tconfint_diff(usevar='unequal')]))\n",
    "df['CEGO fitness'] = df.Fitness_CEGO_mean.round(1).astype(str)+\" (\"+df.Fitness_CEGO_std.round(1).astype(str)+\")\"\n",
    "df['UMM fitness'] = df.Fitness_UMM_mean.round(1).astype(str)+\" (\"+df.Fitness_UMM_std.round(1).astype(str)+\")\"\n",
    "df = df.drop(['Fitness_CEGO_mean'\t,'Fitness_CEGO_std',\t'Fitness_UMM_mean',\t'Fitness_UMM_std'], axis=1)\n",
    "df = pd.merge(df,dftime, on=['Problem', 'instance'])\n",
    "df['Instance'] = [i[-1] for i in df.instance.str.split('/').values]\n",
    "df = df[['Problem', 'Instance','UMM fitness', 'CEGO fitness',\t'Confidence interval',\t'UMM Runtime',\t'CEGO Runtime',\t'CEGO F. evaluations']]\n",
    "df\n"
   ]
  },
  {
   "cell_type": "code",
   "execution_count": 22,
   "metadata": {
    "execution": {
     "iopub.execute_input": "2020-11-04T15:06:25.678Z",
     "iopub.status.busy": "2020-11-04T15:06:25.672Z",
     "iopub.status.idle": "2020-11-04T15:06:29.223Z",
     "shell.execute_reply": "2020-11-04T15:06:28.358Z"
    },
    "jupyter": {
     "outputs_hidden": false,
     "source_hidden": false
    },
    "nteract": {
     "transient": {
      "deleting": false
     }
    }
   },
   "outputs": [
    {
     "name": "stdout",
     "output_type": "stream",
     "text": [
      "\\begin{tabular}{lllllrrr}\n",
      "\\toprule\n",
      "Problem &       Instance &           UMM fitness &           CEGO fitness &     Confidence interval &  UMM Runtime &  CEGO Runtime &  CEGO F. evaluations \\\\\n",
      "\\midrule\n",
      "    LOP &    N-t1d100.01 &       76119.6 (915.4) &        78012.0 (432.1) &        (1199.9, 2584.9) &          3.2 &         145.1 &                158.3 \\\\\n",
      "    LOP &    N-t1d100.02 &       76827.7 (891.0) &        78834.0 (477.8) &        (1319.6, 2693.0) &          3.2 &         144.7 &                156.0 \\\\\n",
      "    LOP &    N-t1d150.01 &     179508.3 (1647.9) &      186969.0 (2094.6) &        (5683.0, 9238.4) &          6.5 &         145.7 &                103.9 \\\\\n",
      "    LOP &    N-t1d150.02 &     177592.8 (1196.2) &       183414.7 (779.2) &        (4862.2, 6781.6) &          6.5 &         145.3 &                103.6 \\\\\n",
      "    LOP &    N-t1d200.01 &     323513.6 (1371.2) &      333804.1 (1191.9) &       (9081.7, 11499.3) &         10.7 &         145.4 &                 77.7 \\\\\n",
      "    LOP &    N-t1d200.02 &     319675.8 (2242.6) &      331730.9 (2819.7) &       (9652.8, 14457.4) &         10.6 &         145.9 &                 78.2 \\\\\n",
      "    LOP &    N-t2d150.01 &       15297.7 (563.5) &       22207.3 (1667.3) &        (5685.1, 8134.1) &          7.0 &         145.5 &                104.5 \\\\\n",
      "    LOP &    N-t2d150.02 &       14724.9 (667.5) &        22036.0 (744.7) &        (6646.1, 7976.1) &          7.1 &         145.0 &                103.1 \\\\\n",
      "    LOP &    N-t2d200.01 &      33465.2 (2001.0) &       54043.6 (1477.6) &      (18915.5, 22241.3) &         11.2 &         146.7 &                 78.2 \\\\\n",
      "    LOP &    N-t2d200.02 &      35901.8 (2077.5) &       52787.0 (4194.2) &      (13691.7, 20078.7) &         11.2 &         145.7 &                 78.9 \\\\\n",
      "    LOP &       N-p50-01 &       21027.6 (711.8) &        21034.3 (183.9) &         (-510.0, 523.4) &          0.9 &         144.6 &                305.8 \\\\\n",
      "    LOP &       N-p50-02 &       21613.6 (596.4) &        21767.3 (254.9) &         (-292.4, 599.8) &          0.9 &         144.5 &                315.1 \\\\\n",
      "    LOP &       N-atp111 &          594.0 (15.4) &            668.5 (9.4) &            (62.3, 86.7) &          4.1 &         145.1 &                137.9 \\\\\n",
      "    LOP &       N-atp134 &          756.3 (21.3) &           856.4 (12.2) &           (83.5, 116.7) &          5.7 &         145.0 &                116.5 \\\\\n",
      "    LOP &  N-be75eec\\_150 &   1415208.5 (58593.5) &    1592220.8 (29945.9) &    (132194.6, 221830.0) &          6.9 &         145.9 &                103.2 \\\\\n",
      "    LOP &  N-be75eec\\_250 &  4431271.0 (109756.7) &   5098734.4 (172874.0) &    (529631.9, 805294.9) &         15.5 &         146.7 &                 63.0 \\\\\n",
      "    LOP &   N-be75np\\_150 &   3204878.3 (80704.1) &    3669753.9 (74292.3) &    (391963.4, 537787.8) &          6.9 &         145.5 &                105.2 \\\\\n",
      "    LOP &   N-be75np\\_250 &  9544754.9 (260523.9) &  10818828.5 (127722.3) &  (1075992.3, 1472154.9) &         15.5 &         146.4 &                 62.5 \\\\\n",
      "   PFSP &      rec05.txt &         1330.7 (17.9) &          1317.9 (25.1) &            (-33.4, 7.8) &          0.1 &          38.6 &                400.0 \\\\\n",
      "   PFSP &      rec13.txt &         2158.7 (29.5) &          2128.2 (25.0) &           (-56.2, -4.8) &          0.1 &          38.1 &                400.0 \\\\\n",
      "   PFSP &      rec19.txt &         2405.1 (12.6) &          2398.6 (19.8) &            (-22.3, 9.3) &          0.3 &          82.1 &                400.0 \\\\\n",
      "   PFSP &      rec31.txt &         3561.7 (15.8) &          3567.3 (42.4) &           (-25.8, 37.0) &          0.9 &          72.3 &                218.3 \\\\\n",
      "    QAP &      nug12.dat &          660.4 (17.3) &           624.2 (26.3) &          (-57.3, -15.1) &          0.0 &          14.8 &                400.0 \\\\\n",
      "    QAP &      nug30.dat &         7474.0 (83.9) &          7490.4 (41.1) &           (-47.9, 80.8) &          0.3 &          83.3 &                400.0 \\\\\n",
      "    QAP &      tho30.dat &     191482.0 (4419.7) &      192396.0 (2740.1) &       (-2640.5, 4468.5) &          0.3 &          83.5 &                400.0 \\\\\n",
      "\\bottomrule\n",
      "\\end{tabular}\n",
      "\n"
     ]
    }
   ],
   "source": [
    "print(df.to_latex(index=False))"
   ]
  },
  {
   "cell_type": "markdown",
   "metadata": {
    "collapsed": true,
    "jupyter": {
     "outputs_hidden": false,
     "source_hidden": false
    },
    "nteract": {
     "transient": {
      "deleting": false
     }
    }
   },
   "source": [
    "### Plot of computation times ###"
   ]
  },
  {
   "cell_type": "code",
   "execution_count": 13,
   "metadata": {},
   "outputs": [
    {
     "data": {
      "text/html": [
       "<div>\n",
       "<style scoped>\n",
       "    .dataframe tbody tr th:only-of-type {\n",
       "        vertical-align: middle;\n",
       "    }\n",
       "\n",
       "    .dataframe tbody tr th {\n",
       "        vertical-align: top;\n",
       "    }\n",
       "\n",
       "    .dataframe thead th {\n",
       "        text-align: right;\n",
       "    }\n",
       "</style>\n",
       "<table border=\"1\" class=\"dataframe\">\n",
       "  <thead>\n",
       "    <tr style=\"text-align: right;\">\n",
       "      <th></th>\n",
       "      <th>instance</th>\n",
       "      <th>run_time_umm</th>\n",
       "      <th>run_time_cego</th>\n",
       "    </tr>\n",
       "  </thead>\n",
       "  <tbody>\n",
       "    <tr>\n",
       "      <th>0</th>\n",
       "      <td>lop/RandA1/N-t1d100.01</td>\n",
       "      <td>3.2</td>\n",
       "      <td>145.1</td>\n",
       "    </tr>\n",
       "    <tr>\n",
       "      <th>1</th>\n",
       "      <td>lop/RandA1/N-t1d100.02</td>\n",
       "      <td>3.2</td>\n",
       "      <td>144.7</td>\n",
       "    </tr>\n",
       "    <tr>\n",
       "      <th>2</th>\n",
       "      <td>lop/RandA1/N-t1d150.01</td>\n",
       "      <td>6.5</td>\n",
       "      <td>145.7</td>\n",
       "    </tr>\n",
       "    <tr>\n",
       "      <th>3</th>\n",
       "      <td>lop/RandA1/N-t1d150.02</td>\n",
       "      <td>6.5</td>\n",
       "      <td>145.3</td>\n",
       "    </tr>\n",
       "    <tr>\n",
       "      <th>4</th>\n",
       "      <td>lop/RandA1/N-t1d200.01</td>\n",
       "      <td>10.7</td>\n",
       "      <td>145.4</td>\n",
       "    </tr>\n",
       "    <tr>\n",
       "      <th>5</th>\n",
       "      <td>lop/RandA1/N-t1d200.02</td>\n",
       "      <td>10.6</td>\n",
       "      <td>146.0</td>\n",
       "    </tr>\n",
       "    <tr>\n",
       "      <th>6</th>\n",
       "      <td>lop/RandA2/N-t2d150.01</td>\n",
       "      <td>7.0</td>\n",
       "      <td>145.5</td>\n",
       "    </tr>\n",
       "    <tr>\n",
       "      <th>7</th>\n",
       "      <td>lop/RandA2/N-t2d150.02</td>\n",
       "      <td>7.1</td>\n",
       "      <td>145.0</td>\n",
       "    </tr>\n",
       "    <tr>\n",
       "      <th>8</th>\n",
       "      <td>lop/RandA2/N-t2d200.01</td>\n",
       "      <td>11.2</td>\n",
       "      <td>146.7</td>\n",
       "    </tr>\n",
       "    <tr>\n",
       "      <th>9</th>\n",
       "      <td>lop/RandA2/N-t2d200.02</td>\n",
       "      <td>11.2</td>\n",
       "      <td>145.7</td>\n",
       "    </tr>\n",
       "    <tr>\n",
       "      <th>10</th>\n",
       "      <td>lop/RandB/N-p50-01</td>\n",
       "      <td>0.9</td>\n",
       "      <td>144.6</td>\n",
       "    </tr>\n",
       "    <tr>\n",
       "      <th>11</th>\n",
       "      <td>lop/RandB/N-p50-02</td>\n",
       "      <td>0.9</td>\n",
       "      <td>144.5</td>\n",
       "    </tr>\n",
       "    <tr>\n",
       "      <th>12</th>\n",
       "      <td>lop/Spec/N-atp111</td>\n",
       "      <td>4.1</td>\n",
       "      <td>145.1</td>\n",
       "    </tr>\n",
       "    <tr>\n",
       "      <th>13</th>\n",
       "      <td>lop/Spec/N-atp134</td>\n",
       "      <td>5.7</td>\n",
       "      <td>145.0</td>\n",
       "    </tr>\n",
       "    <tr>\n",
       "      <th>14</th>\n",
       "      <td>lop/xLOLIB/N-be75eec_150</td>\n",
       "      <td>6.9</td>\n",
       "      <td>145.9</td>\n",
       "    </tr>\n",
       "    <tr>\n",
       "      <th>15</th>\n",
       "      <td>lop/xLOLIB/N-be75eec_250</td>\n",
       "      <td>15.5</td>\n",
       "      <td>146.7</td>\n",
       "    </tr>\n",
       "    <tr>\n",
       "      <th>16</th>\n",
       "      <td>lop/xLOLIB/N-be75np_150</td>\n",
       "      <td>6.9</td>\n",
       "      <td>145.6</td>\n",
       "    </tr>\n",
       "    <tr>\n",
       "      <th>17</th>\n",
       "      <td>lop/xLOLIB/N-be75np_250</td>\n",
       "      <td>15.5</td>\n",
       "      <td>146.4</td>\n",
       "    </tr>\n",
       "    <tr>\n",
       "      <th>18</th>\n",
       "      <td>pfsp/rec05.txt</td>\n",
       "      <td>0.1</td>\n",
       "      <td>38.6</td>\n",
       "    </tr>\n",
       "    <tr>\n",
       "      <th>19</th>\n",
       "      <td>pfsp/rec13.txt</td>\n",
       "      <td>0.1</td>\n",
       "      <td>38.1</td>\n",
       "    </tr>\n",
       "    <tr>\n",
       "      <th>20</th>\n",
       "      <td>pfsp/rec19.txt</td>\n",
       "      <td>0.3</td>\n",
       "      <td>78.8</td>\n",
       "    </tr>\n",
       "    <tr>\n",
       "      <th>21</th>\n",
       "      <td>pfsp/rec31.txt</td>\n",
       "      <td>0.9</td>\n",
       "      <td>72.3</td>\n",
       "    </tr>\n",
       "    <tr>\n",
       "      <th>22</th>\n",
       "      <td>qap/nug12.dat</td>\n",
       "      <td>0.0</td>\n",
       "      <td>14.8</td>\n",
       "    </tr>\n",
       "    <tr>\n",
       "      <th>23</th>\n",
       "      <td>qap/nug30.dat</td>\n",
       "      <td>0.3</td>\n",
       "      <td>78.6</td>\n",
       "    </tr>\n",
       "    <tr>\n",
       "      <th>24</th>\n",
       "      <td>qap/tho30.dat</td>\n",
       "      <td>0.3</td>\n",
       "      <td>77.9</td>\n",
       "    </tr>\n",
       "  </tbody>\n",
       "</table>\n",
       "</div>"
      ],
      "text/plain": [
       "                    instance  run_time_umm  run_time_cego\n",
       "0     lop/RandA1/N-t1d100.01           3.2          145.1\n",
       "1     lop/RandA1/N-t1d100.02           3.2          144.7\n",
       "2     lop/RandA1/N-t1d150.01           6.5          145.7\n",
       "3     lop/RandA1/N-t1d150.02           6.5          145.3\n",
       "4     lop/RandA1/N-t1d200.01          10.7          145.4\n",
       "5     lop/RandA1/N-t1d200.02          10.6          146.0\n",
       "6     lop/RandA2/N-t2d150.01           7.0          145.5\n",
       "7     lop/RandA2/N-t2d150.02           7.1          145.0\n",
       "8     lop/RandA2/N-t2d200.01          11.2          146.7\n",
       "9     lop/RandA2/N-t2d200.02          11.2          145.7\n",
       "10        lop/RandB/N-p50-01           0.9          144.6\n",
       "11        lop/RandB/N-p50-02           0.9          144.5\n",
       "12         lop/Spec/N-atp111           4.1          145.1\n",
       "13         lop/Spec/N-atp134           5.7          145.0\n",
       "14  lop/xLOLIB/N-be75eec_150           6.9          145.9\n",
       "15  lop/xLOLIB/N-be75eec_250          15.5          146.7\n",
       "16   lop/xLOLIB/N-be75np_150           6.9          145.6\n",
       "17   lop/xLOLIB/N-be75np_250          15.5          146.4\n",
       "18            pfsp/rec05.txt           0.1           38.6\n",
       "19            pfsp/rec13.txt           0.1           38.1\n",
       "20            pfsp/rec19.txt           0.3           78.8\n",
       "21            pfsp/rec31.txt           0.9           72.3\n",
       "22             qap/nug12.dat           0.0           14.8\n",
       "23             qap/nug30.dat           0.3           78.6\n",
       "24             qap/tho30.dat           0.3           77.9"
      ]
     },
     "execution_count": 13,
     "metadata": {},
     "output_type": "execute_result"
    }
   ],
   "source": [
    "umm_runtime = (dfumm.groupby(\"instance\")[\"run_time\"].mean()/3600.0).round(1).reset_index()\n",
    "cego_runtime = (dfcego.groupby(\"instance\")[\"run_time\"].mean()/3600.0).round(1).reset_index()\n",
    "run_time = pd.merge(umm_runtime,cego_runtime, on=\"instance\", suffixes=['_umm','_cego'])\n",
    "run_time\n"
   ]
  },
  {
   "cell_type": "code",
   "execution_count": null,
   "metadata": {},
   "outputs": [],
   "source": []
  }
 ],
 "metadata": {
  "kernel_info": {
   "name": "python3"
  },
  "kernelspec": {
   "display_name": "Python 3",
   "language": "python",
   "name": "python3"
  },
  "language_info": {
   "codemirror_mode": {
    "name": "ipython",
    "version": 3
   },
   "file_extension": ".py",
   "mimetype": "text/x-python",
   "name": "python",
   "nbconvert_exporter": "python",
   "pygments_lexer": "ipython3",
   "version": "3.6.9"
  },
  "nteract": {
   "version": "0.26.0"
  }
 },
 "nbformat": 4,
 "nbformat_minor": 1
}
