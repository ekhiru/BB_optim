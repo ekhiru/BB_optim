{
  "cells": [
    {
      "cell_type": "code",
      "source": [
        "import sys\n",
        "sys.path.insert(0, '../top-k-mallows')\n",
        "import permutil as pu\n",
        "import mallows_kendall as mk\n",
        "import mallows_hamming as mh\n",
        "import numpy as np\n",
        "from imp import reload\n",
        "import pandas as pd\n",
        "import seaborn as sns\n",
        "import matplotlib.pyplot as plt \n",
        "import scipy.optimize as opt\n",
        "import collections"
      ],
      "outputs": [],
      "execution_count": 234,
      "metadata": {
        "collapsed": true,
        "jupyter": {
          "source_hidden": false,
          "outputs_hidden": false
        },
        "nteract": {
          "transient": {
            "deleting": false
          }
        },
        "execution": {
          "iopub.status.busy": "2021-12-01T16:02:29.152Z",
          "iopub.execute_input": "2021-12-01T16:02:29.160Z",
          "iopub.status.idle": "2021-12-01T16:02:29.173Z",
          "shell.execute_reply": "2021-12-01T16:02:29.180Z"
        }
      }
    },
    {
      "cell_type": "markdown",
      "source": [
        "# Learn a DSM, sample a path"
      ],
      "metadata": {
        "nteract": {
          "transient": {
            "deleting": false
          }
        }
      }
    },
    {
      "cell_type": "code",
      "source": [
        "def perm_matrix(perm):\n",
        "  mat = np.zeros((n,n))\n",
        "  for po, ra in enumerate(perm):\n",
        "    mat[po,ra]+=1\n",
        "  return mat\n",
        "def ds_marginal(perms,weights):\n",
        "  m = len(perms)\n",
        "  perm_mats = np.array([perm_matrix(per) for per in perms])\n",
        "  perm_mats_weight = perm_mats * weights.reshape((m,1,1))\n",
        "  perm_combination = perm_mats_weight.sum(axis=0)\n",
        "  return (perm_combination/weights.sum())\n",
        "def random_tour(mat):\n",
        "  n,_ = mat.shape\n",
        "  sigma = np.zeros(n)\n",
        "  sigma[:] = np.nan\n",
        "  mask = np.array([True]*n)\n",
        "  pos = np.random.choice(range(n))\n",
        "  for i in range(n):\n",
        "    indices = np.arange(n)[mask]\n",
        "    probas = mat[pos][mask]\n",
        "    if probas.sum()== 0 : probas[:] = 1 \n",
        "    item = np.random.choice(indices, p=probas/probas.sum())\n",
        "    sigma[pos] = item\n",
        "    mask[item] = False\n",
        "    if i != n-1: \n",
        "      if  np.isnan(sigma[item])  : pos = item\n",
        "      else: pos = np.random.choice(np.where(sigma!=sigma)[0])\n",
        "  return sigma.astype(int)\n"
      ],
      "outputs": [],
      "execution_count": 242,
      "metadata": {
        "collapsed": true,
        "jupyter": {
          "source_hidden": false,
          "outputs_hidden": false
        },
        "nteract": {
          "transient": {
            "deleting": false
          }
        },
        "execution": {
          "iopub.status.busy": "2021-12-01T16:05:31.133Z",
          "iopub.execute_input": "2021-12-01T16:05:31.142Z",
          "iopub.status.idle": "2021-12-01T16:05:31.156Z",
          "shell.execute_reply": "2021-12-01T16:05:31.164Z"
        }
      }
    },
    {
      "cell_type": "code",
      "source": [
        "noise= 0.3\n",
        "perms = np.array([np.random.permutation(range(n)) for i in range(5)])\n",
        "weights = np.exp(noise * np.arange(len(perms)))\n",
        "abs_marg_gt = ds_marginal(perms,weights)\n",
        "print(perms,\"\\n\")\n",
        "print(weights.round(3),\"\\n\")\n",
        "print(perm_matrix(perms[0]),\"\\n\")\n",
        "print(perm_matrix(perms[1])*weights[1].round(2),\"\\n\")\n",
        "print(abs_marg_gt.round(3),\"\\n\")"
      ],
      "outputs": [
        {
          "output_type": "stream",
          "name": "stdout",
          "text": [
            "[[2 3 4 1 5 0]\n",
            " [3 1 0 2 5 4]\n",
            " [1 0 5 2 3 4]\n",
            " [3 2 5 1 0 4]\n",
            " [5 4 3 2 0 1]] \n",
            "\n",
            "[1.    1.35  1.822 2.46  3.32 ] \n",
            "\n",
            "[[0. 0. 1. 0. 0. 0.]\n",
            " [0. 0. 0. 1. 0. 0.]\n",
            " [0. 0. 0. 0. 1. 0.]\n",
            " [0. 1. 0. 0. 0. 0.]\n",
            " [0. 0. 0. 0. 0. 1.]\n",
            " [1. 0. 0. 0. 0. 0.]] \n",
            "\n",
            "[[0.   0.   0.   1.35 0.   0.  ]\n",
            " [0.   1.35 0.   0.   0.   0.  ]\n",
            " [1.35 0.   0.   0.   0.   0.  ]\n",
            " [0.   0.   1.35 0.   0.   0.  ]\n",
            " [0.   0.   0.   0.   0.   1.35]\n",
            " [0.   0.   0.   0.   1.35 0.  ]] \n",
            "\n",
            "[[0.    0.183 0.1   0.383 0.    0.334]\n",
            " [0.183 0.136 0.247 0.1   0.334 0.   ]\n",
            " [0.136 0.    0.    0.334 0.1   0.43 ]\n",
            " [0.    0.348 0.652 0.    0.    0.   ]\n",
            " [0.581 0.    0.    0.183 0.    0.236]\n",
            " [0.1   0.334 0.    0.    0.566 0.   ]] \n",
            "\n"
          ]
        }
      ],
      "execution_count": 363,
      "metadata": {
        "collapsed": true,
        "jupyter": {
          "source_hidden": false,
          "outputs_hidden": false
        },
        "nteract": {
          "transient": {
            "deleting": false
          }
        },
        "execution": {
          "iopub.status.busy": "2021-12-01T16:56:10.808Z",
          "iopub.execute_input": "2021-12-01T16:56:10.816Z",
          "iopub.status.idle": "2021-12-01T16:56:10.832Z",
          "shell.execute_reply": "2021-12-01T16:56:10.848Z"
        }
      }
    },
    {
      "cell_type": "code",
      "source": [
        "res = []\n",
        "m_create_synthetic = 100\n",
        "\n",
        "repes = 10\n",
        "noise_range= np.logspace(-1,-10,4)\n",
        "\n",
        "for repe in range(repes):\n",
        "  perms = np.array([np.random.permutation(range(n)) for i in range(m_create_synthetic)])\n",
        "  for noise in noise_range:\n",
        "    weights = np.exp(noise * np.arange(m_create_synthetic))\n",
        "    abs_marg_gt = ds_marginal(perms,weights)\n",
        "    median = opt.linear_sum_assignment( - abs_marg_gt )[1]\n",
        "    ran_tour = random_tour(abs_marg_gt)\n",
        "    ran = np.random.permutation(range(n))\n",
        "    a = abs_marg_gt[np.arange(n),median].sum()\n",
        "    b = abs_marg_gt[np.arange(n),ran_tour].sum()\n",
        "    c = abs_marg_gt[np.arange(n),ran].sum()\n",
        "    res.append([repe, noise, a,b,c])\n",
        "\n",
        "# plt.yscale('log')\n",
        "plt.figure(figsize=(15,4))\n",
        "df = pd.DataFrame(res, columns=['repe', 'noise', 'med_sum', 'tour_sum', 'ran_sum'])\n",
        "df = df.melt(['repe', 'noise'],value_name='error', var_name='criteria')\n",
        "color_variable='criteria'\n",
        "palette = sns.color_palette(\"husl\", len(df[color_variable].drop_duplicates()))\n",
        "sns.lineplot(data=df,x='noise', y='error', hue=color_variable,palette=palette)\n"
      ],
      "outputs": [
        {
          "output_type": "execute_result",
          "execution_count": 352,
          "data": {
            "text/plain": "<matplotlib.axes._subplots.AxesSubplot at 0x14ab61690>"
          },
          "metadata": {}
        },
        {
          "output_type": "display_data",
          "data": {
            "text/plain": "<Figure size 1080x288 with 1 Axes>",
            "image/png": "[encoded data removed]"
          },
          "metadata": {
            "needs_background": "light"
          }
        }
      ],
      "execution_count": 352,
      "metadata": {
        "collapsed": true,
        "jupyter": {
          "source_hidden": false,
          "outputs_hidden": false
        },
        "nteract": {
          "transient": {
            "deleting": false
          }
        },
        "execution": {
          "iopub.status.busy": "2021-12-01T16:44:16.779Z",
          "iopub.execute_input": "2021-12-01T16:44:16.786Z",
          "iopub.status.idle": "2021-12-01T16:44:17.529Z",
          "shell.execute_reply": "2021-12-01T16:44:17.546Z"
        }
      }
    },
    {
      "cell_type": "code",
      "source": [],
      "outputs": [],
      "execution_count": null,
      "metadata": {
        "collapsed": true,
        "jupyter": {
          "source_hidden": false,
          "outputs_hidden": false
        },
        "nteract": {
          "transient": {
            "deleting": false
          }
        }
      }
    }
  ],
  "metadata": {
    "kernel_info": {
      "name": "python3"
    },
    "language_info": {
      "name": "python",
      "version": "3.7.5",
      "mimetype": "text/x-python",
      "codemirror_mode": {
        "name": "ipython",
        "version": 3
      },
      "pygments_lexer": "ipython3",
      "nbconvert_exporter": "python",
      "file_extension": ".py"
    },
    "kernelspec": {
      "argv": [
        "/usr/local/opt/python/bin/python3.7",
        "-m",
        "ipykernel_launcher",
        "-f",
        "{connection_file}"
      ],
      "display_name": "Python 3",
      "language": "python",
      "name": "python3"
    },
    "nteract": {
      "version": "0.28.0"
    }
  },
  "nbformat": 4,
  "nbformat_minor": 0
}