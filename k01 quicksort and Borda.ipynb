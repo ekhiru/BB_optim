{
  "cells": [
    {
      "cell_type": "code",
      "source": [
        "import sys\n",
        "sys.path.insert(0, '../top-k-mallows')\n",
        "import permutil as pu\n",
        "import mallows_kendall as mk\n",
        "import numpy as np\n",
        "from imp import reload\n",
        "import pandas as pd\n",
        "import seaborn as sns\n",
        "import matplotlib.pyplot as plt \n",
        "import collections\n",
        "\n",
        "\n"
      ],
      "outputs": [],
      "execution_count": 1,
      "metadata": {
        "execution": {
          "iopub.execute_input": "2022-04-22T07:30:34.991Z",
          "iopub.status.busy": "2022-04-22T07:30:34.984Z",
          "iopub.status.idle": "2022-04-22T07:30:35.728Z",
          "shell.execute_reply": "2022-04-22T07:30:35.798Z"
        }
      }
    },
    {
      "cell_type": "markdown",
      "source": [
        "# Approximate uniform crossover under kendall distance\n",
        "\n",
        "\n",
        "\n",
        "- Let `p1`, `p2` be two permutations. The `oracle[i,j]= p1[i]<p1[j]/2 + p1[i]<p1[j]/2`. \n",
        "- `sample` <- Use a probabilistic version of mergesort to sample from `oracle` `num_sampled` permutations. \n",
        "- `borda`Aggregate `sample` with Borda\n",
        "- measure the relative error \n",
        "\n",
        "(we generate k samples from the mergesort-oracle and aggregate them, for k<n? k=log n?. Has to be better than $n^2$ of the trivial algorithm tipo bubble sort. Parece que da igual como sea n, k es constante, sobre los 20) we can show that: \n",
        "- the proc is $kn log n$ \n",
        "- the resulting permutation is in the middle (at the same distance from both parents, the same as the bubblesort)\n",
        "\n",
        "\n",
        "# TODO\n",
        "falta el analisis de convergencia"
      ],
      "metadata": {}
    },
    {
      "cell_type": "code",
      "source": [
        "reload(pu)\n",
        "\n",
        "def merge_sort_wrapped(data, oracle):\n",
        "    \"\"\"\n",
        "    Numpy implementation of merge sort algorithm.\n",
        "    https://gist.github.com/sadighian/7fed148eca457ec45f95afaf3da96f76\n",
        "    returns the inverse of the oracle!! (->must invert the final result)\n",
        "    \"\"\"\n",
        "    data_length = np.shape(data)[0]\n",
        "    if data_length < 2:\n",
        "        return data\n",
        "    midpoint = data_length // 2    \n",
        "    lefts = merge_sort_wrapped(data[:midpoint], oracle)\n",
        "    rights = merge_sort_wrapped(data[midpoint:], oracle)\n",
        "    results = np.empty(data_length, dtype=np.int32)\n",
        "    l = r = 0\n",
        "    idx = 0\n",
        "    r_length = len(rights)\n",
        "    l_length = len(lefts)\n",
        "    while l < l_length and r < r_length:\n",
        "#         if lefts[l] <= rights[r]:\n",
        "        if oracle[lefts[l],rights[r]] >= np.random.random():\n",
        "            results[idx] = lefts[l]\n",
        "            l += 1\n",
        "        else:\n",
        "            results[idx] = rights[r]\n",
        "            r += 1\n",
        "        idx += 1\n",
        "    while l < l_length:\n",
        "        results[idx] = lefts[l]\n",
        "        l += 1\n",
        "        idx += 1\n",
        "    \n",
        "    while r < r_length:\n",
        "        results[idx] = rights[r]\n",
        "        r += 1\n",
        "        idx += 1\n",
        "    return results\n",
        "\n",
        "def sort_oracle(perm, oracle, method='ms'):\n",
        "    if method=='ms': \n",
        "        perm = merge_sort_wrapped(perm, oracle)\n",
        "        return np.argsort(perm)\n",
        "\n",
        "def sample_to_oracle(np_sample, margtype='relative'):\n",
        "  #   pu.sample_to_marg_rel(np.array([perm1, perm2]))\n",
        "  return pu.sample_to_marg(np_sample, margtype='relative')\n",
        "    \n",
        "\n",
        "\n",
        "# TEST for one\n",
        "n=10\n",
        "perm1, perm2 = np.random.permutation(n), np.random.permutation(n)\n",
        "perm = perm1 # np.random.permutation(n)\n",
        "oracle = pu.sample_to_marg(np.array([perm1, perm2]), margtype='relative')\n",
        "perm_sorted = merge_sort_wrapped(perm, oracle)\n",
        "# perm, perm_oracle, np.argsort(perm_sorted), sort_oracle(perm,oracle)\n",
        "\n",
        "ms = sort_oracle(perm,oracle)\n",
        "d1 = mk.distance(perm1,ms)\n",
        "d2 = mk.distance(perm2,ms)\n",
        "d12 = mk.distance(perm1,perm2)\n",
        "d1,d2,d12, d1+d2"
      ],
      "outputs": [
        {
          "output_type": "execute_result",
          "execution_count": 2,
          "data": {
            "text/plain": "(11, 12, 21, 23)"
          },
          "metadata": {}
        }
      ],
      "execution_count": 2,
      "metadata": {
        "execution": {
          "iopub.execute_input": "2022-04-22T07:30:35.742Z",
          "iopub.status.busy": "2022-04-22T07:30:35.736Z",
          "iopub.status.idle": "2022-04-22T07:30:35.754Z",
          "shell.execute_reply": "2022-04-22T07:30:35.802Z"
        }
      }
    },
    {
      "cell_type": "code",
      "source": [
        "oracle"
      ],
      "outputs": [
        {
          "output_type": "execute_result",
          "execution_count": 3,
          "data": {
            "text/plain": "array([[0. , 1. , 1. , 0.5, 1. , 1. , 1. , 1. , 1. , 1. ],\n       [0. , 0. , 0.5, 0.5, 1. , 0.5, 0.5, 1. , 0.5, 1. ],\n       [0. , 0.5, 0. , 0.5, 0.5, 0.5, 0.5, 0.5, 0.5, 1. ],\n       [0.5, 0.5, 0.5, 0. , 1. , 0.5, 0.5, 1. , 0.5, 1. ],\n       [0. , 0. , 0.5, 0. , 0. , 0.5, 0.5, 0.5, 0. , 0.5],\n       [0. , 0.5, 0.5, 0.5, 0.5, 0. , 1. , 0.5, 0. , 1. ],\n       [0. , 0.5, 0.5, 0.5, 0.5, 0. , 0. , 0.5, 0. , 1. ],\n       [0. , 0. , 0.5, 0. , 0.5, 0.5, 0.5, 0. , 0. , 1. ],\n       [0. , 0.5, 0.5, 0.5, 1. , 1. , 1. , 1. , 0. , 1. ],\n       [0. , 0. , 0. , 0. , 0.5, 0. , 0. , 0. , 0. , 0. ]])"
          },
          "metadata": {}
        }
      ],
      "execution_count": 3,
      "metadata": {
        "collapsed": true,
        "jupyter": {
          "source_hidden": false,
          "outputs_hidden": false
        },
        "nteract": {
          "transient": {
            "deleting": false
          }
        },
        "execution": {
          "iopub.status.busy": "2022-04-22T07:30:35.761Z",
          "iopub.execute_input": "2022-04-22T07:30:35.767Z",
          "iopub.status.idle": "2022-04-22T07:30:35.780Z",
          "shell.execute_reply": "2022-04-22T07:30:35.805Z"
        }
      }
    },
    {
      "cell_type": "markdown",
      "source": [
        "## Test of the sorting method\n",
        "when we sample just one permu from an oracle, how many pairs are incorrect??\n",
        "\n",
        "the theoretical error is incorrect?? the empirical one converges to 0.1"
      ],
      "metadata": {}
    },
    {
      "cell_type": "code",
      "source": [
        "reload(mk)\n",
        "res=[]\n",
        "num_sample_range = range(1,2)\n",
        "ns = range(10,200,20)\n",
        "repes = 10\n",
        "for n in ns:\n",
        "    for _ in range(repes): \n",
        "        perm1, perm2 = np.random.permutation(n), np.random.permutation(n)\n",
        "        d12 = mk.distance(perm1,perm2)\n",
        "        oracle = sample_to_oracle(np.array([perm1, perm2]))\n",
        "        for num_sampled in num_sample_range:\n",
        "            perm =  np.random.permutation(n)\n",
        "            sample = np.array([sort_oracle(perm, oracle) for i in range(num_sampled)])\n",
        "            borda = mk.median(sample)\n",
        "            d1 = mk.distance(perm1,borda)\n",
        "            d2 = mk.distance(perm2,borda)\n",
        "            res.append([n,num_sampled,d12,d1,d2])\n",
        "            \n",
        "df = pd.DataFrame(res,columns=['n','num_sampled','d12','d1','d2'])\n",
        "df['dist_triang'] = df.d1+df.d2\n",
        "df['rel_error_empiric'] = (df.dist_triang - df.d12)/(df.n*(df.n-1)/2)\n",
        "df['rel_error_theor'] = (1 - np.log(df.n)/(df.n-1)) *.25\n",
        "\n",
        "aux=(df.columns)\n",
        "aux = aux.drop(['rel_error_empiric','rel_error_theor'])\n",
        "df = df.melt(id_vars=aux, var_name=\"rel_error_type\")\n",
        "df.columns = [i if i!='value' else 'rel_error_val'for i in  df.columns]\n",
        "\n",
        "color_variable='rel_error_type'\n",
        "palette = sns.color_palette(\"husl\", len(df[color_variable].drop_duplicates()))\n",
        "sns.lineplot(data=df,x='n', y='rel_error_val', hue=color_variable, style='rel_error_type', palette=palette)\n",
        "plt.title('# discordant pairs of ONE permu\\n sampled with MS')\n",
        "# # plt.savefig('img/mergesort.jpg')\n",
        "# df.head()"
      ],
      "outputs": [
        {
          "output_type": "execute_result",
          "execution_count": 4,
          "data": {
            "text/plain": "Text(0.5, 1.0, '# discordant pairs of ONE permu\\n sampled with MS')"
          },
          "metadata": {}
        },
        {
          "output_type": "display_data",
          "data": {
            "text/plain": "<Figure size 432x288 with 1 Axes>",
            "image/png": "[encoded data removed]"
          },
          "metadata": {
            "needs_background": "light"
          }
        }
      ],
      "execution_count": 4,
      "metadata": {
        "scrolled": true,
        "execution": {
          "iopub.status.busy": "2022-04-22T07:30:35.787Z",
          "iopub.execute_input": "2022-04-22T07:30:35.793Z",
          "iopub.status.idle": "2022-04-22T07:30:41.659Z",
          "shell.execute_reply": "2022-04-22T07:30:41.684Z"
        }
      }
    },
    {
      "cell_type": "markdown",
      "source": [
        "## Experiment \n",
        "In this case  there exists a mode. the oracle is one and only one permu (the mode) but\n",
        "how does `num_sampled` affect the quality for different values on $n$. If it has to be larger than $n$ then all thsi maekes no sense because we could use the bubble sort method whixh also allows to choose the distance ( and the same as thos one is not uniform) \n",
        "\n",
        "It is something constant, like 10?? (experimental result, see \"when do noisy rankings reveal the truth\") \n",
        "\n",
        "Is is log n, at most??"
      ],
      "metadata": {
        "nteract": {
          "transient": {
            "deleting": false
          }
        }
      }
    },
    {
      "cell_type": "code",
      "source": [
        "reload(mk)\n",
        "res=[]\n",
        "num_aggregated_range = [1,10,100,1000] #,5,10,50,100,300\n",
        "total_repes = 30\n",
        "noises = np.linspace(0,.5,20)\n",
        "for n in [10]:\n",
        "    for _ in range(total_repes): \n",
        "      for noise in noises:\n",
        "          perm1, perm2 = np.random.permutation(n), np.random.permutation(n)\n",
        "          #oracle = sample_to_oracle(np.array([perm1, perm2]))\n",
        "          oracle = sample_to_oracle(np.array([perm1]))\n",
        "          oracle[oracle==0] = noise\n",
        "          oracle[oracle==1] = 1 - noise\n",
        "          for num_aggregated in num_aggregated_range:\n",
        "              perm =  np.random.permutation(n)\n",
        "              sample = np.array([sort_oracle(perm, oracle) for i in range(num_aggregated)])\n",
        "              borda = mk.median(sample)\n",
        "              d1 = mk.distance(perm1,borda)\n",
        "#               d2 = mk.distance(perm2,borda)\n",
        "              res.append([n,num_aggregated,d1, noise])\n",
        "df = pd.DataFrame(res,columns=['n','num_aggregated','d1','noise'])\n",
        "df['rel_error_empiric'] = (df.d1)/(df.n*(df.n-1)/2)\n",
        "color_variable='num_aggregated'\n",
        "palette = sns.color_palette(\"husl\", len(df[color_variable].drop_duplicates()))\n",
        "plt.figure(figsize=(15,4))\n",
        "sns.lineplot(data=df,x='noise', y='rel_error_empiric', hue=color_variable, palette=palette, style='n')\n",
        "# plt.yscale('log')\n",
        "plt.grid() \n",
        "a = plt.title('Distance from ground-true mode \\n with Borda aggregation')\n",
        "# plt.savefig('img/mergesort.jpg')\n",
        "# df.head()"
      ],
      "outputs": [],
      "execution_count": 5,
      "metadata": {
        "execution": {
          "iopub.status.busy": "2022-04-22T07:30:41.667Z",
          "iopub.execute_input": "2022-04-22T07:30:41.673Z",
          "iopub.status.idle": "2022-04-22T06:49:39.581Z",
          "shell.execute_reply": "2022-04-22T06:49:39.633Z"
        }
      }
    },
    {
      "cell_type": "code",
      "source": [
        "\n"
      ],
      "outputs": [],
      "execution_count": null,
      "metadata": {
        "execution": {
          "iopub.status.busy": "2022-04-22T06:49:39.605Z",
          "iopub.execute_input": "2022-04-22T06:49:39.609Z",
          "iopub.status.idle": "2022-04-22T06:49:39.619Z",
          "shell.execute_reply": "2022-04-22T06:49:39.639Z"
        }
      }
    },
    {
      "cell_type": "markdown",
      "source": [
        "# como agregar las permus a lo largo de las iteraciones\n",
        "\n",
        "Sea $k$ el indice de las iteraciones. vamos a asumir que $\\rho$ ddecrece con $k$. Esto se puede hacer (1) fijando manualmente como decrece $\\rho$ (para las primeras pruebas mejor ponerlo asi) o (2) como en el paper de UMM, desde los datos. Para tener una idea intuitiva, la evolución de la matriz M sería así"
      ],
      "metadata": {
        "nteract": {
          "transient": {
            "deleting": false
          }
        }
      }
    },
    {
      "cell_type": "code",
      "source": [
        "rho = 0.01\n",
        "n = 5\n",
        "f_eval = np.array([np.random.random() for i in range(15)]) # valores de funcion de evaluacion (en realidad en el paper el max es 1 y el min es 0)\n",
        "sample = np.array([np.random.permutation(range(n)) for i in range(15)])\n",
        "\n",
        "\n",
        "ws = rho ** f_eval #pesos\n",
        "perms_matrix = [pu.sample_to_marg(np.array([perm]), margtype='relative') for perm in sample]\n",
        "([perm_mat*w for perm_mat, w in zip(perms_matrix, ws)])\n",
        "\n",
        "# la suma de todas estas es la M"
      ],
      "outputs": [],
      "execution_count": null,
      "metadata": {
        "execution": {
          "iopub.status.busy": "2022-04-22T07:30:26.984Z",
          "iopub.execute_input": "2022-04-22T07:30:26.991Z",
          "iopub.status.idle": "2022-04-22T07:30:27.005Z",
          "shell.execute_reply": "2022-04-22T07:30:27.024Z"
        }
      }
    },
    {
      "cell_type": "code",
      "source": [
        "f_eval"
      ],
      "outputs": [],
      "execution_count": null,
      "metadata": {
        "execution": {
          "iopub.status.busy": "2022-04-22T07:29:43.887Z",
          "iopub.execute_input": "2022-04-22T07:29:43.893Z",
          "iopub.status.idle": "2022-04-22T07:29:43.904Z",
          "shell.execute_reply": "2022-04-22T07:29:43.911Z"
        }
      }
    },
    {
      "cell_type": "code",
      "source": [],
      "outputs": [],
      "execution_count": null,
      "metadata": {}
    }
  ],
  "metadata": {
    "kernelspec": {
      "display_name": "Python 3",
      "language": "python",
      "name": "python3"
    },
    "language_info": {
      "name": "python",
      "version": "3.9.0",
      "mimetype": "text/x-python",
      "codemirror_mode": {
        "name": "ipython",
        "version": 3
      },
      "pygments_lexer": "ipython3",
      "nbconvert_exporter": "python",
      "file_extension": ".py"
    },
    "nteract": {
      "version": "0.28.0"
    }
  },
  "nbformat": 4,
  "nbformat_minor": 4
}