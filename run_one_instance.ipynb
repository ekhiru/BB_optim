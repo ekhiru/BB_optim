{
  "cells": [
    {
      "cell_type": "code",
      "source": [
        "from imp import reload\n",
        "import sys\n",
        "print(sys.version)\n",
        "# import rpy2\n",
        "import os\n",
        "import numpy as np\n",
        "import pandas as pd\n",
        "from scipy import stats\n",
        "#import statsmodels.stats.api as sms\n",
        "import seaborn as sns\n",
        "import matplotlib.pyplot as plt\n",
        "import matplotlib\n",
        "# Use Type 1 fonts in plots.\n",
        "matplotlib.rcParams['ps.useafm'] = True\n",
        "matplotlib.rcParams['pdf.use14corefonts'] = True\n",
        "matplotlib.rcParams['text.usetex'] = False\n",
        "# Do not wrap long lines\n",
        "np.set_printoptions(linewidth=np.nan)\n",
        "sns.set_style(\"whitegrid\")\n",
        "import runner\n",
        "import umm"
      ],
      "outputs": [
        {
          "output_type": "stream",
          "name": "stdout",
          "text": [
            "3.9.0 (default, Nov 21 2020, 14:55:42) \n",
            "[Clang 12.0.0 (clang-1200.0.32.27)]\n"
          ]
        }
      ],
      "execution_count": 1,
      "metadata": {
        "execution": {
          "iopub.execute_input": "2020-11-25T16:24:33.069Z",
          "iopub.status.busy": "2020-11-25T16:24:33.060Z",
          "iopub.status.idle": "2020-11-25T16:24:34.010Z",
          "shell.execute_reply": "2020-11-25T16:24:34.017Z"
        },
        "jupyter": {
          "outputs_hidden": false,
          "source_hidden": false
        },
        "nteract": {
          "transient": {
            "deleting": false
          }
        }
      }
    },
    {
      "cell_type": "markdown",
      "source": [
        "## Running UMM and CEGO over one instance\n",
        "\n",
        "The next cell allows running CEGO and UMM over a chosen instance and with the selected parameters"
      ],
      "metadata": {}
    },
    {
      "cell_type": "code",
      "source": [
        "reload(runner)\n",
        "instance_name=\"LOP-synthetic,seed=88888,n=20,m=200,phi=0.9\"\n",
        "# instance_name=\"pfsp/rec19.txt\"\n",
        "# instance_name=\"lop/RandB/N-p50-01\"\n",
        "# instance_name=\"lop/Spec/N-pal13\"\n",
        "# instance_name=\"lop/xLOLIB/N-be75eec_150\"\n",
        "# instance_name=\"qap/nug12.dat\"\n",
        "budgetGA=10**3#\n",
        "seed=8\n",
        "budget=15#0\n",
        "m_ini=10\n",
        "budgetMM=10\n",
        "eval_ranks = False\n",
        "r_1 = [.1]\n",
        "r_2 = [.9]\n",
        "res = []\n",
        "for ratio_samples_learn in r_1:\n",
        "  for weight_mass_learn in r_2:\n",
        "    out_filename = \"pickles/\"+instance_name.replace(\"/\", \"__\").replace(\".txt\", \"\")\n",
        "    df = runner.run_once(\"UMM\", instance_name, seed,budget = budget, m_ini = m_ini, budgetMM = budgetMM, ratio_samples_learn = ratio_samples_learn, weight_mass_learn = weight_mass_learn, out_filename = out_filename, eval_ranks=eval_ranks)\n",
        "#     res.append([out_filename,ratio_samples_learn, weight_mass_learn,df.Fitness.min()])\n",
        "# runner.run_once(\"CEGO\", instance_name, seed,budget = budget, m_ini = m_ini, budgetGA = budgetGA, out_filename = out_filename)"
      ],
      "outputs": [
        {
          "output_type": "stream",
          "name": "stdout",
          "text": [
            "Generating synthetic LOP instance with seed=88888 n=20 m=200 phi=0.9\n",
            "identity, reverse, best-known and worst-known fitnesses 89.57500000000002 100.42499999999998 72.235 117.76499999999999\n",
            "UMM: eval=0\tF=88.79499999999999\tbest_known=72.235\n",
            "UMM: eval=1\tF=94.43499999999997\tbest_known=72.235\n",
            "UMM: eval=2\tF=91.305\tbest_known=72.235\n",
            "UMM: eval=3\tF=91.605\tbest_known=72.235\n",
            "UMM: eval=4\tF=89.055\tbest_known=72.235\n"
          ]
        }
      ],
      "execution_count": 47,
      "metadata": {
        "execution": {
          "iopub.execute_input": "2020-11-25T16:39:25.113Z",
          "iopub.status.busy": "2020-11-25T16:39:25.106Z",
          "iopub.status.idle": "2020-11-25T16:39:25.427Z",
          "shell.execute_reply": "2020-11-25T16:39:25.443Z"
        },
        "jupyter": {
          "outputs_hidden": false,
          "source_hidden": false
        },
        "nteract": {
          "transient": {
            "deleting": false
          }
        }
      }
    },
    {
      "cell_type": "markdown",
      "source": [
        "The following piece of code plots the results of the previous experiment"
      ],
      "metadata": {}
    },
    {
      "cell_type": "code",
      "source": [
        "out_file = \"pickles/\"+instance_name.replace(\"/\", \"__\").replace(\".txt\", \"\")\n",
        "df = pd.read_pickle(out_filename+'.pkl.gz')\n",
        "\n",
        "print(\"instance name\", df.instance.iloc[0], \"- time\", round(df.run_time.iloc[0], 2))\n",
        "print(df.Fitness.min())\n",
        "\n",
        "color_variable = 'Solver'\n",
        "y_variables = ['Fitness']#,'Distance','phi_sample'\n",
        "palette = sns.color_palette(\"husl\", len(df[color_variable].drop_duplicates()))\n",
        "for y_variable in y_variables:\n",
        "    plt.figure(figsize=(15,5))\n",
        "    sns.lineplot(x='Function evaluations',y=y_variable,hue='Solver',data=df, palette=palette)\n",
        "    plt.show()"
      ],
      "outputs": [
        {
          "output_type": "stream",
          "name": "stdout",
          "text": [
            "instance name LOP-synthetic,seed=123456,n=20,m=200,phi=0.9 - time 13.29\n",
            "0.06359368331199354\n"
          ]
        },
        {
          "output_type": "display_data",
          "data": {
            "text/plain": "<Figure size 1080x360 with 1 Axes>",
            "image/png": "[encoded data removed]"
          },
          "metadata": {}
        }
      ],
      "execution_count": 41,
      "metadata": {
        "execution": {
          "iopub.execute_input": "2020-11-25T16:34:36.086Z",
          "iopub.status.busy": "2020-11-25T16:34:36.080Z",
          "iopub.status.idle": "2020-11-25T16:34:36.324Z",
          "shell.execute_reply": "2020-11-25T16:34:36.341Z"
        },
        "jupyter": {
          "outputs_hidden": false,
          "source_hidden": false
        },
        "nteract": {
          "transient": {
            "deleting": false
          }
        }
      }
    },
    {
      "cell_type": "code",
      "source": [
        "df"
      ],
      "outputs": [
        {
          "output_type": "execute_result",
          "execution_count": 42,
          "data": {
            "text/plain": "             rho  phi_estim  phi_sample  Distance   Fitness  \\\n0            NaN        NaN         NaN  0.489474  0.400982   \n1            NaN        NaN         NaN  0.526316  0.574477   \n2            NaN        NaN         NaN  0.463158  0.397994   \n3            NaN        NaN         NaN  0.394737  0.697397   \n4            NaN        NaN         NaN  0.505263  0.511097   \n..           ...        ...         ...       ...       ...   \n95  1.110223e-16   0.340825     0.18750  0.510526  0.065301   \n96  2.775558e-17   0.333311     0.15625  0.510526  0.082373   \n97  4.336809e-19   0.319369     0.12500  0.510526  0.068075   \n98  1.355253e-20   0.307985     0.12500  0.510526  0.066795   \n99  4.235165e-22   0.295227     0.09375  0.510526  0.071916   \n\n                                                    x  m_ini  seed  budget  \\\n0   [7, 11, 6, 15, 18, 4, 12, 2, 13, 1, 16, 0, 14,...     10     8     100   \n1   [8, 19, 0, 15, 11, 12, 1, 17, 2, 16, 10, 7, 13...     10     8     100   \n2   [5, 14, 12, 16, 19, 3, 9, 1, 17, 4, 18, 6, 2, ...     10     8     100   \n3   [5, 11, 4, 1, 17, 8, 3, 10, 15, 12, 13, 18, 2,...     10     8     100   \n4   [4, 19, 13, 0, 11, 18, 1, 7, 15, 10, 3, 16, 5,...     10     8     100   \n..                                                ...    ...   ...     ...   \n95  [15, 1, 2, 17, 8, 16, 4, 12, 19, 14, 11, 18, 6...     10     8     100   \n96  [16, 1, 3, 17, 8, 14, 6, 12, 19, 15, 13, 18, 7...     10     8     100   \n97  [15, 1, 2, 17, 7, 14, 6, 10, 19, 13, 16, 18, 8...     10     8     100   \n98  [16, 2, 1, 18, 8, 15, 6, 10, 17, 14, 12, 19, 7...     10     8     100   \n99  [17, 1, 2, 16, 8, 15, 6, 11, 19, 12, 14, 18, 7...     10     8     100   \n\n    budgetMM  ratio_samples_learn  weight_mass_learn  eval_ranks  \\\n0         10                  0.1                0.9       False   \n1         10                  0.1                0.9       False   \n2         10                  0.1                0.9       False   \n3         10                  0.1                0.9       False   \n4         10                  0.1                0.9       False   \n..       ...                  ...                ...         ...   \n95        10                  0.1                0.9       False   \n96        10                  0.1                0.9       False   \n97        10                  0.1                0.9       False   \n98        10                  0.1                0.9       False   \n99        10                  0.1                0.9       False   \n\n    Function evaluations  run_time Problem  \\\n0                      1  13.29283     LOP   \n1                      2  13.29283     LOP   \n2                      3  13.29283     LOP   \n3                      4  13.29283     LOP   \n4                      5  13.29283     LOP   \n..                   ...       ...     ...   \n95                    96  13.29283     LOP   \n96                    97  13.29283     LOP   \n97                    98  13.29283     LOP   \n98                    99  13.29283     LOP   \n99                   100  13.29283     LOP   \n\n                                        instance Solver  \n0   LOP-synthetic,seed=123456,n=20,m=200,phi=0.9    UMM  \n1   LOP-synthetic,seed=123456,n=20,m=200,phi=0.9    UMM  \n2   LOP-synthetic,seed=123456,n=20,m=200,phi=0.9    UMM  \n3   LOP-synthetic,seed=123456,n=20,m=200,phi=0.9    UMM  \n4   LOP-synthetic,seed=123456,n=20,m=200,phi=0.9    UMM  \n..                                           ...    ...  \n95  LOP-synthetic,seed=123456,n=20,m=200,phi=0.9    UMM  \n96  LOP-synthetic,seed=123456,n=20,m=200,phi=0.9    UMM  \n97  LOP-synthetic,seed=123456,n=20,m=200,phi=0.9    UMM  \n98  LOP-synthetic,seed=123456,n=20,m=200,phi=0.9    UMM  \n99  LOP-synthetic,seed=123456,n=20,m=200,phi=0.9    UMM  \n\n[100 rows x 18 columns]",
            "text/html": "<div>\n<style scoped>\n    .dataframe tbody tr th:only-of-type {\n        vertical-align: middle;\n    }\n\n    .dataframe tbody tr th {\n        vertical-align: top;\n    }\n\n    .dataframe thead th {\n        text-align: right;\n    }\n</style>\n<table border=\"1\" class=\"dataframe\">\n  <thead>\n    <tr style=\"text-align: right;\">\n      <th></th>\n      <th>rho</th>\n      <th>phi_estim</th>\n      <th>phi_sample</th>\n      <th>Distance</th>\n      <th>Fitness</th>\n      <th>x</th>\n      <th>m_ini</th>\n      <th>seed</th>\n      <th>budget</th>\n      <th>budgetMM</th>\n      <th>ratio_samples_learn</th>\n      <th>weight_mass_learn</th>\n      <th>eval_ranks</th>\n      <th>Function evaluations</th>\n      <th>run_time</th>\n      <th>Problem</th>\n      <th>instance</th>\n      <th>Solver</th>\n    </tr>\n  </thead>\n  <tbody>\n    <tr>\n      <th>0</th>\n      <td>NaN</td>\n      <td>NaN</td>\n      <td>NaN</td>\n      <td>0.489474</td>\n      <td>0.400982</td>\n      <td>[7, 11, 6, 15, 18, 4, 12, 2, 13, 1, 16, 0, 14,...</td>\n      <td>10</td>\n      <td>8</td>\n      <td>100</td>\n      <td>10</td>\n      <td>0.1</td>\n      <td>0.9</td>\n      <td>False</td>\n      <td>1</td>\n      <td>13.29283</td>\n      <td>LOP</td>\n      <td>LOP-synthetic,seed=123456,n=20,m=200,phi=0.9</td>\n      <td>UMM</td>\n    </tr>\n    <tr>\n      <th>1</th>\n      <td>NaN</td>\n      <td>NaN</td>\n      <td>NaN</td>\n      <td>0.526316</td>\n      <td>0.574477</td>\n      <td>[8, 19, 0, 15, 11, 12, 1, 17, 2, 16, 10, 7, 13...</td>\n      <td>10</td>\n      <td>8</td>\n      <td>100</td>\n      <td>10</td>\n      <td>0.1</td>\n      <td>0.9</td>\n      <td>False</td>\n      <td>2</td>\n      <td>13.29283</td>\n      <td>LOP</td>\n      <td>LOP-synthetic,seed=123456,n=20,m=200,phi=0.9</td>\n      <td>UMM</td>\n    </tr>\n    <tr>\n      <th>2</th>\n      <td>NaN</td>\n      <td>NaN</td>\n      <td>NaN</td>\n      <td>0.463158</td>\n      <td>0.397994</td>\n      <td>[5, 14, 12, 16, 19, 3, 9, 1, 17, 4, 18, 6, 2, ...</td>\n      <td>10</td>\n      <td>8</td>\n      <td>100</td>\n      <td>10</td>\n      <td>0.1</td>\n      <td>0.9</td>\n      <td>False</td>\n      <td>3</td>\n      <td>13.29283</td>\n      <td>LOP</td>\n      <td>LOP-synthetic,seed=123456,n=20,m=200,phi=0.9</td>\n      <td>UMM</td>\n    </tr>\n    <tr>\n      <th>3</th>\n      <td>NaN</td>\n      <td>NaN</td>\n      <td>NaN</td>\n      <td>0.394737</td>\n      <td>0.697397</td>\n      <td>[5, 11, 4, 1, 17, 8, 3, 10, 15, 12, 13, 18, 2,...</td>\n      <td>10</td>\n      <td>8</td>\n      <td>100</td>\n      <td>10</td>\n      <td>0.1</td>\n      <td>0.9</td>\n      <td>False</td>\n      <td>4</td>\n      <td>13.29283</td>\n      <td>LOP</td>\n      <td>LOP-synthetic,seed=123456,n=20,m=200,phi=0.9</td>\n      <td>UMM</td>\n    </tr>\n    <tr>\n      <th>4</th>\n      <td>NaN</td>\n      <td>NaN</td>\n      <td>NaN</td>\n      <td>0.505263</td>\n      <td>0.511097</td>\n      <td>[4, 19, 13, 0, 11, 18, 1, 7, 15, 10, 3, 16, 5,...</td>\n      <td>10</td>\n      <td>8</td>\n      <td>100</td>\n      <td>10</td>\n      <td>0.1</td>\n      <td>0.9</td>\n      <td>False</td>\n      <td>5</td>\n      <td>13.29283</td>\n      <td>LOP</td>\n      <td>LOP-synthetic,seed=123456,n=20,m=200,phi=0.9</td>\n      <td>UMM</td>\n    </tr>\n    <tr>\n      <th>...</th>\n      <td>...</td>\n      <td>...</td>\n      <td>...</td>\n      <td>...</td>\n      <td>...</td>\n      <td>...</td>\n      <td>...</td>\n      <td>...</td>\n      <td>...</td>\n      <td>...</td>\n      <td>...</td>\n      <td>...</td>\n      <td>...</td>\n      <td>...</td>\n      <td>...</td>\n      <td>...</td>\n      <td>...</td>\n      <td>...</td>\n    </tr>\n    <tr>\n      <th>95</th>\n      <td>1.110223e-16</td>\n      <td>0.340825</td>\n      <td>0.18750</td>\n      <td>0.510526</td>\n      <td>0.065301</td>\n      <td>[15, 1, 2, 17, 8, 16, 4, 12, 19, 14, 11, 18, 6...</td>\n      <td>10</td>\n      <td>8</td>\n      <td>100</td>\n      <td>10</td>\n      <td>0.1</td>\n      <td>0.9</td>\n      <td>False</td>\n      <td>96</td>\n      <td>13.29283</td>\n      <td>LOP</td>\n      <td>LOP-synthetic,seed=123456,n=20,m=200,phi=0.9</td>\n      <td>UMM</td>\n    </tr>\n    <tr>\n      <th>96</th>\n      <td>2.775558e-17</td>\n      <td>0.333311</td>\n      <td>0.15625</td>\n      <td>0.510526</td>\n      <td>0.082373</td>\n      <td>[16, 1, 3, 17, 8, 14, 6, 12, 19, 15, 13, 18, 7...</td>\n      <td>10</td>\n      <td>8</td>\n      <td>100</td>\n      <td>10</td>\n      <td>0.1</td>\n      <td>0.9</td>\n      <td>False</td>\n      <td>97</td>\n      <td>13.29283</td>\n      <td>LOP</td>\n      <td>LOP-synthetic,seed=123456,n=20,m=200,phi=0.9</td>\n      <td>UMM</td>\n    </tr>\n    <tr>\n      <th>97</th>\n      <td>4.336809e-19</td>\n      <td>0.319369</td>\n      <td>0.12500</td>\n      <td>0.510526</td>\n      <td>0.068075</td>\n      <td>[15, 1, 2, 17, 7, 14, 6, 10, 19, 13, 16, 18, 8...</td>\n      <td>10</td>\n      <td>8</td>\n      <td>100</td>\n      <td>10</td>\n      <td>0.1</td>\n      <td>0.9</td>\n      <td>False</td>\n      <td>98</td>\n      <td>13.29283</td>\n      <td>LOP</td>\n      <td>LOP-synthetic,seed=123456,n=20,m=200,phi=0.9</td>\n      <td>UMM</td>\n    </tr>\n    <tr>\n      <th>98</th>\n      <td>1.355253e-20</td>\n      <td>0.307985</td>\n      <td>0.12500</td>\n      <td>0.510526</td>\n      <td>0.066795</td>\n      <td>[16, 2, 1, 18, 8, 15, 6, 10, 17, 14, 12, 19, 7...</td>\n      <td>10</td>\n      <td>8</td>\n      <td>100</td>\n      <td>10</td>\n      <td>0.1</td>\n      <td>0.9</td>\n      <td>False</td>\n      <td>99</td>\n      <td>13.29283</td>\n      <td>LOP</td>\n      <td>LOP-synthetic,seed=123456,n=20,m=200,phi=0.9</td>\n      <td>UMM</td>\n    </tr>\n    <tr>\n      <th>99</th>\n      <td>4.235165e-22</td>\n      <td>0.295227</td>\n      <td>0.09375</td>\n      <td>0.510526</td>\n      <td>0.071916</td>\n      <td>[17, 1, 2, 16, 8, 15, 6, 11, 19, 12, 14, 18, 7...</td>\n      <td>10</td>\n      <td>8</td>\n      <td>100</td>\n      <td>10</td>\n      <td>0.1</td>\n      <td>0.9</td>\n      <td>False</td>\n      <td>100</td>\n      <td>13.29283</td>\n      <td>LOP</td>\n      <td>LOP-synthetic,seed=123456,n=20,m=200,phi=0.9</td>\n      <td>UMM</td>\n    </tr>\n  </tbody>\n</table>\n<p>100 rows × 18 columns</p>\n</div>"
          },
          "metadata": {}
        }
      ],
      "execution_count": 42,
      "metadata": {
        "collapsed": true,
        "execution": {
          "iopub.execute_input": "2020-11-25T16:34:36.364Z",
          "iopub.status.busy": "2020-11-25T16:34:36.357Z",
          "iopub.status.idle": "2020-11-25T16:34:36.381Z",
          "shell.execute_reply": "2020-11-25T16:34:36.413Z"
        },
        "jupyter": {
          "outputs_hidden": false,
          "source_hidden": false
        },
        "nteract": {
          "transient": {
            "deleting": false
          }
        }
      }
    },
    {
      "cell_type": "code",
      "source": [
        "def synthetic_LOP(n, m, phi):\n",
        "    instanceID = np.zeros((n,n))\n",
        "    instanceRA = np.zeros((n,n))\n",
        "    # FIXME: It should already return an array.\n",
        "    s = np.asarray(mk.samplingMM(m, n, phi=phi, k=None))\n",
        "    \n",
        "    for i in range(n):\n",
        "        for j in range(i+1,n):\n",
        "            instanceID[i, j] = (s[:, i] < s[:, j]).sum() / m\n",
        "            instanceID[j, i] = 1 - instanceID[i, j]\n",
        "    central = np.random.permutation(n)\n",
        "    s = s[:, central] #compose\n",
        "    for i in range(n):\n",
        "        for j in range(i+1,n):\n",
        "            instanceRA[i, j] = (s[:, i] < s[:, j]).sum() / m\n",
        "            instanceRA[j, i] = 1 - instanceRA[i, j]\n",
        "    return instanceID, instanceRA, central\n",
        "  \n",
        "n=6\n",
        "m,phi = 200,.9\n",
        "import mallows_kendall as mk\n",
        "\n",
        "instanceID, instanceRA, best_sol = synthetic_LOP(n, m, phi)\n",
        "worst_sol = best_sol[::-1]\n",
        "instanceID, instanceRA\n",
        "ide = np.arange(n)\n",
        "inv = np.argsort(best_sol)\n",
        "s = 0\n",
        "for i in range(n):\n",
        "  for j in range(i):\n",
        "    s += instanceRA[best_sol[i],best_sol[j]] #LT\n",
        "s\n",
        "np.tril(instanceID[np.ix_(ide, ide)]).sum(), np.tril(instanceRA[np.ix_(inv, inv)]).sum(), np.tril(instanceRA[np.ix_(best_sol, best_sol)]).sum(),s"
      ],
      "outputs": [
        {
          "output_type": "execute_result",
          "execution_count": 89,
          "data": {
            "text/plain": "(7.05, 7.05, 7.31, 7.309999999999999)"
          },
          "metadata": {}
        }
      ],
      "execution_count": 89,
      "metadata": {
        "collapsed": true,
        "execution": {
          "iopub.execute_input": "2020-11-15T20:43:57.454Z",
          "iopub.status.busy": "2020-11-15T20:43:57.450Z",
          "iopub.status.idle": "2020-11-15T20:43:57.465Z",
          "shell.execute_reply": "2020-11-15T20:43:57.479Z"
        },
        "jupyter": {
          "outputs_hidden": false,
          "source_hidden": false
        },
        "nteract": {
          "transient": {
            "deleting": false
          }
        }
      }
    },
    {
      "cell_type": "code",
      "source": [
        "instanceID[np.ix_(best_sol, best_sol)] == instanceRA, instanceRA[np.ix_(inv, inv)] == instanceID"
      ],
      "outputs": [
        {
          "output_type": "execute_result",
          "execution_count": 96,
          "data": {
            "text/plain": "(array([[ True,  True,  True,  True,  True,  True],\n        [ True,  True,  True,  True,  True,  True],\n        [ True,  True,  True,  True,  True,  True],\n        [ True,  True,  True,  True,  True,  True],\n        [ True,  True,  True,  True,  True,  True],\n        [ True,  True,  True,  True,  True,  True]]),\n array([[ True,  True,  True,  True,  True,  True],\n        [ True,  True,  True,  True,  True,  True],\n        [ True,  True,  True,  True,  True,  True],\n        [ True,  True,  True,  True,  True,  True],\n        [ True,  True,  True,  True,  True,  True],\n        [ True,  True,  True,  True,  True,  True]]))"
          },
          "metadata": {}
        }
      ],
      "execution_count": 96,
      "metadata": {
        "collapsed": true,
        "execution": {
          "iopub.execute_input": "2020-11-15T20:54:09.798Z",
          "iopub.status.busy": "2020-11-15T20:54:09.793Z",
          "iopub.status.idle": "2020-11-15T20:54:09.809Z",
          "shell.execute_reply": "2020-11-15T20:54:09.825Z"
        },
        "jupyter": {
          "outputs_hidden": false,
          "source_hidden": false
        },
        "nteract": {
          "transient": {
            "deleting": false
          }
        }
      }
    },
    {
      "cell_type": "code",
      "source": [
        "import lop as lop\n",
        "reload(lop)\n",
        "import random\n",
        "from lop import LOP\n",
        "n,m,phi,seed = 8,200,0.9,random.randint(1,10)\n",
        "p= LOP.generate_synthetic(n,m,phi,seed)"
      ],
      "outputs": [
        {
          "output_type": "stream",
          "name": "stdout",
          "text": [
            "identity, reverse, best-known and worst-known fitnesses 14.42 13.580000000000002 12.379999999999999 14.600000000000001\n"
          ]
        }
      ],
      "execution_count": 96,
      "metadata": {
        "collapsed": true,
        "execution": {
          "iopub.execute_input": "2020-11-16T14:13:59.707Z",
          "iopub.status.busy": "2020-11-16T14:13:59.701Z",
          "iopub.status.idle": "2020-11-16T14:13:59.753Z",
          "shell.execute_reply": "2020-11-16T14:13:59.773Z"
        },
        "jupyter": {
          "outputs_hidden": false,
          "source_hidden": false
        },
        "nteract": {
          "transient": {
            "deleting": false
          }
        }
      }
    },
    {
      "cell_type": "code",
      "source": [
        "import lop as lop\n",
        "reload(lop)\n",
        "import random\n",
        "from lop import LOP\n",
        "n,m,phi,seed = 8,200,0.9,random.randint(1,10)\n",
        "p= LOP.generate_synthetic(n,m,phi,seed)\n",
        "p.instance, p.best_sol, p.fitness_nosave(p.best_sol)\n",
        "ide = np.arange(n)\n",
        "bes = p.best_sol\n",
        "inv = np.argsort(bes)\n",
        "wor = np.argsort(inv[::-1])\n",
        "s = 0\n",
        "for i in range(n):\n",
        "  for j in range(i):\n",
        "    s += p.instance[inv[i],inv[j]] #LT\n",
        "print(s, bes)\n",
        "# np.tril(instanceID[np.ix_(ide, ide)]).sum(), \n",
        "np.tril(p.instance[np.ix_(inv, inv)]).sum(), np.tril(p.instance[np.ix_(inv[::-1], inv[::-1])]).sum(), #esto es la identidad\n",
        "# np.tril(instanceRA[np.ix_(best_sol, best_sol)]).sum(),s\n",
        "p.fitness_nosave(bes), p.fitness_nosave(wor)"
      ],
      "outputs": [
        {
          "output_type": "stream",
          "name": "stdout",
          "text": [
            "identity, reverse, best-known and worst-known fitnesses 14.014999999999999 13.985 12.425 14.025\n",
            "12.425000000000002 [2 1 7 5 4 3 6 0]\n"
          ]
        },
        {
          "output_type": "execute_result",
          "execution_count": 92,
          "data": {
            "text/plain": "(12.425, 15.575000000000001)"
          },
          "metadata": {}
        }
      ],
      "execution_count": 92,
      "metadata": {
        "execution": {
          "iopub.execute_input": "2020-11-16T14:10:16.892Z",
          "iopub.status.busy": "2020-11-16T14:10:16.885Z",
          "iopub.status.idle": "2020-11-16T14:10:16.944Z",
          "shell.execute_reply": "2020-11-16T14:10:16.965Z"
        },
        "jupyter": {
          "outputs_hidden": false,
          "source_hidden": false
        },
        "nteract": {
          "transient": {
            "deleting": false
          }
        }
      }
    },
    {
      "cell_type": "code",
      "source": [
        "wor = np.argsort(inv[::-1])\n",
        "s = 0\n",
        "for i in range(n):\n",
        "  for j in range(i):\n",
        "    s += p.instance[wor[i],wor[j]] #LT\n",
        "print(s, bes)\n"
      ],
      "outputs": [
        {
          "output_type": "stream",
          "name": "stdout",
          "text": [
            "15.155 [4 0 2 7 5 6 1 3]\n"
          ]
        }
      ],
      "execution_count": 80,
      "metadata": {
        "collapsed": true,
        "execution": {
          "iopub.execute_input": "2020-11-16T13:47:34.543Z",
          "iopub.status.busy": "2020-11-16T13:47:34.538Z",
          "iopub.status.idle": "2020-11-16T13:47:34.556Z",
          "shell.execute_reply": "2020-11-16T13:47:34.561Z"
        },
        "jupyter": {
          "outputs_hidden": false,
          "source_hidden": false
        },
        "nteract": {
          "transient": {
            "deleting": false
          }
        }
      }
    },
    {
      "cell_type": "code",
      "source": [],
      "outputs": [],
      "execution_count": null,
      "metadata": {
        "collapsed": true,
        "jupyter": {
          "outputs_hidden": false,
          "source_hidden": false
        },
        "nteract": {
          "transient": {
            "deleting": false
          }
        }
      }
    },
    {
      "cell_type": "code",
      "source": [],
      "outputs": [],
      "execution_count": null,
      "metadata": {
        "collapsed": true,
        "jupyter": {
          "outputs_hidden": false,
          "source_hidden": false
        },
        "nteract": {
          "transient": {
            "deleting": false
          }
        }
      }
    },
    {
      "cell_type": "code",
      "source": [],
      "outputs": [],
      "execution_count": null,
      "metadata": {
        "collapsed": true,
        "jupyter": {
          "outputs_hidden": false,
          "source_hidden": false
        },
        "nteract": {
          "transient": {
            "deleting": false
          }
        }
      }
    },
    {
      "cell_type": "code",
      "source": [],
      "outputs": [],
      "execution_count": null,
      "metadata": {
        "collapsed": true,
        "jupyter": {
          "outputs_hidden": false,
          "source_hidden": false
        },
        "nteract": {
          "transient": {
            "deleting": false
          }
        }
      }
    },
    {
      "cell_type": "code",
      "source": [],
      "outputs": [],
      "execution_count": null,
      "metadata": {
        "collapsed": true,
        "jupyter": {
          "outputs_hidden": false,
          "source_hidden": false
        },
        "nteract": {
          "transient": {
            "deleting": false
          }
        }
      }
    }
  ],
  "metadata": {
    "kernel_info": {
      "name": "python3"
    },
    "kernelspec": {
      "display_name": "Python 3",
      "language": "python",
      "name": "python3"
    },
    "language_info": {
      "name": "python",
      "version": "3.9.0",
      "mimetype": "text/x-python",
      "codemirror_mode": {
        "name": "ipython",
        "version": 3
      },
      "pygments_lexer": "ipython3",
      "nbconvert_exporter": "python",
      "file_extension": ".py"
    },
    "nteract": {
      "version": "0.26.0"
    }
  },
  "nbformat": 4,
  "nbformat_minor": 1
}