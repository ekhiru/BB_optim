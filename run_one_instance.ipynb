{
 "cells": [
  {
   "cell_type": "code",
   "execution_count": 1,
   "metadata": {
    "execution": {
     "iopub.execute_input": "2020-11-17T20:39:01.562Z",
     "iopub.status.busy": "2020-11-17T20:39:01.547Z",
     "iopub.status.idle": "2020-11-17T20:39:02.534Z",
     "shell.execute_reply": "2020-11-17T20:39:02.520Z"
    },
    "jupyter": {
     "outputs_hidden": false,
     "source_hidden": false
    },
    "nteract": {
     "transient": {
      "deleting": false
     }
    }
   },
   "outputs": [
    {
     "name": "stdout",
     "output_type": "stream",
     "text": [
      "3.7.5 (default, Nov  1 2019, 02:16:23) \n",
      "[Clang 11.0.0 (clang-1100.0.33.8)]\n"
     ]
    }
   ],
   "source": [
    "from imp import reload\n",
    "import sys\n",
    "print(sys.version)\n",
    "# import rpy2\n",
    "import os\n",
    "import numpy as np\n",
    "import pandas as pd\n",
    "from scipy import stats\n",
    "import statsmodels.stats.api as sms\n",
    "import seaborn as sns\n",
    "import matplotlib.pyplot as plt\n",
    "import matplotlib\n",
    "# Use Type 1 fonts in plots.\n",
    "matplotlib.rcParams['ps.useafm'] = True\n",
    "matplotlib.rcParams['pdf.use14corefonts'] = True\n",
    "matplotlib.rcParams['text.usetex'] = False\n",
    "# Do not wrap long lines\n",
    "np.set_printoptions(linewidth=np.nan)\n",
    "sns.set_style(\"whitegrid\")\n",
    "import runner\n",
    "import umm"
   ]
  },
  {
   "cell_type": "markdown",
   "metadata": {},
   "source": [
    "## Running UMM and CEGO over one instance\n",
    "\n",
    "The next cell allows running CEGO and UMM over a chosen instance and with the selected parameters"
   ]
  },
  {
   "cell_type": "code",
   "execution_count": 2,
   "metadata": {
    "execution": {
     "iopub.execute_input": "2020-11-17T20:39:07.609Z",
     "iopub.status.busy": "2020-11-17T20:39:07.600Z",
     "iopub.status.idle": "2020-11-17T20:39:19.548Z",
     "shell.execute_reply": "2020-11-17T20:39:19.555Z"
    },
    "jupyter": {
     "outputs_hidden": false,
     "source_hidden": false
    },
    "nteract": {
     "transient": {
      "deleting": false
     }
    }
   },
   "outputs": [
    {
     "name": "stdout",
     "output_type": "stream",
     "text": [
      "Reading instance from lop/Spec/N-pal13\n",
      "Instance lop/Spec/N-pal13 not found in ./lop/best_knowns.csv\n",
      "identity, reverse, best-known and worst-known fitnesses 39.0 39.0 None None\n",
      "UMM: eval=0\tF=41.0\tbest_known=None\n",
      "UMM: eval=1\tF=39.0\tbest_known=None\n",
      "UMM: eval=2\tF=36.0\tbest_known=None\n",
      "UMM: eval=3\tF=37.0\tbest_known=None\n",
      "UMM: eval=4\tF=44.0\tbest_known=None\n",
      "UMM: eval=5\tF=41.0\tbest_known=None\n",
      "UMM: eval=6\tF=42.0\tbest_known=None\n",
      "UMM: eval=7\tF=40.0\tbest_known=None\n",
      "UMM: eval=8\tF=41.0\tbest_known=None\n",
      "UMM: eval=9\tF=42.0\tbest_known=None\n",
      "UMM: eval=10\tF=36.0\tbest_known=None\n",
      "UMM: eval=11\tF=40.0\tbest_known=None\n",
      "UMM: eval=12\tF=37.0\tbest_known=None\n",
      "UMM: eval=13\tF=33.0\tbest_known=None\n",
      "UMM: eval=14\tF=36.0\tbest_known=None\n",
      "UMM: eval=15\tF=33.0\tbest_known=None\n",
      "UMM: eval=16\tF=43.0\tbest_known=None\n",
      "UMM: eval=17\tF=43.0\tbest_known=None\n",
      "UMM: eval=18\tF=40.0\tbest_known=None\n",
      "UMM: eval=19\tF=38.0\tbest_known=None\n",
      "UMM: eval=20\tF=42.0\tbest_known=None\n",
      "UMM: eval=21\tF=36.0\tbest_known=None\n",
      "UMM: eval=22\tF=41.0\tbest_known=None\n",
      "UMM: eval=23\tF=38.0\tbest_known=None\n",
      "UMM: eval=24\tF=45.0\tbest_known=None\n",
      "UMM: eval=25\tF=35.0\tbest_known=None\n",
      "UMM: eval=26\tF=39.0\tbest_known=None\n",
      "UMM: eval=27\tF=38.0\tbest_known=None\n",
      "UMM: eval=28\tF=39.0\tbest_known=None\n",
      "UMM: eval=29\tF=38.0\tbest_known=None\n",
      "UMM: eval=30\tF=39.0\tbest_known=None\n",
      "UMM: eval=31\tF=41.0\tbest_known=None\n",
      "UMM: eval=32\tF=37.0\tbest_known=None\n",
      "UMM: eval=33\tF=37.0\tbest_known=None\n",
      "UMM: eval=34\tF=41.0\tbest_known=None\n",
      "UMM: eval=35\tF=37.0\tbest_known=None\n",
      "UMM: eval=36\tF=41.0\tbest_known=None\n",
      "UMM: eval=37\tF=39.0\tbest_known=None\n",
      "UMM: eval=38\tF=36.0\tbest_known=None\n",
      "UMM: eval=39\tF=42.0\tbest_known=None\n",
      "UMM: eval=40\tF=40.0\tbest_known=None\n",
      "UMM: eval=41\tF=39.0\tbest_known=None\n",
      "UMM: eval=42\tF=37.0\tbest_known=None\n",
      "UMM: eval=43\tF=34.0\tbest_known=None\n",
      "UMM: eval=44\tF=37.0\tbest_known=None\n",
      "UMM: eval=45\tF=37.0\tbest_known=None\n",
      "UMM: eval=46\tF=37.0\tbest_known=None\n",
      "UMM: eval=47\tF=38.0\tbest_known=None\n",
      "UMM: eval=48\tF=39.0\tbest_known=None\n",
      "UMM: eval=49\tF=43.0\tbest_known=None\n",
      "UMM: eval=50\tF=35.0\tbest_known=None\n",
      "UMM: eval=51\tF=43.0\tbest_known=None\n",
      "UMM: eval=52\tF=40.0\tbest_known=None\n",
      "UMM: eval=53\tF=41.0\tbest_known=None\n",
      "UMM: eval=54\tF=39.0\tbest_known=None\n",
      "UMM: eval=55\tF=36.0\tbest_known=None\n",
      "UMM: eval=56\tF=38.0\tbest_known=None\n",
      "UMM: eval=57\tF=40.0\tbest_known=None\n",
      "UMM: eval=58\tF=42.0\tbest_known=None\n",
      "UMM: eval=59\tF=39.0\tbest_known=None\n",
      "UMM: eval=60\tF=39.0\tbest_known=None\n",
      "UMM: eval=61\tF=38.0\tbest_known=None\n",
      "UMM: eval=62\tF=38.0\tbest_known=None\n",
      "UMM: eval=63\tF=39.0\tbest_known=None\n",
      "UMM: eval=64\tF=46.0\tbest_known=None\n",
      "UMM: eval=65\tF=35.0\tbest_known=None\n",
      "UMM: eval=66\tF=34.0\tbest_known=None\n",
      "UMM: eval=67\tF=31.0\tbest_known=None\n",
      "UMM: eval=68\tF=42.0\tbest_known=None\n",
      "UMM: eval=69\tF=32.0\tbest_known=None\n",
      "UMM: eval=70\tF=35.0\tbest_known=None\n",
      "UMM: eval=71\tF=37.0\tbest_known=None\n",
      "UMM: eval=72\tF=39.0\tbest_known=None\n",
      "UMM: eval=73\tF=35.0\tbest_known=None\n",
      "UMM: eval=74\tF=38.0\tbest_known=None\n",
      "UMM: eval=75\tF=39.0\tbest_known=None\n",
      "UMM: eval=76\tF=43.0\tbest_known=None\n",
      "UMM: eval=77\tF=37.0\tbest_known=None\n",
      "UMM: eval=78\tF=35.0\tbest_known=None\n",
      "UMM: eval=79\tF=34.0\tbest_known=None\n",
      "UMM: eval=80\tF=39.0\tbest_known=None\n",
      "UMM: eval=81\tF=39.0\tbest_known=None\n",
      "UMM: eval=82\tF=34.0\tbest_known=None\n",
      "UMM: eval=83\tF=29.0\tbest_known=None\n",
      "UMM: eval=84\tF=38.0\tbest_known=None\n",
      "UMM: eval=85\tF=40.0\tbest_known=None\n",
      "UMM: eval=86\tF=32.0\tbest_known=None\n",
      "UMM: eval=87\tF=34.0\tbest_known=None\n",
      "UMM: eval=88\tF=42.0\tbest_known=None\n",
      "UMM: eval=89\tF=42.0\tbest_known=None\n",
      "UMM: eval=90\tF=34.0\tbest_known=None\n",
      "UMM: eval=91\tF=47.0\tbest_known=None\n",
      "UMM: eval=92\tF=43.0\tbest_known=None\n",
      "UMM: eval=93\tF=37.0\tbest_known=None\n",
      "UMM: eval=94\tF=37.0\tbest_known=None\n",
      "UMM: eval=95\tF=41.0\tbest_known=None\n",
      "UMM: eval=96\tF=37.0\tbest_known=None\n",
      "UMM: eval=97\tF=32.0\tbest_known=None\n",
      "UMM: eval=98\tF=38.0\tbest_known=None\n",
      "UMM: eval=99\tF=45.0\tbest_known=None\n",
      "UMM: eval=100\tF=39.0\tbest_known=None\n",
      "UMM: eval=101\tF=31.0\tbest_known=None\n",
      "UMM: eval=102\tF=38.0\tbest_known=None\n",
      "UMM: eval=103\tF=40.0\tbest_known=None\n",
      "UMM: eval=104\tF=40.0\tbest_known=None\n",
      "UMM: eval=105\tF=38.0\tbest_known=None\n",
      "UMM: eval=106\tF=41.0\tbest_known=None\n",
      "UMM: eval=107\tF=38.0\tbest_known=None\n",
      "UMM: eval=108\tF=38.0\tbest_known=None\n",
      "UMM: eval=109\tF=36.0\tbest_known=None\n",
      "UMM: eval=110\tF=41.0\tbest_known=None\n",
      "UMM: eval=111\tF=39.0\tbest_known=None\n",
      "UMM: eval=112\tF=40.0\tbest_known=None\n",
      "UMM: eval=113\tF=38.0\tbest_known=None\n",
      "UMM: eval=114\tF=40.0\tbest_known=None\n",
      "UMM: eval=115\tF=41.0\tbest_known=None\n",
      "UMM: eval=116\tF=36.0\tbest_known=None\n",
      "UMM: eval=117\tF=43.0\tbest_known=None\n",
      "UMM: eval=118\tF=43.0\tbest_known=None\n",
      "UMM: eval=119\tF=33.0\tbest_known=None\n",
      "UMM: eval=120\tF=37.0\tbest_known=None\n",
      "UMM: eval=121\tF=43.0\tbest_known=None\n",
      "UMM: eval=122\tF=34.0\tbest_known=None\n",
      "UMM: eval=123\tF=38.0\tbest_known=None\n",
      "UMM: eval=124\tF=34.0\tbest_known=None\n",
      "UMM: eval=125\tF=38.0\tbest_known=None\n",
      "UMM: eval=126\tF=37.0\tbest_known=None\n",
      "UMM: eval=127\tF=38.0\tbest_known=None\n",
      "UMM: eval=128\tF=36.0\tbest_known=None\n",
      "UMM: eval=129\tF=36.0\tbest_known=None\n",
      "UMM: eval=130\tF=42.0\tbest_known=None\n",
      "UMM: eval=131\tF=39.0\tbest_known=None\n",
      "UMM: eval=132\tF=39.0\tbest_known=None\n",
      "UMM: eval=133\tF=43.0\tbest_known=None\n",
      "UMM: eval=134\tF=39.0\tbest_known=None\n",
      "UMM: eval=135\tF=40.0\tbest_known=None\n",
      "UMM: eval=136\tF=44.0\tbest_known=None\n",
      "UMM: eval=137\tF=34.0\tbest_known=None\n",
      "UMM: eval=138\tF=33.0\tbest_known=None\n",
      "UMM: eval=139\tF=34.0\tbest_known=None\n",
      "UMM: eval=140\tF=32.0\tbest_known=None\n",
      "UMM: eval=141\tF=33.0\tbest_known=None\n",
      "UMM: eval=142\tF=39.0\tbest_known=None\n",
      "UMM: eval=143\tF=41.0\tbest_known=None\n",
      "UMM: eval=144\tF=34.0\tbest_known=None\n",
      "UMM: eval=145\tF=45.0\tbest_known=None\n",
      "UMM: eval=146\tF=34.0\tbest_known=None\n",
      "UMM: eval=147\tF=30.0\tbest_known=None\n",
      "UMM: eval=148\tF=45.0\tbest_known=None\n",
      "UMM: eval=149\tF=31.0\tbest_known=None\n",
      "UMM: eval=150\tF=42.0\tbest_known=None\n",
      "UMM: eval=151\tF=40.0\tbest_known=None\n",
      "UMM: eval=152\tF=41.0\tbest_known=None\n",
      "UMM: eval=153\tF=33.0\tbest_known=None\n",
      "UMM: eval=154\tF=40.0\tbest_known=None\n",
      "UMM: eval=155\tF=39.0\tbest_known=None\n",
      "UMM: eval=156\tF=35.0\tbest_known=None\n",
      "UMM: eval=157\tF=41.0\tbest_known=None\n",
      "UMM: eval=158\tF=33.0\tbest_known=None\n",
      "UMM: eval=159\tF=37.0\tbest_known=None\n",
      "UMM: eval=160\tF=41.0\tbest_known=None\n",
      "UMM: eval=161\tF=33.0\tbest_known=None\n",
      "UMM: eval=162\tF=34.0\tbest_known=None\n",
      "UMM: eval=163\tF=41.0\tbest_known=None\n",
      "UMM: eval=164\tF=37.0\tbest_known=None\n",
      "UMM: eval=165\tF=40.0\tbest_known=None\n",
      "UMM: eval=166\tF=34.0\tbest_known=None\n",
      "UMM: eval=167\tF=39.0\tbest_known=None\n",
      "UMM: eval=168\tF=42.0\tbest_known=None\n",
      "UMM: eval=169\tF=42.0\tbest_known=None\n",
      "UMM: eval=170\tF=34.0\tbest_known=None\n",
      "UMM: eval=171\tF=35.0\tbest_known=None\n",
      "UMM: eval=172\tF=38.0\tbest_known=None\n",
      "UMM: eval=173\tF=35.0\tbest_known=None\n",
      "UMM: eval=174\tF=32.0\tbest_known=None\n",
      "UMM: eval=175\tF=36.0\tbest_known=None\n",
      "UMM: eval=176\tF=35.0\tbest_known=None\n",
      "UMM: eval=177\tF=36.0\tbest_known=None\n",
      "UMM: eval=178\tF=35.0\tbest_known=None\n",
      "UMM: eval=179\tF=37.0\tbest_known=None\n",
      "UMM: eval=180\tF=34.0\tbest_known=None\n",
      "UMM: eval=181\tF=38.0\tbest_known=None\n",
      "UMM: eval=182\tF=33.0\tbest_known=None\n",
      "UMM: eval=183\tF=37.0\tbest_known=None\n",
      "UMM: eval=184\tF=37.0\tbest_known=None\n",
      "UMM: eval=185\tF=38.0\tbest_known=None\n",
      "UMM: eval=186\tF=34.0\tbest_known=None\n",
      "UMM: eval=187\tF=35.0\tbest_known=None\n",
      "UMM: eval=188\tF=40.0\tbest_known=None\n",
      "UMM: eval=189\tF=33.0\tbest_known=None\n",
      "UMM: eval=190\tF=43.0\tbest_known=None\n",
      "UMM: eval=191\tF=35.0\tbest_known=None\n",
      "UMM: eval=192\tF=44.0\tbest_known=None\n",
      "UMM: eval=193\tF=42.0\tbest_known=None\n",
      "UMM: eval=194\tF=32.0\tbest_known=None\n",
      "UMM: eval=195\tF=42.0\tbest_known=None\n",
      "UMM: eval=196\tF=35.0\tbest_known=None\n",
      "UMM: eval=197\tF=36.0\tbest_known=None\n",
      "UMM: eval=198\tF=33.0\tbest_known=None\n",
      "UMM: eval=199\tF=39.0\tbest_known=None\n",
      "UMM: eval=200\tF=45.0\tbest_known=None\n",
      "UMM: eval=201\tF=39.0\tbest_known=None\n",
      "UMM: eval=202\tF=30.0\tbest_known=None\n",
      "UMM: eval=203\tF=34.0\tbest_known=None\n",
      "UMM: eval=204\tF=34.0\tbest_known=None\n",
      "UMM: eval=205\tF=35.0\tbest_known=None\n",
      "UMM: eval=206\tF=32.0\tbest_known=None\n",
      "UMM: eval=207\tF=34.0\tbest_known=None\n",
      "UMM: eval=208\tF=36.0\tbest_known=None\n",
      "UMM: eval=209\tF=39.0\tbest_known=None\n",
      "UMM: eval=210\tF=41.0\tbest_known=None\n",
      "UMM: eval=211\tF=37.0\tbest_known=None\n",
      "UMM: eval=212\tF=37.0\tbest_known=None\n",
      "UMM: eval=213\tF=37.0\tbest_known=None\n",
      "UMM: eval=214\tF=38.0\tbest_known=None\n",
      "UMM: eval=215\tF=33.0\tbest_known=None\n",
      "UMM: eval=216\tF=34.0\tbest_known=None\n",
      "UMM: eval=217\tF=37.0\tbest_known=None\n",
      "UMM: eval=218\tF=35.0\tbest_known=None\n",
      "UMM: eval=219\tF=32.0\tbest_known=None\n"
     ]
    },
    {
     "name": "stdout",
     "output_type": "stream",
     "text": [
      "UMM: eval=220\tF=42.0\tbest_known=None\n",
      "UMM: eval=221\tF=41.0\tbest_known=None\n",
      "UMM: eval=222\tF=36.0\tbest_known=None\n",
      "UMM: eval=223\tF=33.0\tbest_known=None\n",
      "UMM: eval=224\tF=36.0\tbest_known=None\n",
      "UMM: eval=225\tF=38.0\tbest_known=None\n",
      "UMM: eval=226\tF=39.0\tbest_known=None\n",
      "UMM: eval=227\tF=35.0\tbest_known=None\n",
      "UMM: eval=228\tF=34.0\tbest_known=None\n",
      "UMM: eval=229\tF=34.0\tbest_known=None\n",
      "UMM: eval=230\tF=35.0\tbest_known=None\n",
      "UMM: eval=231\tF=37.0\tbest_known=None\n",
      "UMM: eval=232\tF=30.0\tbest_known=None\n",
      "UMM: eval=233\tF=37.0\tbest_known=None\n",
      "UMM: eval=234\tF=32.0\tbest_known=None\n",
      "UMM: eval=235\tF=34.0\tbest_known=None\n",
      "UMM: eval=236\tF=34.0\tbest_known=None\n",
      "UMM: eval=237\tF=33.0\tbest_known=None\n",
      "UMM: eval=238\tF=36.0\tbest_known=None\n",
      "UMM: eval=239\tF=38.0\tbest_known=None\n",
      "UMM: eval=240\tF=35.0\tbest_known=None\n",
      "UMM: eval=241\tF=35.0\tbest_known=None\n",
      "UMM: eval=242\tF=33.0\tbest_known=None\n",
      "UMM: eval=243\tF=39.0\tbest_known=None\n",
      "UMM: eval=244\tF=42.0\tbest_known=None\n",
      "UMM: eval=245\tF=43.0\tbest_known=None\n",
      "UMM: eval=246\tF=42.0\tbest_known=None\n",
      "UMM: eval=247\tF=36.0\tbest_known=None\n",
      "UMM: eval=248\tF=31.0\tbest_known=None\n",
      "UMM: eval=249\tF=39.0\tbest_known=None\n",
      "UMM: eval=250\tF=36.0\tbest_known=None\n",
      "UMM: eval=251\tF=40.0\tbest_known=None\n",
      "UMM: eval=252\tF=32.0\tbest_known=None\n",
      "UMM: eval=253\tF=33.0\tbest_known=None\n",
      "UMM: eval=254\tF=37.0\tbest_known=None\n",
      "UMM: eval=255\tF=44.0\tbest_known=None\n",
      "UMM: eval=256\tF=40.0\tbest_known=None\n",
      "UMM: eval=257\tF=33.0\tbest_known=None\n",
      "UMM: eval=258\tF=37.0\tbest_known=None\n",
      "UMM: eval=259\tF=39.0\tbest_known=None\n",
      "UMM: eval=260\tF=30.0\tbest_known=None\n",
      "UMM: eval=261\tF=37.0\tbest_known=None\n",
      "UMM: eval=262\tF=42.0\tbest_known=None\n",
      "UMM: eval=263\tF=41.0\tbest_known=None\n",
      "UMM: eval=264\tF=35.0\tbest_known=None\n",
      "UMM: eval=265\tF=35.0\tbest_known=None\n",
      "UMM: eval=266\tF=39.0\tbest_known=None\n",
      "UMM: eval=267\tF=39.0\tbest_known=None\n",
      "UMM: eval=268\tF=38.0\tbest_known=None\n",
      "UMM: eval=269\tF=34.0\tbest_known=None\n",
      "UMM: eval=270\tF=37.0\tbest_known=None\n",
      "UMM: eval=271\tF=36.0\tbest_known=None\n",
      "UMM: eval=272\tF=41.0\tbest_known=None\n",
      "UMM: eval=273\tF=38.0\tbest_known=None\n",
      "UMM: eval=274\tF=30.0\tbest_known=None\n",
      "UMM: eval=275\tF=39.0\tbest_known=None\n",
      "UMM: eval=276\tF=36.0\tbest_known=None\n",
      "UMM: eval=277\tF=34.0\tbest_known=None\n",
      "UMM: eval=278\tF=32.0\tbest_known=None\n",
      "UMM: eval=279\tF=29.0\tbest_known=None\n",
      "UMM: eval=280\tF=43.0\tbest_known=None\n",
      "UMM: eval=281\tF=34.0\tbest_known=None\n",
      "UMM: eval=282\tF=42.0\tbest_known=None\n",
      "UMM: eval=283\tF=30.0\tbest_known=None\n",
      "UMM: eval=284\tF=38.0\tbest_known=None\n",
      "UMM: eval=285\tF=38.0\tbest_known=None\n",
      "UMM: eval=286\tF=38.0\tbest_known=None\n",
      "UMM: eval=287\tF=34.0\tbest_known=None\n",
      "UMM: eval=288\tF=38.0\tbest_known=None\n",
      "UMM: eval=289\tF=39.0\tbest_known=None\n",
      "UMM: eval=290\tF=37.0\tbest_known=None\n",
      "UMM: eval=291\tF=34.0\tbest_known=None\n",
      "UMM: eval=292\tF=41.0\tbest_known=None\n",
      "UMM: eval=293\tF=33.0\tbest_known=None\n",
      "UMM: eval=294\tF=39.0\tbest_known=None\n",
      "UMM: eval=295\tF=41.0\tbest_known=None\n",
      "UMM: eval=296\tF=44.0\tbest_known=None\n",
      "UMM: eval=297\tF=37.0\tbest_known=None\n",
      "UMM: eval=298\tF=42.0\tbest_known=None\n",
      "UMM: eval=299\tF=28.0\tbest_known=None\n",
      "UMM: eval=300\tF=38.0\tbest_known=None\n",
      "UMM: eval=301\tF=41.0\tbest_known=None\n",
      "UMM: eval=302\tF=33.0\tbest_known=None\n",
      "UMM: eval=303\tF=40.0\tbest_known=None\n",
      "UMM: eval=304\tF=35.0\tbest_known=None\n",
      "UMM: eval=305\tF=32.0\tbest_known=None\n",
      "UMM: eval=306\tF=33.0\tbest_known=None\n",
      "UMM: eval=307\tF=38.0\tbest_known=None\n",
      "UMM: eval=308\tF=40.0\tbest_known=None\n",
      "UMM: eval=309\tF=31.0\tbest_known=None\n",
      "UMM: eval=310\tF=37.0\tbest_known=None\n",
      "UMM: eval=311\tF=37.0\tbest_known=None\n",
      "UMM: eval=312\tF=36.0\tbest_known=None\n",
      "UMM: eval=313\tF=38.0\tbest_known=None\n",
      "UMM: eval=314\tF=37.0\tbest_known=None\n",
      "UMM: eval=315\tF=38.0\tbest_known=None\n",
      "UMM: eval=316\tF=33.0\tbest_known=None\n",
      "UMM: eval=317\tF=34.0\tbest_known=None\n",
      "UMM: eval=318\tF=37.0\tbest_known=None\n",
      "UMM: eval=319\tF=31.0\tbest_known=None\n",
      "UMM: eval=320\tF=34.0\tbest_known=None\n",
      "UMM: eval=321\tF=31.0\tbest_known=None\n",
      "UMM: eval=322\tF=33.0\tbest_known=None\n",
      "UMM: eval=323\tF=37.0\tbest_known=None\n",
      "UMM: eval=324\tF=38.0\tbest_known=None\n",
      "UMM: eval=325\tF=35.0\tbest_known=None\n",
      "UMM: eval=326\tF=31.0\tbest_known=None\n",
      "UMM: eval=327\tF=36.0\tbest_known=None\n",
      "UMM: eval=328\tF=36.0\tbest_known=None\n",
      "UMM: eval=329\tF=39.0\tbest_known=None\n",
      "UMM: eval=330\tF=28.0\tbest_known=None\n",
      "UMM: eval=331\tF=34.0\tbest_known=None\n",
      "UMM: eval=332\tF=28.0\tbest_known=None\n",
      "UMM: eval=333\tF=30.0\tbest_known=None\n",
      "UMM: eval=334\tF=34.0\tbest_known=None\n",
      "UMM: eval=335\tF=41.0\tbest_known=None\n",
      "UMM: eval=336\tF=33.0\tbest_known=None\n",
      "UMM: eval=337\tF=28.0\tbest_known=None\n",
      "UMM: eval=338\tF=31.0\tbest_known=None\n",
      "UMM: eval=339\tF=31.0\tbest_known=None\n",
      "UMM: eval=340\tF=31.0\tbest_known=None\n",
      "UMM: eval=341\tF=29.0\tbest_known=None\n",
      "UMM: eval=342\tF=40.0\tbest_known=None\n",
      "UMM: eval=343\tF=35.0\tbest_known=None\n",
      "UMM: eval=344\tF=35.0\tbest_known=None\n",
      "UMM: eval=345\tF=31.0\tbest_known=None\n",
      "UMM: eval=346\tF=35.0\tbest_known=None\n",
      "UMM: eval=347\tF=36.0\tbest_known=None\n",
      "UMM: eval=348\tF=29.0\tbest_known=None\n",
      "UMM: eval=349\tF=29.0\tbest_known=None\n",
      "UMM: eval=350\tF=32.0\tbest_known=None\n",
      "UMM: eval=351\tF=35.0\tbest_known=None\n",
      "UMM: eval=352\tF=31.0\tbest_known=None\n",
      "UMM: eval=353\tF=38.0\tbest_known=None\n",
      "UMM: eval=354\tF=35.0\tbest_known=None\n",
      "UMM: eval=355\tF=31.0\tbest_known=None\n",
      "UMM: eval=356\tF=32.0\tbest_known=None\n",
      "UMM: eval=357\tF=35.0\tbest_known=None\n",
      "UMM: eval=358\tF=32.0\tbest_known=None\n",
      "UMM: eval=359\tF=34.0\tbest_known=None\n",
      "UMM: eval=360\tF=32.0\tbest_known=None\n",
      "UMM: eval=361\tF=30.0\tbest_known=None\n",
      "UMM: eval=362\tF=32.0\tbest_known=None\n",
      "UMM: eval=363\tF=38.0\tbest_known=None\n",
      "UMM: eval=364\tF=28.0\tbest_known=None\n",
      "UMM: eval=365\tF=36.0\tbest_known=None\n",
      "UMM: eval=366\tF=29.0\tbest_known=None\n",
      "UMM: eval=367\tF=32.0\tbest_known=None\n",
      "UMM: eval=368\tF=32.0\tbest_known=None\n",
      "UMM: eval=369\tF=34.0\tbest_known=None\n",
      "UMM: eval=370\tF=31.0\tbest_known=None\n",
      "UMM: eval=371\tF=30.0\tbest_known=None\n",
      "UMM: eval=372\tF=31.0\tbest_known=None\n",
      "UMM: eval=373\tF=30.0\tbest_known=None\n",
      "UMM: eval=374\tF=32.0\tbest_known=None\n",
      "UMM: eval=375\tF=32.0\tbest_known=None\n",
      "UMM: eval=376\tF=30.0\tbest_known=None\n",
      "UMM: eval=377\tF=34.0\tbest_known=None\n",
      "UMM: eval=378\tF=28.0\tbest_known=None\n",
      "UMM: eval=379\tF=32.0\tbest_known=None\n",
      "UMM: eval=380\tF=27.0\tbest_known=None\n",
      "UMM: eval=381\tF=32.0\tbest_known=None\n",
      "UMM: eval=382\tF=32.0\tbest_known=None\n",
      "UMM: eval=383\tF=31.0\tbest_known=None\n",
      "UMM: eval=384\tF=34.0\tbest_known=None\n",
      "UMM: eval=385\tF=31.0\tbest_known=None\n",
      "UMM: eval=386\tF=29.0\tbest_known=None\n",
      "UMM: eval=387\tF=35.0\tbest_known=None\n",
      "UMM: eval=388\tF=29.0\tbest_known=None\n",
      "UMM: eval=389\tF=31.0\tbest_known=None\n"
     ]
    }
   ],
   "source": [
    "reload(runner)\n",
    "# instance_name=\"LOP-synthetic,seed=123456,n=10,m=200,phi=0.5\"\n",
    "# instance_name=\"pfsp/rec19.txt\"\n",
    "instance_name=\"lop/Spec/N-pal13\"\n",
    "# instance_name=\"lop/xLOLIB/N-be75eec_150\"\n",
    "# instance_name=\"qap/nug12.dat\"\n",
    "budgetGA=10**3#\n",
    "seed=2\n",
    "budget=400#0\n",
    "m_ini=10\n",
    "budgetMM=10\n",
    "r_1 = [.1]\n",
    "r_2 = [.9]\n",
    "res = []\n",
    "for ratio_samples_learn in r_1:\n",
    "  for weight_mass_learn in r_2:\n",
    "    out_filename = \"pickles/\"+instance_name.replace(\"/\", \"__\").replace(\".txt\", \"\")\n",
    "    df = runner.run_once(\"UMM\", instance_name, seed,budget = budget, m_ini = m_ini, budgetMM = budgetMM, ratio_samples_learn = ratio_samples_learn, weight_mass_learn = weight_mass_learn, out_filename = out_filename)\n",
    "#     res.append([out_filename,ratio_samples_learn, weight_mass_learn,df.Fitness.min()])\n",
    "# runner.run_once(\"CEGO\", instance_name, seed,budget = budget, m_ini = m_ini, budgetGA = budgetGA, out_filename = out_filename)"
   ]
  },
  {
   "cell_type": "code",
   "execution_count": null,
   "metadata": {},
   "outputs": [],
   "source": []
  },
  {
   "cell_type": "code",
   "execution_count": null,
   "metadata": {},
   "outputs": [],
   "source": []
  },
  {
   "cell_type": "code",
   "execution_count": null,
   "metadata": {},
   "outputs": [],
   "source": []
  },
  {
   "cell_type": "code",
   "execution_count": null,
   "metadata": {},
   "outputs": [],
   "source": []
  },
  {
   "cell_type": "code",
   "execution_count": null,
   "metadata": {},
   "outputs": [],
   "source": [
    "\n"
   ]
  },
  {
   "cell_type": "markdown",
   "metadata": {},
   "source": [
    "The following piece of code plots the results of the previous experiment"
   ]
  },
  {
   "cell_type": "code",
   "execution_count": 3,
   "metadata": {
    "execution": {
     "iopub.execute_input": "2020-11-17T20:20:03.569Z",
     "iopub.status.busy": "2020-11-17T20:20:03.561Z",
     "iopub.status.idle": "2020-11-17T20:20:04.056Z",
     "shell.execute_reply": "2020-11-17T20:20:04.084Z"
    },
    "jupyter": {
     "outputs_hidden": false,
     "source_hidden": false
    },
    "nteract": {
     "transient": {
      "deleting": false
     }
    }
   },
   "outputs": [
    {
     "name": "stdout",
     "output_type": "stream",
     "text": [
      "instance name lop/Spec/N-pal13 - time 100.42\n",
      "27.0\n"
     ]
    },
    {
     "data": {
      "image/png": "[encoded data removed]",
      "text/plain": [
       "<Figure size 1080x360 with 1 Axes>"
      ]
     },
     "metadata": {
      "needs_background": "light"
     },
     "output_type": "display_data"
    }
   ],
   "source": [
    "out_file = \"pickles/\"+instance_name.replace(\"/\", \"__\").replace(\".txt\", \"\")\n",
    "df = pd.read_pickle(out_filename+'.pkl.gz')\n",
    "\n",
    "print(\"instance name\", df.instance.iloc[0], \"- time\", round(df.run_time.iloc[0], 2))\n",
    "print(df.Fitness.min())\n",
    "\n",
    "color_variable = 'Solver'\n",
    "y_variables = ['Fitness']#,'Distance','phi_sample'\n",
    "palette = sns.color_palette(\"husl\", len(df[color_variable].drop_duplicates()))\n",
    "for y_variable in y_variables:\n",
    "    plt.figure(figsize=(15,5))\n",
    "    sns.lineplot(x='Function evaluations',y=y_variable,hue='Solver',data=df, palette=palette)\n",
    "    plt.show()"
   ]
  },
  {
   "cell_type": "code",
   "execution_count": 34,
   "metadata": {
    "collapsed": true,
    "execution": {
     "iopub.execute_input": "2020-11-15T20:36:11.205Z",
     "iopub.status.busy": "2020-11-15T20:36:11.199Z",
     "iopub.status.idle": "2020-11-15T20:36:11.213Z",
     "shell.execute_reply": "2020-11-15T20:36:11.219Z"
    },
    "jupyter": {
     "outputs_hidden": false,
     "source_hidden": false
    },
    "nteract": {
     "transient": {
      "deleting": false
     }
    }
   },
   "outputs": [],
   "source": [
    "np.random.seed(0)"
   ]
  },
  {
   "cell_type": "code",
   "execution_count": 89,
   "metadata": {
    "collapsed": true,
    "execution": {
     "iopub.execute_input": "2020-11-15T20:43:57.454Z",
     "iopub.status.busy": "2020-11-15T20:43:57.450Z",
     "iopub.status.idle": "2020-11-15T20:43:57.465Z",
     "shell.execute_reply": "2020-11-15T20:43:57.479Z"
    },
    "jupyter": {
     "outputs_hidden": false,
     "source_hidden": false
    },
    "nteract": {
     "transient": {
      "deleting": false
     }
    }
   },
   "outputs": [
    {
     "data": {
      "text/plain": [
       "(7.05, 7.05, 7.31, 7.309999999999999)"
      ]
     },
     "execution_count": 89,
     "metadata": {},
     "output_type": "execute_result"
    }
   ],
   "source": [
    "def synthetic_LOP(n, m, phi):\n",
    "    instanceID = np.zeros((n,n))\n",
    "    instanceRA = np.zeros((n,n))\n",
    "    # FIXME: It should already return an array.\n",
    "    s = np.asarray(mk.samplingMM(m, n, phi=phi, k=None))\n",
    "    \n",
    "    for i in range(n):\n",
    "        for j in range(i+1,n):\n",
    "            instanceID[i, j] = (s[:, i] < s[:, j]).sum() / m\n",
    "            instanceID[j, i] = 1 - instanceID[i, j]\n",
    "    central = np.random.permutation(n)\n",
    "    s = s[:, central] #compose\n",
    "    for i in range(n):\n",
    "        for j in range(i+1,n):\n",
    "            instanceRA[i, j] = (s[:, i] < s[:, j]).sum() / m\n",
    "            instanceRA[j, i] = 1 - instanceRA[i, j]\n",
    "    return instanceID, instanceRA, central\n",
    "  \n",
    "n=6\n",
    "m,phi = 200,.9\n",
    "import mallows_kendall as mk\n",
    "\n",
    "instanceID, instanceRA, best_sol = synthetic_LOP(n, m, phi)\n",
    "worst_sol = best_sol[::-1]\n",
    "instanceID, instanceRA\n",
    "ide = np.arange(n)\n",
    "inv = np.argsort(best_sol)\n",
    "s = 0\n",
    "for i in range(n):\n",
    "  for j in range(i):\n",
    "    s += instanceRA[best_sol[i],best_sol[j]] #LT\n",
    "s\n",
    "np.tril(instanceID[np.ix_(ide, ide)]).sum(), np.tril(instanceRA[np.ix_(inv, inv)]).sum(), np.tril(instanceRA[np.ix_(best_sol, best_sol)]).sum(),s"
   ]
  },
  {
   "cell_type": "code",
   "execution_count": 96,
   "metadata": {
    "collapsed": true,
    "execution": {
     "iopub.execute_input": "2020-11-15T20:54:09.798Z",
     "iopub.status.busy": "2020-11-15T20:54:09.793Z",
     "iopub.status.idle": "2020-11-15T20:54:09.809Z",
     "shell.execute_reply": "2020-11-15T20:54:09.825Z"
    },
    "jupyter": {
     "outputs_hidden": false,
     "source_hidden": false
    },
    "nteract": {
     "transient": {
      "deleting": false
     }
    }
   },
   "outputs": [
    {
     "data": {
      "text/plain": [
       "(array([[ True,  True,  True,  True,  True,  True],\n",
       "        [ True,  True,  True,  True,  True,  True],\n",
       "        [ True,  True,  True,  True,  True,  True],\n",
       "        [ True,  True,  True,  True,  True,  True],\n",
       "        [ True,  True,  True,  True,  True,  True],\n",
       "        [ True,  True,  True,  True,  True,  True]]),\n",
       " array([[ True,  True,  True,  True,  True,  True],\n",
       "        [ True,  True,  True,  True,  True,  True],\n",
       "        [ True,  True,  True,  True,  True,  True],\n",
       "        [ True,  True,  True,  True,  True,  True],\n",
       "        [ True,  True,  True,  True,  True,  True],\n",
       "        [ True,  True,  True,  True,  True,  True]]))"
      ]
     },
     "execution_count": 96,
     "metadata": {},
     "output_type": "execute_result"
    }
   ],
   "source": [
    "instanceID[np.ix_(best_sol, best_sol)] == instanceRA, instanceRA[np.ix_(inv, inv)] == instanceID"
   ]
  },
  {
   "cell_type": "code",
   "execution_count": 96,
   "metadata": {
    "collapsed": true,
    "execution": {
     "iopub.execute_input": "2020-11-16T14:13:59.707Z",
     "iopub.status.busy": "2020-11-16T14:13:59.701Z",
     "iopub.status.idle": "2020-11-16T14:13:59.753Z",
     "shell.execute_reply": "2020-11-16T14:13:59.773Z"
    },
    "jupyter": {
     "outputs_hidden": false,
     "source_hidden": false
    },
    "nteract": {
     "transient": {
      "deleting": false
     }
    }
   },
   "outputs": [
    {
     "name": "stdout",
     "output_type": "stream",
     "text": [
      "identity, reverse, best-known and worst-known fitnesses 14.42 13.580000000000002 12.379999999999999 14.600000000000001\n"
     ]
    }
   ],
   "source": [
    "import lop as lop\n",
    "reload(lop)\n",
    "import random\n",
    "from lop import LOP\n",
    "n,m,phi,seed = 8,200,0.9,random.randint(1,10)\n",
    "p= LOP.generate_synthetic(n,m,phi,seed)"
   ]
  },
  {
   "cell_type": "code",
   "execution_count": 92,
   "metadata": {
    "collapsed": true,
    "execution": {
     "iopub.execute_input": "2020-11-16T14:10:16.892Z",
     "iopub.status.busy": "2020-11-16T14:10:16.885Z",
     "iopub.status.idle": "2020-11-16T14:10:16.944Z",
     "shell.execute_reply": "2020-11-16T14:10:16.965Z"
    },
    "jupyter": {
     "outputs_hidden": false,
     "source_hidden": false
    },
    "nteract": {
     "transient": {
      "deleting": false
     }
    }
   },
   "outputs": [
    {
     "name": "stdout",
     "output_type": "stream",
     "text": [
      "identity, reverse, best-known and worst-known fitnesses 14.014999999999999 13.985 12.425 14.025\n",
      "12.425000000000002 [2 1 7 5 4 3 6 0]\n"
     ]
    },
    {
     "data": {
      "text/plain": [
       "(12.425, 15.575000000000001)"
      ]
     },
     "execution_count": 92,
     "metadata": {},
     "output_type": "execute_result"
    }
   ],
   "source": [
    "import lop as lop\n",
    "reload(lop)\n",
    "import random\n",
    "from lop import LOP\n",
    "n,m,phi,seed = 8,200,0.9,random.randint(1,10)\n",
    "p= LOP.generate_synthetic(n,m,phi,seed)\n",
    "p.instance, p.best_sol, p.fitness_nosave(p.best_sol)\n",
    "ide = np.arange(n)\n",
    "bes = p.best_sol\n",
    "inv = np.argsort(bes)\n",
    "wor = np.argsort(inv[::-1])\n",
    "s = 0\n",
    "for i in range(n):\n",
    "  for j in range(i):\n",
    "    s += p.instance[inv[i],inv[j]] #LT\n",
    "print(s, bes)\n",
    "# np.tril(instanceID[np.ix_(ide, ide)]).sum(), \n",
    "np.tril(p.instance[np.ix_(inv, inv)]).sum(), np.tril(p.instance[np.ix_(inv[::-1], inv[::-1])]).sum(), #esto es la identidad\n",
    "# np.tril(instanceRA[np.ix_(best_sol, best_sol)]).sum(),s\n",
    "p.fitness_nosave(bes), p.fitness_nosave(wor)"
   ]
  },
  {
   "cell_type": "code",
   "execution_count": 80,
   "metadata": {
    "collapsed": true,
    "execution": {
     "iopub.execute_input": "2020-11-16T13:47:34.543Z",
     "iopub.status.busy": "2020-11-16T13:47:34.538Z",
     "iopub.status.idle": "2020-11-16T13:47:34.556Z",
     "shell.execute_reply": "2020-11-16T13:47:34.561Z"
    },
    "jupyter": {
     "outputs_hidden": false,
     "source_hidden": false
    },
    "nteract": {
     "transient": {
      "deleting": false
     }
    }
   },
   "outputs": [
    {
     "name": "stdout",
     "output_type": "stream",
     "text": [
      "15.155 [4 0 2 7 5 6 1 3]\n"
     ]
    }
   ],
   "source": [
    "wor = np.argsort(inv[::-1])\n",
    "s = 0\n",
    "for i in range(n):\n",
    "  for j in range(i):\n",
    "    s += p.instance[wor[i],wor[j]] #LT\n",
    "print(s, bes)\n"
   ]
  },
  {
   "cell_type": "code",
   "execution_count": null,
   "metadata": {
    "collapsed": true,
    "jupyter": {
     "outputs_hidden": false,
     "source_hidden": false
    },
    "nteract": {
     "transient": {
      "deleting": false
     }
    }
   },
   "outputs": [],
   "source": []
  },
  {
   "cell_type": "code",
   "execution_count": null,
   "metadata": {
    "collapsed": true,
    "jupyter": {
     "outputs_hidden": false,
     "source_hidden": false
    },
    "nteract": {
     "transient": {
      "deleting": false
     }
    }
   },
   "outputs": [],
   "source": []
  },
  {
   "cell_type": "code",
   "execution_count": null,
   "metadata": {
    "collapsed": true,
    "jupyter": {
     "outputs_hidden": false,
     "source_hidden": false
    },
    "nteract": {
     "transient": {
      "deleting": false
     }
    }
   },
   "outputs": [],
   "source": []
  },
  {
   "cell_type": "code",
   "execution_count": null,
   "metadata": {
    "collapsed": true,
    "jupyter": {
     "outputs_hidden": false,
     "source_hidden": false
    },
    "nteract": {
     "transient": {
      "deleting": false
     }
    }
   },
   "outputs": [],
   "source": []
  },
  {
   "cell_type": "code",
   "execution_count": null,
   "metadata": {
    "collapsed": true,
    "jupyter": {
     "outputs_hidden": false,
     "source_hidden": false
    },
    "nteract": {
     "transient": {
      "deleting": false
     }
    }
   },
   "outputs": [],
   "source": []
  }
 ],
 "metadata": {
  "kernel_info": {
   "name": "python3"
  },
  "kernelspec": {
   "display_name": "Python 3",
   "language": "python",
   "name": "python3"
  },
  "language_info": {
   "codemirror_mode": {
    "name": "ipython",
    "version": 3
   },
   "file_extension": ".py",
   "mimetype": "text/x-python",
   "name": "python",
   "nbconvert_exporter": "python",
   "pygments_lexer": "ipython3",
   "version": "3.7.5"
  },
  "nteract": {
   "version": "0.26.0"
  }
 },
 "nbformat": 4,
 "nbformat_minor": 1
}
