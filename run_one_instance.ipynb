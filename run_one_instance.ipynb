{
  "cells": [
    {
      "cell_type": "code",
      "source": [
        "from imp import reload\n",
        "import sys\n",
        "print(sys.version)\n",
        "# import rpy2\n",
        "import os\n",
        "import numpy as np\n",
        "import pandas as pd\n",
        "from scipy import stats\n",
        "import statsmodels.stats.api as sms\n",
        "import seaborn as sns\n",
        "import matplotlib.pyplot as plt\n",
        "import matplotlib\n",
        "# Use Type 1 fonts in plots.\n",
        "matplotlib.rcParams['ps.useafm'] = True\n",
        "matplotlib.rcParams['pdf.use14corefonts'] = True\n",
        "matplotlib.rcParams['text.usetex'] = False\n",
        "# Do not wrap long lines\n",
        "np.set_printoptions(linewidth=np.nan)\n",
        "sns.set_style(\"whitegrid\")\n",
        "import runner\n",
        "import umm"
      ],
      "outputs": [
        {
          "output_type": "stream",
          "name": "stdout",
          "text": [
            "3.7.5 (default, Nov  1 2019, 02:16:23) \n",
            "[Clang 11.0.0 (clang-1100.0.33.8)]\n"
          ]
        }
      ],
      "execution_count": 1,
      "metadata": {
        "execution": {
          "iopub.execute_input": "2020-11-17T18:41:48.134Z",
          "iopub.status.busy": "2020-11-17T18:41:48.121Z",
          "iopub.status.idle": "2020-11-17T18:41:50.488Z",
          "shell.execute_reply": "2020-11-17T18:41:50.500Z"
        },
        "jupyter": {
          "outputs_hidden": false,
          "source_hidden": false
        },
        "nteract": {
          "transient": {
            "deleting": false
          }
        }
      }
    },
    {
      "cell_type": "markdown",
      "source": [
        "## Running UMM and CEGO over one instance\n",
        "\n",
        "The next cell allows running CEGO and UMM over a chosen instance and with the selected parameters"
      ],
      "metadata": {}
    },
    {
      "cell_type": "code",
      "source": [
        "reload(runner)\n",
        "instance_name=\"LOP-synthetic,seed=123456,n=20,m=200,phi=0.9\"\n",
        "# instance_name=\"pfsp/rec19.txt\"\n",
        "# instance_name=\"lop/xLOLIB/N-be75eec_150\"\n",
        "# instance_name=\"lop/xLOLIB/N-be75eec_150\"\n",
        "# instance_name=\"qap/nug12.dat\"\n",
        "budgetGA=10**3#\n",
        "seed=2\n",
        "budget=40#0\n",
        "m_ini=10\n",
        "budgetMM=10\n",
        "r_1 = [.1]\n",
        "r_2 = [.9]\n",
        "res = []\n",
        "for ratio_samples_learn in r_1:\n",
        "  for weight_mass_learn in r_2:\n",
        "    out_filename = \"pickles/\"+instance_name.replace(\"/\", \"__\").replace(\".txt\", \"\")\n",
        "#     df = runner.run_once(\"UMM\", instance_name, seed,budget = budget, m_ini = m_ini, budgetMM = budgetMM, \n",
        "#                          ratio_samples_learn = ratio_samples_learn, weight_mass_learn = weight_mass_learn, out_filename = out_filename)\n",
        "#     res.append([out_filename,ratio_samples_learn, weight_mass_learn,df.Fitness.min()])\n",
        "#out_filename=\"local_new_CEGO\"\n",
        "runner.run_once(\"CEGO\", instance_name, seed,budget = budget, m_ini = m_ini, budgetGA = budgetGA, out_filename = out_filename)"
      ],
      "outputs": [
        {
          "output_type": "stream",
          "name": "stdout",
          "text": [
            "Generating synthetic LOP instance with seed=123456 n=20 m=200 phi=0.9\n",
            "identity, reverse, best-known and worst-known fitnesses 100.75999999999999 89.24 91.92 98.08\n",
            "R version 3.6.1 (2019-07-05)\n",
            "Platform: x86_64-apple-darwin15.6.0 (64-bit)\n",
            "Running under: macOS  10.16\n",
            "\n",
            "Matrix products: default\n",
            "LAPACK: /Library/Frameworks/R.framework/Versions/3.6/Resources/lib/libRlapack.dylib\n",
            "\n",
            "locale:\n",
            "[1] C/UTF-8/C/C/C/C\n",
            "\n",
            "attached base packages:\n",
            "[1] tools     stats     graphics  grDevices utils     datasets  methods  \n",
            "[8] base     \n",
            "\n",
            "other attached packages:\n",
            "[1] CEGO_2.4.0\n",
            "\n",
            "loaded via a namespace (and not attached):\n",
            " [1] MASS_7.3-51.4     compiler_3.6.1    backports_1.1.7   Matrix_1.2-17    \n",
            " [5] parallel_3.6.1    BBmisc_1.11       fastmatch_1.1-0   ParamHelpers_1.14\n",
            " [9] grid_3.6.1        checkmate_2.0.0   DEoptim_2.2-5     lattice_0.20-38  \n",
            "[13] quadprog_1.5-8   \n",
            "[1] \"Evaluations: 11     Quality: 85.8     Best: 85.46\"\n",
            "[1] \"Evaluations: 12     Quality: 90.3     Best: 85.46\"\n",
            "[1] \"Evaluations: 13     Quality: 90.67     Best: 85.46\"\n",
            "[1] \"Evaluations: 14     Quality: 90.89     Best: 85.46\"\n",
            "[1] \"Evaluations: 15     Quality: 84.75     Best: 84.75\"\n",
            "[1] \"Evaluations: 16     Quality: 96.78     Best: 84.75\"\n",
            "[1] \"Evaluations: 17     Quality: 93.95     Best: 84.75\"\n",
            "[1] \"Evaluations: 18     Quality: 88.81     Best: 84.75\"\n",
            "[1] \"Evaluations: 19     Quality: 87.66     Best: 84.75\"\n",
            "[1] \"Evaluations: 20     Quality: 102.39     Best: 84.75\"\n",
            "[1] \"Evaluations: 21     Quality: 99.75     Best: 84.75\"\n",
            "[1] \"Evaluations: 22     Quality: 84.63     Best: 84.63\"\n",
            "[1] \"Evaluations: 23     Quality: 93.53     Best: 84.63\"\n",
            "[1] \"Evaluations: 24     Quality: 91.92     Best: 84.63\"\n",
            "[1] \"Evaluations: 25     Quality: 86.5     Best: 84.63\"\n",
            "[1] \"Evaluations: 26     Quality: 92.09     Best: 84.63\"\n",
            "[1] \"Evaluations: 27     Quality: 92.26     Best: 84.63\"\n",
            "[1] \"Evaluations: 28     Quality: 94.61     Best: 84.63\"\n",
            "[1] \"Evaluations: 29     Quality: 95.64     Best: 84.63\"\n",
            "[1] \"Evaluations: 30     Quality: 88.63     Best: 84.63\"\n",
            "[1] \"Evaluations: 31     Quality: 96.51     Best: 84.63\"\n",
            "[1] \"Evaluations: 32     Quality: 92.8     Best: 84.63\"\n",
            "[1] \"Evaluations: 33     Quality: 90.64     Best: 84.63\"\n",
            "[1] \"Evaluations: 34     Quality: 84.94     Best: 84.63\"\n",
            "[1] \"Evaluations: 35     Quality: 97.88     Best: 84.63\"\n",
            "[1] \"Evaluations: 36     Quality: 86.37     Best: 84.63\"\n",
            "[1] \"Evaluations: 37     Quality: 93.83     Best: 84.63\"\n",
            "[1] \"Evaluations: 38     Quality: 101.85     Best: 84.63\"\n",
            "[1] \"Evaluations: 39     Quality: 87.96     Best: 84.63\"\n",
            "[1] \"Evaluations: 40     Quality: 98.77     Best: 84.63\"\n"
          ]
        },
        {
          "output_type": "execute_result",
          "execution_count": 6,
          "data": {
            "text/plain": "    Fitness                                                  x  m_ini  seed  \\\n0     95.34  [14, 5, 18, 7, 0, 12, 15, 11, 8, 1, 13, 2, 17,...     10     2   \n1     93.21  [9, 13, 4, 6, 17, 3, 10, 14, 2, 16, 11, 12, 0,...     10     2   \n2     96.96  [6, 5, 9, 15, 18, 13, 16, 2, 14, 10, 1, 17, 8,...     10     2   \n3     96.07  [16, 17, 10, 3, 4, 1, 8, 2, 14, 12, 15, 6, 11,...     10     2   \n4     93.73  [9, 7, 1, 2, 5, 17, 6, 18, 13, 8, 16, 3, 10, 1...     10     2   \n5     93.32  [7, 9, 12, 18, 0, 13, 10, 19, 1, 15, 6, 17, 16...     10     2   \n6     85.46  [2, 16, 14, 10, 19, 17, 15, 6, 3, 0, 13, 4, 12...     10     2   \n7     98.29  [18, 3, 7, 8, 16, 14, 0, 11, 9, 1, 6, 19, 4, 1...     10     2   \n8     94.86  [2, 10, 13, 15, 19, 5, 4, 1, 11, 17, 9, 0, 7, ...     10     2   \n9     99.71  [3, 18, 5, 1, 9, 2, 19, 10, 8, 6, 12, 16, 17, ...     10     2   \n10    85.80  [6, 5, 12, 2, 10, 19, 17, 14, 4, 16, 1, 8, 7, ...     10     2   \n11    90.30  [1, 4, 12, 9, 5, 17, 2, 19, 7, 16, 0, 3, 6, 8,...     10     2   \n12    90.67  [4, 17, 8, 16, 18, 19, 3, 5, 1, 7, 14, 10, 11,...     10     2   \n13    90.89  [9, 4, 13, 15, 6, 14, 2, 18, 7, 12, 19, 0, 3, ...     10     2   \n14    84.75  [7, 12, 14, 11, 6, 19, 2, 18, 3, 13, 1, 4, 10,...     10     2   \n15    96.78  [0, 2, 9, 10, 19, 13, 16, 18, 1, 8, 5, 3, 4, 1...     10     2   \n16    93.95  [17, 11, 15, 10, 0, 19, 14, 5, 2, 12, 3, 6, 9,...     10     2   \n17    88.81  [3, 18, 17, 5, 6, 19, 14, 13, 4, 16, 2, 11, 1,...     10     2   \n18    87.66  [0, 13, 17, 2, 7, 14, 1, 8, 9, 16, 18, 3, 6, 1...     10     2   \n19   102.39  [3, 12, 16, 10, 13, 9, 14, 15, 17, 1, 11, 0, 4...     10     2   \n20    99.75  [10, 9, 19, 12, 15, 16, 2, 8, 1, 13, 5, 18, 3,...     10     2   \n21    84.63  [7, 9, 12, 19, 1, 13, 17, 18, 2, 4, 16, 11, 6,...     10     2   \n22    93.53  [8, 9, 13, 2, 19, 15, 14, 1, 0, 12, 17, 4, 3, ...     10     2   \n23    91.92  [3, 1, 4, 14, 0, 18, 19, 17, 7, 8, 13, 9, 15, ...     10     2   \n24    86.50  [2, 19, 16, 3, 18, 17, 7, 0, 6, 13, 15, 14, 8,...     10     2   \n25    92.09  [9, 13, 4, 17, 18, 14, 16, 6, 10, 3, 19, 11, 8...     10     2   \n26    92.26  [2, 13, 15, 9, 7, 17, 18, 8, 4, 14, 5, 19, 12,...     10     2   \n27    94.61  [16, 7, 9, 8, 17, 18, 2, 11, 1, 12, 3, 0, 19, ...     10     2   \n28    95.64  [6, 9, 16, 11, 4, 19, 10, 13, 3, 1, 5, 8, 2, 1...     10     2   \n29    88.63  [6, 17, 14, 7, 0, 16, 8, 3, 4, 13, 18, 12, 9, ...     10     2   \n30    96.51  [5, 12, 16, 4, 11, 13, 15, 10, 14, 17, 2, 7, 6...     10     2   \n31    92.80  [4, 6, 15, 18, 2, 16, 11, 17, 9, 13, 19, 8, 10...     10     2   \n32    90.64  [14, 19, 18, 12, 5, 16, 7, 15, 6, 0, 3, 17, 8,...     10     2   \n33    84.94  [2, 14, 17, 4, 3, 19, 5, 18, 1, 12, 11, 0, 6, ...     10     2   \n34    97.88  [0, 15, 8, 2, 11, 17, 13, 19, 6, 9, 3, 5, 4, 1...     10     2   \n35    86.37  [17, 12, 19, 0, 1, 18, 10, 13, 14, 6, 7, 9, 3,...     10     2   \n36    93.83  [6, 9, 18, 12, 13, 15, 19, 0, 3, 10, 17, 14, 4...     10     2   \n37   101.85  [9, 13, 16, 5, 7, 8, 11, 0, 6, 4, 17, 3, 10, 2...     10     2   \n38    87.96  [10, 1, 15, 19, 5, 17, 14, 9, 7, 6, 13, 16, 8,...     10     2   \n39    98.77  [4, 8, 10, 14, 13, 17, 3, 19, 5, 15, 9, 11, 18...     10     2   \n\n    budget  budgetGA  Distance  Fitness_norm  Function evaluations   run_time  \\\n0       40        10  0.600000  5.551948e-01                     1  28.282963   \n1       40        10  0.489474  2.094156e-01                     2  28.282963   \n2       40        10  0.510526  8.181818e-01                     3  28.282963   \n3       40        10  0.557895  6.737013e-01                     4  28.282963   \n4       40        10  0.515789  2.938312e-01                     5  28.282963   \n5       40        10  0.426316  2.272727e-01                     6  28.282963   \n6       40        10  0.500000 -1.048701e+00                     7  28.282963   \n7       40        10  0.421053  1.034091e+00                     8  28.282963   \n8       40        10  0.547368  4.772727e-01                     9  28.282963   \n9       40        10  0.615789  1.264610e+00                    10  28.282963   \n10      40        10  0.563158 -9.935065e-01                    11  28.282963   \n11      40        10  0.547368 -2.629870e-01                    12  28.282963   \n12      40        10  0.457895 -2.029221e-01                    13  28.282963   \n13      40        10  0.431579 -1.672078e-01                    14  28.282963   \n14      40        10  0.489474 -1.163961e+00                    15  28.282963   \n15      40        10  0.647368  7.889610e-01                    16  28.282963   \n16      40        10  0.478947  3.295455e-01                    17  28.282963   \n17      40        10  0.589474 -5.048701e-01                    18  28.282963   \n18      40        10  0.621053 -6.915584e-01                    19  28.282963   \n19      40        10  0.568421  1.699675e+00                    20  28.282963   \n20      40        10  0.457895  1.271104e+00                    21  28.282963   \n21      40        10  0.447368 -1.183442e+00                    22  28.282963   \n22      40        10  0.578947  2.613636e-01                    23  28.282963   \n23      40        10  0.447368 -2.306957e-15                    24  28.282963   \n24      40        10  0.521053 -8.798701e-01                    25  28.282963   \n25      40        10  0.352632  2.759740e-02                    26  28.282963   \n26      40        10  0.505263  5.519481e-02                    27  28.282963   \n27      40        10  0.489474  4.366883e-01                    28  28.282963   \n28      40        10  0.563158  6.038961e-01                    29  28.282963   \n29      40        10  0.552632 -5.340909e-01                    30  28.282963   \n30      40        10  0.610526  7.451299e-01                    31  28.282963   \n31      40        10  0.447368  1.428571e-01                    32  28.282963   \n32      40        10  0.478947 -2.077922e-01                    33  28.282963   \n33      40        10  0.647368 -1.133117e+00                    34  28.282963   \n34      40        10  0.578947  9.675325e-01                    35  28.282963   \n35      40        10  0.447368 -9.009740e-01                    36  28.282963   \n36      40        10  0.515789  3.100649e-01                    37  28.282963   \n37      40        10  0.563158  1.612013e+00                    38  28.282963   \n38      40        10  0.310526 -6.428571e-01                    39  28.282963   \n39      40        10  0.436842  1.112013e+00                    40  28.282963   \n\n   Problem                                      instance Solver  \n0      LOP  LOP-synthetic,seed=123456,n=20,m=200,phi=0.9   CEGO  \n1      LOP  LOP-synthetic,seed=123456,n=20,m=200,phi=0.9   CEGO  \n2      LOP  LOP-synthetic,seed=123456,n=20,m=200,phi=0.9   CEGO  \n3      LOP  LOP-synthetic,seed=123456,n=20,m=200,phi=0.9   CEGO  \n4      LOP  LOP-synthetic,seed=123456,n=20,m=200,phi=0.9   CEGO  \n5      LOP  LOP-synthetic,seed=123456,n=20,m=200,phi=0.9   CEGO  \n6      LOP  LOP-synthetic,seed=123456,n=20,m=200,phi=0.9   CEGO  \n7      LOP  LOP-synthetic,seed=123456,n=20,m=200,phi=0.9   CEGO  \n8      LOP  LOP-synthetic,seed=123456,n=20,m=200,phi=0.9   CEGO  \n9      LOP  LOP-synthetic,seed=123456,n=20,m=200,phi=0.9   CEGO  \n10     LOP  LOP-synthetic,seed=123456,n=20,m=200,phi=0.9   CEGO  \n11     LOP  LOP-synthetic,seed=123456,n=20,m=200,phi=0.9   CEGO  \n12     LOP  LOP-synthetic,seed=123456,n=20,m=200,phi=0.9   CEGO  \n13     LOP  LOP-synthetic,seed=123456,n=20,m=200,phi=0.9   CEGO  \n14     LOP  LOP-synthetic,seed=123456,n=20,m=200,phi=0.9   CEGO  \n15     LOP  LOP-synthetic,seed=123456,n=20,m=200,phi=0.9   CEGO  \n16     LOP  LOP-synthetic,seed=123456,n=20,m=200,phi=0.9   CEGO  \n17     LOP  LOP-synthetic,seed=123456,n=20,m=200,phi=0.9   CEGO  \n18     LOP  LOP-synthetic,seed=123456,n=20,m=200,phi=0.9   CEGO  \n19     LOP  LOP-synthetic,seed=123456,n=20,m=200,phi=0.9   CEGO  \n20     LOP  LOP-synthetic,seed=123456,n=20,m=200,phi=0.9   CEGO  \n21     LOP  LOP-synthetic,seed=123456,n=20,m=200,phi=0.9   CEGO  \n22     LOP  LOP-synthetic,seed=123456,n=20,m=200,phi=0.9   CEGO  \n23     LOP  LOP-synthetic,seed=123456,n=20,m=200,phi=0.9   CEGO  \n24     LOP  LOP-synthetic,seed=123456,n=20,m=200,phi=0.9   CEGO  \n25     LOP  LOP-synthetic,seed=123456,n=20,m=200,phi=0.9   CEGO  \n26     LOP  LOP-synthetic,seed=123456,n=20,m=200,phi=0.9   CEGO  \n27     LOP  LOP-synthetic,seed=123456,n=20,m=200,phi=0.9   CEGO  \n28     LOP  LOP-synthetic,seed=123456,n=20,m=200,phi=0.9   CEGO  \n29     LOP  LOP-synthetic,seed=123456,n=20,m=200,phi=0.9   CEGO  \n30     LOP  LOP-synthetic,seed=123456,n=20,m=200,phi=0.9   CEGO  \n31     LOP  LOP-synthetic,seed=123456,n=20,m=200,phi=0.9   CEGO  \n32     LOP  LOP-synthetic,seed=123456,n=20,m=200,phi=0.9   CEGO  \n33     LOP  LOP-synthetic,seed=123456,n=20,m=200,phi=0.9   CEGO  \n34     LOP  LOP-synthetic,seed=123456,n=20,m=200,phi=0.9   CEGO  \n35     LOP  LOP-synthetic,seed=123456,n=20,m=200,phi=0.9   CEGO  \n36     LOP  LOP-synthetic,seed=123456,n=20,m=200,phi=0.9   CEGO  \n37     LOP  LOP-synthetic,seed=123456,n=20,m=200,phi=0.9   CEGO  \n38     LOP  LOP-synthetic,seed=123456,n=20,m=200,phi=0.9   CEGO  \n39     LOP  LOP-synthetic,seed=123456,n=20,m=200,phi=0.9   CEGO  ",
            "text/html": "<div>\n<style scoped>\n    .dataframe tbody tr th:only-of-type {\n        vertical-align: middle;\n    }\n\n    .dataframe tbody tr th {\n        vertical-align: top;\n    }\n\n    .dataframe thead th {\n        text-align: right;\n    }\n</style>\n<table border=\"1\" class=\"dataframe\">\n  <thead>\n    <tr style=\"text-align: right;\">\n      <th></th>\n      <th>Fitness</th>\n      <th>x</th>\n      <th>m_ini</th>\n      <th>seed</th>\n      <th>budget</th>\n      <th>budgetGA</th>\n      <th>Distance</th>\n      <th>Fitness_norm</th>\n      <th>Function evaluations</th>\n      <th>run_time</th>\n      <th>Problem</th>\n      <th>instance</th>\n      <th>Solver</th>\n    </tr>\n  </thead>\n  <tbody>\n    <tr>\n      <th>0</th>\n      <td>95.34</td>\n      <td>[14, 5, 18, 7, 0, 12, 15, 11, 8, 1, 13, 2, 17,...</td>\n      <td>10</td>\n      <td>2</td>\n      <td>40</td>\n      <td>10</td>\n      <td>0.600000</td>\n      <td>5.551948e-01</td>\n      <td>1</td>\n      <td>28.282963</td>\n      <td>LOP</td>\n      <td>LOP-synthetic,seed=123456,n=20,m=200,phi=0.9</td>\n      <td>CEGO</td>\n    </tr>\n    <tr>\n      <th>1</th>\n      <td>93.21</td>\n      <td>[9, 13, 4, 6, 17, 3, 10, 14, 2, 16, 11, 12, 0,...</td>\n      <td>10</td>\n      <td>2</td>\n      <td>40</td>\n      <td>10</td>\n      <td>0.489474</td>\n      <td>2.094156e-01</td>\n      <td>2</td>\n      <td>28.282963</td>\n      <td>LOP</td>\n      <td>LOP-synthetic,seed=123456,n=20,m=200,phi=0.9</td>\n      <td>CEGO</td>\n    </tr>\n    <tr>\n      <th>2</th>\n      <td>96.96</td>\n      <td>[6, 5, 9, 15, 18, 13, 16, 2, 14, 10, 1, 17, 8,...</td>\n      <td>10</td>\n      <td>2</td>\n      <td>40</td>\n      <td>10</td>\n      <td>0.510526</td>\n      <td>8.181818e-01</td>\n      <td>3</td>\n      <td>28.282963</td>\n      <td>LOP</td>\n      <td>LOP-synthetic,seed=123456,n=20,m=200,phi=0.9</td>\n      <td>CEGO</td>\n    </tr>\n    <tr>\n      <th>3</th>\n      <td>96.07</td>\n      <td>[16, 17, 10, 3, 4, 1, 8, 2, 14, 12, 15, 6, 11,...</td>\n      <td>10</td>\n      <td>2</td>\n      <td>40</td>\n      <td>10</td>\n      <td>0.557895</td>\n      <td>6.737013e-01</td>\n      <td>4</td>\n      <td>28.282963</td>\n      <td>LOP</td>\n      <td>LOP-synthetic,seed=123456,n=20,m=200,phi=0.9</td>\n      <td>CEGO</td>\n    </tr>\n    <tr>\n      <th>4</th>\n      <td>93.73</td>\n      <td>[9, 7, 1, 2, 5, 17, 6, 18, 13, 8, 16, 3, 10, 1...</td>\n      <td>10</td>\n      <td>2</td>\n      <td>40</td>\n      <td>10</td>\n      <td>0.515789</td>\n      <td>2.938312e-01</td>\n      <td>5</td>\n      <td>28.282963</td>\n      <td>LOP</td>\n      <td>LOP-synthetic,seed=123456,n=20,m=200,phi=0.9</td>\n      <td>CEGO</td>\n    </tr>\n    <tr>\n      <th>5</th>\n      <td>93.32</td>\n      <td>[7, 9, 12, 18, 0, 13, 10, 19, 1, 15, 6, 17, 16...</td>\n      <td>10</td>\n      <td>2</td>\n      <td>40</td>\n      <td>10</td>\n      <td>0.426316</td>\n      <td>2.272727e-01</td>\n      <td>6</td>\n      <td>28.282963</td>\n      <td>LOP</td>\n      <td>LOP-synthetic,seed=123456,n=20,m=200,phi=0.9</td>\n      <td>CEGO</td>\n    </tr>\n    <tr>\n      <th>6</th>\n      <td>85.46</td>\n      <td>[2, 16, 14, 10, 19, 17, 15, 6, 3, 0, 13, 4, 12...</td>\n      <td>10</td>\n      <td>2</td>\n      <td>40</td>\n      <td>10</td>\n      <td>0.500000</td>\n      <td>-1.048701e+00</td>\n      <td>7</td>\n      <td>28.282963</td>\n      <td>LOP</td>\n      <td>LOP-synthetic,seed=123456,n=20,m=200,phi=0.9</td>\n      <td>CEGO</td>\n    </tr>\n    <tr>\n      <th>7</th>\n      <td>98.29</td>\n      <td>[18, 3, 7, 8, 16, 14, 0, 11, 9, 1, 6, 19, 4, 1...</td>\n      <td>10</td>\n      <td>2</td>\n      <td>40</td>\n      <td>10</td>\n      <td>0.421053</td>\n      <td>1.034091e+00</td>\n      <td>8</td>\n      <td>28.282963</td>\n      <td>LOP</td>\n      <td>LOP-synthetic,seed=123456,n=20,m=200,phi=0.9</td>\n      <td>CEGO</td>\n    </tr>\n    <tr>\n      <th>8</th>\n      <td>94.86</td>\n      <td>[2, 10, 13, 15, 19, 5, 4, 1, 11, 17, 9, 0, 7, ...</td>\n      <td>10</td>\n      <td>2</td>\n      <td>40</td>\n      <td>10</td>\n      <td>0.547368</td>\n      <td>4.772727e-01</td>\n      <td>9</td>\n      <td>28.282963</td>\n      <td>LOP</td>\n      <td>LOP-synthetic,seed=123456,n=20,m=200,phi=0.9</td>\n      <td>CEGO</td>\n    </tr>\n    <tr>\n      <th>9</th>\n      <td>99.71</td>\n      <td>[3, 18, 5, 1, 9, 2, 19, 10, 8, 6, 12, 16, 17, ...</td>\n      <td>10</td>\n      <td>2</td>\n      <td>40</td>\n      <td>10</td>\n      <td>0.615789</td>\n      <td>1.264610e+00</td>\n      <td>10</td>\n      <td>28.282963</td>\n      <td>LOP</td>\n      <td>LOP-synthetic,seed=123456,n=20,m=200,phi=0.9</td>\n      <td>CEGO</td>\n    </tr>\n    <tr>\n      <th>10</th>\n      <td>85.80</td>\n      <td>[6, 5, 12, 2, 10, 19, 17, 14, 4, 16, 1, 8, 7, ...</td>\n      <td>10</td>\n      <td>2</td>\n      <td>40</td>\n      <td>10</td>\n      <td>0.563158</td>\n      <td>-9.935065e-01</td>\n      <td>11</td>\n      <td>28.282963</td>\n      <td>LOP</td>\n      <td>LOP-synthetic,seed=123456,n=20,m=200,phi=0.9</td>\n      <td>CEGO</td>\n    </tr>\n    <tr>\n      <th>11</th>\n      <td>90.30</td>\n      <td>[1, 4, 12, 9, 5, 17, 2, 19, 7, 16, 0, 3, 6, 8,...</td>\n      <td>10</td>\n      <td>2</td>\n      <td>40</td>\n      <td>10</td>\n      <td>0.547368</td>\n      <td>-2.629870e-01</td>\n      <td>12</td>\n      <td>28.282963</td>\n      <td>LOP</td>\n      <td>LOP-synthetic,seed=123456,n=20,m=200,phi=0.9</td>\n      <td>CEGO</td>\n    </tr>\n    <tr>\n      <th>12</th>\n      <td>90.67</td>\n      <td>[4, 17, 8, 16, 18, 19, 3, 5, 1, 7, 14, 10, 11,...</td>\n      <td>10</td>\n      <td>2</td>\n      <td>40</td>\n      <td>10</td>\n      <td>0.457895</td>\n      <td>-2.029221e-01</td>\n      <td>13</td>\n      <td>28.282963</td>\n      <td>LOP</td>\n      <td>LOP-synthetic,seed=123456,n=20,m=200,phi=0.9</td>\n      <td>CEGO</td>\n    </tr>\n    <tr>\n      <th>13</th>\n      <td>90.89</td>\n      <td>[9, 4, 13, 15, 6, 14, 2, 18, 7, 12, 19, 0, 3, ...</td>\n      <td>10</td>\n      <td>2</td>\n      <td>40</td>\n      <td>10</td>\n      <td>0.431579</td>\n      <td>-1.672078e-01</td>\n      <td>14</td>\n      <td>28.282963</td>\n      <td>LOP</td>\n      <td>LOP-synthetic,seed=123456,n=20,m=200,phi=0.9</td>\n      <td>CEGO</td>\n    </tr>\n    <tr>\n      <th>14</th>\n      <td>84.75</td>\n      <td>[7, 12, 14, 11, 6, 19, 2, 18, 3, 13, 1, 4, 10,...</td>\n      <td>10</td>\n      <td>2</td>\n      <td>40</td>\n      <td>10</td>\n      <td>0.489474</td>\n      <td>-1.163961e+00</td>\n      <td>15</td>\n      <td>28.282963</td>\n      <td>LOP</td>\n      <td>LOP-synthetic,seed=123456,n=20,m=200,phi=0.9</td>\n      <td>CEGO</td>\n    </tr>\n    <tr>\n      <th>15</th>\n      <td>96.78</td>\n      <td>[0, 2, 9, 10, 19, 13, 16, 18, 1, 8, 5, 3, 4, 1...</td>\n      <td>10</td>\n      <td>2</td>\n      <td>40</td>\n      <td>10</td>\n      <td>0.647368</td>\n      <td>7.889610e-01</td>\n      <td>16</td>\n      <td>28.282963</td>\n      <td>LOP</td>\n      <td>LOP-synthetic,seed=123456,n=20,m=200,phi=0.9</td>\n      <td>CEGO</td>\n    </tr>\n    <tr>\n      <th>16</th>\n      <td>93.95</td>\n      <td>[17, 11, 15, 10, 0, 19, 14, 5, 2, 12, 3, 6, 9,...</td>\n      <td>10</td>\n      <td>2</td>\n      <td>40</td>\n      <td>10</td>\n      <td>0.478947</td>\n      <td>3.295455e-01</td>\n      <td>17</td>\n      <td>28.282963</td>\n      <td>LOP</td>\n      <td>LOP-synthetic,seed=123456,n=20,m=200,phi=0.9</td>\n      <td>CEGO</td>\n    </tr>\n    <tr>\n      <th>17</th>\n      <td>88.81</td>\n      <td>[3, 18, 17, 5, 6, 19, 14, 13, 4, 16, 2, 11, 1,...</td>\n      <td>10</td>\n      <td>2</td>\n      <td>40</td>\n      <td>10</td>\n      <td>0.589474</td>\n      <td>-5.048701e-01</td>\n      <td>18</td>\n      <td>28.282963</td>\n      <td>LOP</td>\n      <td>LOP-synthetic,seed=123456,n=20,m=200,phi=0.9</td>\n      <td>CEGO</td>\n    </tr>\n    <tr>\n      <th>18</th>\n      <td>87.66</td>\n      <td>[0, 13, 17, 2, 7, 14, 1, 8, 9, 16, 18, 3, 6, 1...</td>\n      <td>10</td>\n      <td>2</td>\n      <td>40</td>\n      <td>10</td>\n      <td>0.621053</td>\n      <td>-6.915584e-01</td>\n      <td>19</td>\n      <td>28.282963</td>\n      <td>LOP</td>\n      <td>LOP-synthetic,seed=123456,n=20,m=200,phi=0.9</td>\n      <td>CEGO</td>\n    </tr>\n    <tr>\n      <th>19</th>\n      <td>102.39</td>\n      <td>[3, 12, 16, 10, 13, 9, 14, 15, 17, 1, 11, 0, 4...</td>\n      <td>10</td>\n      <td>2</td>\n      <td>40</td>\n      <td>10</td>\n      <td>0.568421</td>\n      <td>1.699675e+00</td>\n      <td>20</td>\n      <td>28.282963</td>\n      <td>LOP</td>\n      <td>LOP-synthetic,seed=123456,n=20,m=200,phi=0.9</td>\n      <td>CEGO</td>\n    </tr>\n    <tr>\n      <th>20</th>\n      <td>99.75</td>\n      <td>[10, 9, 19, 12, 15, 16, 2, 8, 1, 13, 5, 18, 3,...</td>\n      <td>10</td>\n      <td>2</td>\n      <td>40</td>\n      <td>10</td>\n      <td>0.457895</td>\n      <td>1.271104e+00</td>\n      <td>21</td>\n      <td>28.282963</td>\n      <td>LOP</td>\n      <td>LOP-synthetic,seed=123456,n=20,m=200,phi=0.9</td>\n      <td>CEGO</td>\n    </tr>\n    <tr>\n      <th>21</th>\n      <td>84.63</td>\n      <td>[7, 9, 12, 19, 1, 13, 17, 18, 2, 4, 16, 11, 6,...</td>\n      <td>10</td>\n      <td>2</td>\n      <td>40</td>\n      <td>10</td>\n      <td>0.447368</td>\n      <td>-1.183442e+00</td>\n      <td>22</td>\n      <td>28.282963</td>\n      <td>LOP</td>\n      <td>LOP-synthetic,seed=123456,n=20,m=200,phi=0.9</td>\n      <td>CEGO</td>\n    </tr>\n    <tr>\n      <th>22</th>\n      <td>93.53</td>\n      <td>[8, 9, 13, 2, 19, 15, 14, 1, 0, 12, 17, 4, 3, ...</td>\n      <td>10</td>\n      <td>2</td>\n      <td>40</td>\n      <td>10</td>\n      <td>0.578947</td>\n      <td>2.613636e-01</td>\n      <td>23</td>\n      <td>28.282963</td>\n      <td>LOP</td>\n      <td>LOP-synthetic,seed=123456,n=20,m=200,phi=0.9</td>\n      <td>CEGO</td>\n    </tr>\n    <tr>\n      <th>23</th>\n      <td>91.92</td>\n      <td>[3, 1, 4, 14, 0, 18, 19, 17, 7, 8, 13, 9, 15, ...</td>\n      <td>10</td>\n      <td>2</td>\n      <td>40</td>\n      <td>10</td>\n      <td>0.447368</td>\n      <td>-2.306957e-15</td>\n      <td>24</td>\n      <td>28.282963</td>\n      <td>LOP</td>\n      <td>LOP-synthetic,seed=123456,n=20,m=200,phi=0.9</td>\n      <td>CEGO</td>\n    </tr>\n    <tr>\n      <th>24</th>\n      <td>86.50</td>\n      <td>[2, 19, 16, 3, 18, 17, 7, 0, 6, 13, 15, 14, 8,...</td>\n      <td>10</td>\n      <td>2</td>\n      <td>40</td>\n      <td>10</td>\n      <td>0.521053</td>\n      <td>-8.798701e-01</td>\n      <td>25</td>\n      <td>28.282963</td>\n      <td>LOP</td>\n      <td>LOP-synthetic,seed=123456,n=20,m=200,phi=0.9</td>\n      <td>CEGO</td>\n    </tr>\n    <tr>\n      <th>25</th>\n      <td>92.09</td>\n      <td>[9, 13, 4, 17, 18, 14, 16, 6, 10, 3, 19, 11, 8...</td>\n      <td>10</td>\n      <td>2</td>\n      <td>40</td>\n      <td>10</td>\n      <td>0.352632</td>\n      <td>2.759740e-02</td>\n      <td>26</td>\n      <td>28.282963</td>\n      <td>LOP</td>\n      <td>LOP-synthetic,seed=123456,n=20,m=200,phi=0.9</td>\n      <td>CEGO</td>\n    </tr>\n    <tr>\n      <th>26</th>\n      <td>92.26</td>\n      <td>[2, 13, 15, 9, 7, 17, 18, 8, 4, 14, 5, 19, 12,...</td>\n      <td>10</td>\n      <td>2</td>\n      <td>40</td>\n      <td>10</td>\n      <td>0.505263</td>\n      <td>5.519481e-02</td>\n      <td>27</td>\n      <td>28.282963</td>\n      <td>LOP</td>\n      <td>LOP-synthetic,seed=123456,n=20,m=200,phi=0.9</td>\n      <td>CEGO</td>\n    </tr>\n    <tr>\n      <th>27</th>\n      <td>94.61</td>\n      <td>[16, 7, 9, 8, 17, 18, 2, 11, 1, 12, 3, 0, 19, ...</td>\n      <td>10</td>\n      <td>2</td>\n      <td>40</td>\n      <td>10</td>\n      <td>0.489474</td>\n      <td>4.366883e-01</td>\n      <td>28</td>\n      <td>28.282963</td>\n      <td>LOP</td>\n      <td>LOP-synthetic,seed=123456,n=20,m=200,phi=0.9</td>\n      <td>CEGO</td>\n    </tr>\n    <tr>\n      <th>28</th>\n      <td>95.64</td>\n      <td>[6, 9, 16, 11, 4, 19, 10, 13, 3, 1, 5, 8, 2, 1...</td>\n      <td>10</td>\n      <td>2</td>\n      <td>40</td>\n      <td>10</td>\n      <td>0.563158</td>\n      <td>6.038961e-01</td>\n      <td>29</td>\n      <td>28.282963</td>\n      <td>LOP</td>\n      <td>LOP-synthetic,seed=123456,n=20,m=200,phi=0.9</td>\n      <td>CEGO</td>\n    </tr>\n    <tr>\n      <th>29</th>\n      <td>88.63</td>\n      <td>[6, 17, 14, 7, 0, 16, 8, 3, 4, 13, 18, 12, 9, ...</td>\n      <td>10</td>\n      <td>2</td>\n      <td>40</td>\n      <td>10</td>\n      <td>0.552632</td>\n      <td>-5.340909e-01</td>\n      <td>30</td>\n      <td>28.282963</td>\n      <td>LOP</td>\n      <td>LOP-synthetic,seed=123456,n=20,m=200,phi=0.9</td>\n      <td>CEGO</td>\n    </tr>\n    <tr>\n      <th>30</th>\n      <td>96.51</td>\n      <td>[5, 12, 16, 4, 11, 13, 15, 10, 14, 17, 2, 7, 6...</td>\n      <td>10</td>\n      <td>2</td>\n      <td>40</td>\n      <td>10</td>\n      <td>0.610526</td>\n      <td>7.451299e-01</td>\n      <td>31</td>\n      <td>28.282963</td>\n      <td>LOP</td>\n      <td>LOP-synthetic,seed=123456,n=20,m=200,phi=0.9</td>\n      <td>CEGO</td>\n    </tr>\n    <tr>\n      <th>31</th>\n      <td>92.80</td>\n      <td>[4, 6, 15, 18, 2, 16, 11, 17, 9, 13, 19, 8, 10...</td>\n      <td>10</td>\n      <td>2</td>\n      <td>40</td>\n      <td>10</td>\n      <td>0.447368</td>\n      <td>1.428571e-01</td>\n      <td>32</td>\n      <td>28.282963</td>\n      <td>LOP</td>\n      <td>LOP-synthetic,seed=123456,n=20,m=200,phi=0.9</td>\n      <td>CEGO</td>\n    </tr>\n    <tr>\n      <th>32</th>\n      <td>90.64</td>\n      <td>[14, 19, 18, 12, 5, 16, 7, 15, 6, 0, 3, 17, 8,...</td>\n      <td>10</td>\n      <td>2</td>\n      <td>40</td>\n      <td>10</td>\n      <td>0.478947</td>\n      <td>-2.077922e-01</td>\n      <td>33</td>\n      <td>28.282963</td>\n      <td>LOP</td>\n      <td>LOP-synthetic,seed=123456,n=20,m=200,phi=0.9</td>\n      <td>CEGO</td>\n    </tr>\n    <tr>\n      <th>33</th>\n      <td>84.94</td>\n      <td>[2, 14, 17, 4, 3, 19, 5, 18, 1, 12, 11, 0, 6, ...</td>\n      <td>10</td>\n      <td>2</td>\n      <td>40</td>\n      <td>10</td>\n      <td>0.647368</td>\n      <td>-1.133117e+00</td>\n      <td>34</td>\n      <td>28.282963</td>\n      <td>LOP</td>\n      <td>LOP-synthetic,seed=123456,n=20,m=200,phi=0.9</td>\n      <td>CEGO</td>\n    </tr>\n    <tr>\n      <th>34</th>\n      <td>97.88</td>\n      <td>[0, 15, 8, 2, 11, 17, 13, 19, 6, 9, 3, 5, 4, 1...</td>\n      <td>10</td>\n      <td>2</td>\n      <td>40</td>\n      <td>10</td>\n      <td>0.578947</td>\n      <td>9.675325e-01</td>\n      <td>35</td>\n      <td>28.282963</td>\n      <td>LOP</td>\n      <td>LOP-synthetic,seed=123456,n=20,m=200,phi=0.9</td>\n      <td>CEGO</td>\n    </tr>\n    <tr>\n      <th>35</th>\n      <td>86.37</td>\n      <td>[17, 12, 19, 0, 1, 18, 10, 13, 14, 6, 7, 9, 3,...</td>\n      <td>10</td>\n      <td>2</td>\n      <td>40</td>\n      <td>10</td>\n      <td>0.447368</td>\n      <td>-9.009740e-01</td>\n      <td>36</td>\n      <td>28.282963</td>\n      <td>LOP</td>\n      <td>LOP-synthetic,seed=123456,n=20,m=200,phi=0.9</td>\n      <td>CEGO</td>\n    </tr>\n    <tr>\n      <th>36</th>\n      <td>93.83</td>\n      <td>[6, 9, 18, 12, 13, 15, 19, 0, 3, 10, 17, 14, 4...</td>\n      <td>10</td>\n      <td>2</td>\n      <td>40</td>\n      <td>10</td>\n      <td>0.515789</td>\n      <td>3.100649e-01</td>\n      <td>37</td>\n      <td>28.282963</td>\n      <td>LOP</td>\n      <td>LOP-synthetic,seed=123456,n=20,m=200,phi=0.9</td>\n      <td>CEGO</td>\n    </tr>\n    <tr>\n      <th>37</th>\n      <td>101.85</td>\n      <td>[9, 13, 16, 5, 7, 8, 11, 0, 6, 4, 17, 3, 10, 2...</td>\n      <td>10</td>\n      <td>2</td>\n      <td>40</td>\n      <td>10</td>\n      <td>0.563158</td>\n      <td>1.612013e+00</td>\n      <td>38</td>\n      <td>28.282963</td>\n      <td>LOP</td>\n      <td>LOP-synthetic,seed=123456,n=20,m=200,phi=0.9</td>\n      <td>CEGO</td>\n    </tr>\n    <tr>\n      <th>38</th>\n      <td>87.96</td>\n      <td>[10, 1, 15, 19, 5, 17, 14, 9, 7, 6, 13, 16, 8,...</td>\n      <td>10</td>\n      <td>2</td>\n      <td>40</td>\n      <td>10</td>\n      <td>0.310526</td>\n      <td>-6.428571e-01</td>\n      <td>39</td>\n      <td>28.282963</td>\n      <td>LOP</td>\n      <td>LOP-synthetic,seed=123456,n=20,m=200,phi=0.9</td>\n      <td>CEGO</td>\n    </tr>\n    <tr>\n      <th>39</th>\n      <td>98.77</td>\n      <td>[4, 8, 10, 14, 13, 17, 3, 19, 5, 15, 9, 11, 18...</td>\n      <td>10</td>\n      <td>2</td>\n      <td>40</td>\n      <td>10</td>\n      <td>0.436842</td>\n      <td>1.112013e+00</td>\n      <td>40</td>\n      <td>28.282963</td>\n      <td>LOP</td>\n      <td>LOP-synthetic,seed=123456,n=20,m=200,phi=0.9</td>\n      <td>CEGO</td>\n    </tr>\n  </tbody>\n</table>\n</div>"
          },
          "metadata": {}
        }
      ],
      "execution_count": 6,
      "metadata": {
        "collapsed": true,
        "execution": {
          "iopub.execute_input": "2020-11-17T18:44:23.419Z",
          "iopub.status.busy": "2020-11-17T18:44:23.413Z",
          "iopub.status.idle": "2020-11-17T18:44:51.992Z",
          "shell.execute_reply": "2020-11-17T18:44:52.266Z"
        },
        "jupyter": {
          "outputs_hidden": false,
          "source_hidden": false
        },
        "nteract": {
          "transient": {
            "deleting": false
          }
        }
      }
    },
    {
      "cell_type": "markdown",
      "source": [
        "The following piece of code plots the results of the previous experiment"
      ],
      "metadata": {}
    },
    {
      "cell_type": "code",
      "source": [
        "out_file = \"pickles/\"+instance_name.replace(\"/\", \"__\").replace(\".txt\", \"\")\n",
        "df = pd.read_pickle(out_filename+'.pkl.gz')\n",
        "\n",
        "print(\"instance name\", df.instance.iloc[0], \"- time\", round(df.run_time.iloc[0], 2))\n",
        "print(df.Fitness.min())\n",
        "\n",
        "color_variable = 'Solver'\n",
        "y_variables = ['Fitness']#,'Distance','phi_sample'\n",
        "palette = sns.color_palette(\"husl\", len(df[color_variable].drop_duplicates()))\n",
        "for y_variable in y_variables:\n",
        "    plt.figure(figsize=(15,5))\n",
        "    sns.lineplot(x='Function evaluations',y=y_variable,hue='Solver',data=df, palette=palette)\n",
        "    plt.show()"
      ],
      "outputs": [
        {
          "output_type": "stream",
          "name": "stdout",
          "text": [
            "instance name LOP-synthetic,seed=123456,n=20,m=200,phi=0.9 - time 28.28\n",
            "84.63\n"
          ]
        },
        {
          "output_type": "display_data",
          "data": {
            "text/plain": "<Figure size 1080x360 with 1 Axes>",
            "image/png": "[encoded data removed]"
          },
          "metadata": {
            "needs_background": "light"
          }
        }
      ],
      "execution_count": 7,
      "metadata": {
        "collapsed": true,
        "execution": {
          "iopub.execute_input": "2020-11-17T18:44:52.014Z",
          "iopub.status.busy": "2020-11-17T18:44:52.008Z",
          "iopub.status.idle": "2020-11-17T18:44:52.453Z",
          "shell.execute_reply": "2020-11-17T18:44:52.477Z"
        },
        "jupyter": {
          "outputs_hidden": false,
          "source_hidden": false
        },
        "nteract": {
          "transient": {
            "deleting": false
          }
        }
      }
    },
    {
      "cell_type": "code",
      "source": [
        "np.random.seed(0)"
      ],
      "outputs": [],
      "execution_count": 34,
      "metadata": {
        "collapsed": true,
        "execution": {
          "iopub.execute_input": "2020-11-15T20:36:11.205Z",
          "iopub.status.busy": "2020-11-15T20:36:11.199Z",
          "iopub.status.idle": "2020-11-15T20:36:11.213Z",
          "shell.execute_reply": "2020-11-15T20:36:11.219Z"
        },
        "jupyter": {
          "outputs_hidden": false,
          "source_hidden": false
        },
        "nteract": {
          "transient": {
            "deleting": false
          }
        }
      }
    },
    {
      "cell_type": "code",
      "source": [
        "def synthetic_LOP(n, m, phi):\n",
        "    instanceID = np.zeros((n,n))\n",
        "    instanceRA = np.zeros((n,n))\n",
        "    # FIXME: It should already return an array.\n",
        "    s = np.asarray(mk.samplingMM(m, n, phi=phi, k=None))\n",
        "    \n",
        "    for i in range(n):\n",
        "        for j in range(i+1,n):\n",
        "            instanceID[i, j] = (s[:, i] < s[:, j]).sum() / m\n",
        "            instanceID[j, i] = 1 - instanceID[i, j]\n",
        "    central = np.random.permutation(n)\n",
        "    s = s[:, central] #compose\n",
        "    for i in range(n):\n",
        "        for j in range(i+1,n):\n",
        "            instanceRA[i, j] = (s[:, i] < s[:, j]).sum() / m\n",
        "            instanceRA[j, i] = 1 - instanceRA[i, j]\n",
        "    return instanceID, instanceRA, central\n",
        "  \n",
        "n=6\n",
        "m,phi = 200,.9\n",
        "import mallows_kendall as mk\n",
        "\n",
        "instanceID, instanceRA, best_sol = synthetic_LOP(n, m, phi)\n",
        "worst_sol = best_sol[::-1]\n",
        "instanceID, instanceRA\n",
        "ide = np.arange(n)\n",
        "inv = np.argsort(best_sol)\n",
        "s = 0\n",
        "for i in range(n):\n",
        "  for j in range(i):\n",
        "    s += instanceRA[best_sol[i],best_sol[j]] #LT\n",
        "s\n",
        "np.tril(instanceID[np.ix_(ide, ide)]).sum(), np.tril(instanceRA[np.ix_(inv, inv)]).sum(), np.tril(instanceRA[np.ix_(best_sol, best_sol)]).sum(),s"
      ],
      "outputs": [
        {
          "output_type": "execute_result",
          "execution_count": 89,
          "data": {
            "text/plain": "(7.05, 7.05, 7.31, 7.309999999999999)"
          },
          "metadata": {}
        }
      ],
      "execution_count": 89,
      "metadata": {
        "collapsed": true,
        "execution": {
          "iopub.execute_input": "2020-11-15T20:43:57.454Z",
          "iopub.status.busy": "2020-11-15T20:43:57.450Z",
          "iopub.status.idle": "2020-11-15T20:43:57.465Z",
          "shell.execute_reply": "2020-11-15T20:43:57.479Z"
        },
        "jupyter": {
          "outputs_hidden": false,
          "source_hidden": false
        },
        "nteract": {
          "transient": {
            "deleting": false
          }
        }
      }
    },
    {
      "cell_type": "code",
      "source": [
        "instanceID[np.ix_(best_sol, best_sol)] == instanceRA, instanceRA[np.ix_(inv, inv)] == instanceID"
      ],
      "outputs": [
        {
          "output_type": "execute_result",
          "execution_count": 96,
          "data": {
            "text/plain": "(array([[ True,  True,  True,  True,  True,  True],\n        [ True,  True,  True,  True,  True,  True],\n        [ True,  True,  True,  True,  True,  True],\n        [ True,  True,  True,  True,  True,  True],\n        [ True,  True,  True,  True,  True,  True],\n        [ True,  True,  True,  True,  True,  True]]),\n array([[ True,  True,  True,  True,  True,  True],\n        [ True,  True,  True,  True,  True,  True],\n        [ True,  True,  True,  True,  True,  True],\n        [ True,  True,  True,  True,  True,  True],\n        [ True,  True,  True,  True,  True,  True],\n        [ True,  True,  True,  True,  True,  True]]))"
          },
          "metadata": {}
        }
      ],
      "execution_count": 96,
      "metadata": {
        "collapsed": true,
        "execution": {
          "iopub.execute_input": "2020-11-15T20:54:09.798Z",
          "iopub.status.busy": "2020-11-15T20:54:09.793Z",
          "iopub.status.idle": "2020-11-15T20:54:09.809Z",
          "shell.execute_reply": "2020-11-15T20:54:09.825Z"
        },
        "jupyter": {
          "outputs_hidden": false,
          "source_hidden": false
        },
        "nteract": {
          "transient": {
            "deleting": false
          }
        }
      }
    },
    {
      "cell_type": "code",
      "source": [
        "import lop as lop\n",
        "reload(lop)\n",
        "import random\n",
        "from lop import LOP\n",
        "n,m,phi,seed = 8,200,0.9,random.randint(1,10)\n",
        "p= LOP.generate_synthetic(n,m,phi,seed)"
      ],
      "outputs": [
        {
          "output_type": "stream",
          "name": "stdout",
          "text": [
            "identity, reverse, best-known and worst-known fitnesses 14.42 13.580000000000002 12.379999999999999 14.600000000000001\n"
          ]
        }
      ],
      "execution_count": 96,
      "metadata": {
        "collapsed": true,
        "execution": {
          "iopub.execute_input": "2020-11-16T14:13:59.707Z",
          "iopub.status.busy": "2020-11-16T14:13:59.701Z",
          "iopub.status.idle": "2020-11-16T14:13:59.753Z",
          "shell.execute_reply": "2020-11-16T14:13:59.773Z"
        },
        "jupyter": {
          "outputs_hidden": false,
          "source_hidden": false
        },
        "nteract": {
          "transient": {
            "deleting": false
          }
        }
      }
    },
    {
      "cell_type": "code",
      "source": [
        "import lop as lop\n",
        "reload(lop)\n",
        "import random\n",
        "from lop import LOP\n",
        "n,m,phi,seed = 8,200,0.9,random.randint(1,10)\n",
        "p= LOP.generate_synthetic(n,m,phi,seed)\n",
        "p.instance, p.best_sol, p.fitness_nosave(p.best_sol)\n",
        "ide = np.arange(n)\n",
        "bes = p.best_sol\n",
        "inv = np.argsort(bes)\n",
        "wor = np.argsort(inv[::-1])\n",
        "s = 0\n",
        "for i in range(n):\n",
        "  for j in range(i):\n",
        "    s += p.instance[inv[i],inv[j]] #LT\n",
        "print(s, bes)\n",
        "# np.tril(instanceID[np.ix_(ide, ide)]).sum(), \n",
        "np.tril(p.instance[np.ix_(inv, inv)]).sum(), np.tril(p.instance[np.ix_(inv[::-1], inv[::-1])]).sum(), #esto es la identidad\n",
        "# np.tril(instanceRA[np.ix_(best_sol, best_sol)]).sum(),s\n",
        "p.fitness_nosave(bes), p.fitness_nosave(wor)"
      ],
      "outputs": [
        {
          "output_type": "stream",
          "name": "stdout",
          "text": [
            "identity, reverse, best-known and worst-known fitnesses 14.014999999999999 13.985 12.425 14.025\n",
            "12.425000000000002 [2 1 7 5 4 3 6 0]\n"
          ]
        },
        {
          "output_type": "execute_result",
          "execution_count": 92,
          "data": {
            "text/plain": "(12.425, 15.575000000000001)"
          },
          "metadata": {}
        }
      ],
      "execution_count": 92,
      "metadata": {
        "collapsed": true,
        "execution": {
          "iopub.execute_input": "2020-11-16T14:10:16.892Z",
          "iopub.status.busy": "2020-11-16T14:10:16.885Z",
          "iopub.status.idle": "2020-11-16T14:10:16.944Z",
          "shell.execute_reply": "2020-11-16T14:10:16.965Z"
        },
        "jupyter": {
          "outputs_hidden": false,
          "source_hidden": false
        },
        "nteract": {
          "transient": {
            "deleting": false
          }
        }
      }
    },
    {
      "cell_type": "code",
      "source": [
        "wor = np.argsort(inv[::-1])\n",
        "s = 0\n",
        "for i in range(n):\n",
        "  for j in range(i):\n",
        "    s += p.instance[wor[i],wor[j]] #LT\n",
        "print(s, bes)\n"
      ],
      "outputs": [
        {
          "output_type": "stream",
          "name": "stdout",
          "text": [
            "15.155 [4 0 2 7 5 6 1 3]\n"
          ]
        }
      ],
      "execution_count": 80,
      "metadata": {
        "collapsed": true,
        "execution": {
          "iopub.execute_input": "2020-11-16T13:47:34.543Z",
          "iopub.status.busy": "2020-11-16T13:47:34.538Z",
          "iopub.status.idle": "2020-11-16T13:47:34.556Z",
          "shell.execute_reply": "2020-11-16T13:47:34.561Z"
        },
        "jupyter": {
          "outputs_hidden": false,
          "source_hidden": false
        },
        "nteract": {
          "transient": {
            "deleting": false
          }
        }
      }
    },
    {
      "cell_type": "code",
      "source": [],
      "outputs": [],
      "execution_count": null,
      "metadata": {
        "collapsed": true,
        "jupyter": {
          "outputs_hidden": false,
          "source_hidden": false
        },
        "nteract": {
          "transient": {
            "deleting": false
          }
        }
      }
    },
    {
      "cell_type": "code",
      "source": [],
      "outputs": [],
      "execution_count": null,
      "metadata": {
        "collapsed": true,
        "jupyter": {
          "outputs_hidden": false,
          "source_hidden": false
        },
        "nteract": {
          "transient": {
            "deleting": false
          }
        }
      }
    },
    {
      "cell_type": "code",
      "source": [],
      "outputs": [],
      "execution_count": null,
      "metadata": {
        "collapsed": true,
        "jupyter": {
          "outputs_hidden": false,
          "source_hidden": false
        },
        "nteract": {
          "transient": {
            "deleting": false
          }
        }
      }
    },
    {
      "cell_type": "code",
      "source": [],
      "outputs": [],
      "execution_count": null,
      "metadata": {
        "collapsed": true,
        "jupyter": {
          "outputs_hidden": false,
          "source_hidden": false
        },
        "nteract": {
          "transient": {
            "deleting": false
          }
        }
      }
    },
    {
      "cell_type": "code",
      "source": [],
      "outputs": [],
      "execution_count": null,
      "metadata": {
        "collapsed": true,
        "jupyter": {
          "outputs_hidden": false,
          "source_hidden": false
        },
        "nteract": {
          "transient": {
            "deleting": false
          }
        }
      }
    }
  ],
  "metadata": {
    "kernel_info": {
      "name": "python3"
    },
    "kernelspec": {
      "display_name": "Python 3",
      "language": "python",
      "name": "python3"
    },
    "language_info": {
      "name": "python",
      "version": "3.7.5",
      "mimetype": "text/x-python",
      "codemirror_mode": {
        "name": "ipython",
        "version": 3
      },
      "pygments_lexer": "ipython3",
      "nbconvert_exporter": "python",
      "file_extension": ".py"
    },
    "nteract": {
      "version": "0.26.0"
    }
  },
  "nbformat": 4,
  "nbformat_minor": 1
}