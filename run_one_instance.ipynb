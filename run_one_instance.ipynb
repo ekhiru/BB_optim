{
  "cells": [
    {
      "cell_type": "code",
      "source": [
        "from imp import reload\n",
        "import sys\n",
        "print(sys.version)\n",
        "# import rpy2\n",
        "import os\n",
        "import numpy as np\n",
        "import pandas as pd\n",
        "from scipy import stats\n",
        "import statsmodels.stats.api as sms\n",
        "import seaborn as sns\n",
        "import matplotlib.pyplot as plt\n",
        "import matplotlib\n",
        "# Use Type 1 fonts in plots.\n",
        "matplotlib.rcParams['ps.useafm'] = True\n",
        "matplotlib.rcParams['pdf.use14corefonts'] = True\n",
        "matplotlib.rcParams['text.usetex'] = False\n",
        "# Do not wrap long lines\n",
        "np.set_printoptions(linewidth=np.nan)\n",
        "sns.set_style(\"whitegrid\")\n",
        "import runner\n",
        "import umm"
      ],
      "outputs": [
        {
          "output_type": "stream",
          "name": "stdout",
          "text": [
            "3.7.5 (default, Nov  1 2019, 02:16:23) \n",
            "[Clang 11.0.0 (clang-1100.0.33.8)]\n"
          ]
        }
      ],
      "execution_count": 1,
      "metadata": {
        "execution": {
          "iopub.execute_input": "2020-11-17T18:52:40.292Z",
          "iopub.status.busy": "2020-11-17T18:52:40.285Z",
          "iopub.status.idle": "2020-11-17T18:52:41.292Z",
          "shell.execute_reply": "2020-11-17T18:52:41.299Z"
        },
        "jupyter": {
          "outputs_hidden": false,
          "source_hidden": false
        },
        "nteract": {
          "transient": {
            "deleting": false
          }
        }
      }
    },
    {
      "cell_type": "markdown",
      "source": [
        "## Running UMM and CEGO over one instance\n",
        "\n",
        "The next cell allows running CEGO and UMM over a chosen instance and with the selected parameters"
      ],
      "metadata": {}
    },
    {
      "cell_type": "code",
      "source": [
        "reload(runner)\n",
        "instance_name=\"LOP-synthetic,seed=123456,n=20,m=200,phi=0.9\"\n",
        "# instance_name=\"pfsp/rec19.txt\"\n",
        "# instance_name=\"lop/xLOLIB/N-be75eec_150\"\n",
        "# instance_name=\"lop/xLOLIB/N-be75eec_150\"\n",
        "# instance_name=\"qap/nug12.dat\"\n",
        "budgetGA=10**2#\n",
        "seed=2\n",
        "budget=40#0\n",
        "m_ini=10\n",
        "budgetMM=10\n",
        "r_1 = [.1]\n",
        "r_2 = [.9]\n",
        "res = []\n",
        "for ratio_samples_learn in r_1:\n",
        "  for weight_mass_learn in r_2:\n",
        "    out_filename = \"pickles/\"+instance_name.replace(\"/\", \"__\").replace(\".txt\", \"\")\n",
        "#     df = runner.run_once(\"UMM\", instance_name, seed,budget = budget, m_ini = m_ini, budgetMM = budgetMM, \n",
        "#                          ratio_samples_learn = ratio_samples_learn, weight_mass_learn = weight_mass_learn, out_filename = out_filename)\n",
        "#     res.append([out_filename,ratio_samples_learn, weight_mass_learn,df.Fitness.min()])\n",
        "#out_filename=\"local_new_CEGO\"\n",
        "runner.run_once(\"CEGO\", instance_name, seed,budget = budget, m_ini = m_ini, budgetGA = budgetGA, out_filename = out_filename)"
      ],
      "outputs": [
        {
          "output_type": "stream",
          "name": "stdout",
          "text": [
            "Generating synthetic LOP instance with seed=123456 n=20 m=200 phi=0.9\n",
            "identity, reverse, best-known and worst-known fitnesses 100.75999999999999 89.24 91.92 100.52\n",
            "R version 3.6.1 (2019-07-05)\n",
            "Platform: x86_64-apple-darwin15.6.0 (64-bit)\n",
            "Running under: macOS  10.16\n",
            "\n",
            "Matrix products: default\n",
            "LAPACK: /Library/Frameworks/R.framework/Versions/3.6/Resources/lib/libRlapack.dylib\n",
            "\n",
            "locale:\n",
            "[1] C/UTF-8/C/C/C/C\n",
            "\n",
            "attached base packages:\n",
            "[1] tools     stats     graphics  grDevices utils     datasets  methods  \n",
            "[8] base     \n",
            "\n",
            "other attached packages:\n",
            "[1] CEGO_2.4.0\n",
            "\n",
            "loaded via a namespace (and not attached):\n",
            " [1] MASS_7.3-51.4     compiler_3.6.1    backports_1.1.7   Matrix_1.2-17    \n",
            " [5] parallel_3.6.1    BBmisc_1.11       fastmatch_1.1-0   ParamHelpers_1.14\n",
            " [9] grid_3.6.1        checkmate_2.0.0   DEoptim_2.2-5     lattice_0.20-38  \n",
            "[13] quadprog_1.5-8   \n",
            "[1] \"Evaluations: 11     Quality: 85.8     Best: 85.46\"\n",
            "[1] \"Evaluations: 12     Quality: 92.86     Best: 85.46\"\n",
            "[1] \"Evaluations: 13     Quality: 98.55     Best: 85.46\"\n",
            "[1] \"Evaluations: 14     Quality: 87.5     Best: 85.46\"\n",
            "[1] \"Evaluations: 15     Quality: 94.05     Best: 85.46\"\n",
            "[1] \"Evaluations: 16     Quality: 94.67     Best: 85.46\"\n",
            "[1] \"Evaluations: 17     Quality: 101.06     Best: 85.46\"\n",
            "[1] \"Evaluations: 18     Quality: 92.62     Best: 85.46\"\n",
            "[1] \"Evaluations: 19     Quality: 85.13     Best: 85.13\"\n",
            "[1] \"Evaluations: 20     Quality: 89.67     Best: 85.13\"\n",
            "[1] \"Evaluations: 21     Quality: 90.24     Best: 85.13\"\n",
            "[1] \"Evaluations: 22     Quality: 87.05     Best: 85.13\"\n",
            "[1] \"Evaluations: 23     Quality: 90.74     Best: 85.13\"\n",
            "[1] \"Evaluations: 24     Quality: 96.11     Best: 85.13\"\n",
            "[1] \"Evaluations: 25     Quality: 89.49     Best: 85.13\"\n",
            "[1] \"Evaluations: 26     Quality: 102.04     Best: 85.13\"\n",
            "[1] \"Evaluations: 27     Quality: 91.59     Best: 85.13\"\n",
            "[1] \"Evaluations: 28     Quality: 97.71     Best: 85.13\"\n",
            "[1] \"Evaluations: 29     Quality: 95.17     Best: 85.13\"\n",
            "[1] \"Evaluations: 30     Quality: 105.99     Best: 85.13\"\n",
            "[1] \"Evaluations: 31     Quality: 99.96     Best: 85.13\"\n",
            "[1] \"Evaluations: 32     Quality: 92.62     Best: 85.13\"\n",
            "[1] \"Evaluations: 33     Quality: 88.64     Best: 85.13\"\n",
            "[1] \"Evaluations: 34     Quality: 87.22     Best: 85.13\"\n",
            "[1] \"Evaluations: 35     Quality: 90.45     Best: 85.13\"\n",
            "[1] \"Evaluations: 36     Quality: 102.21     Best: 85.13\"\n",
            "[1] \"Evaluations: 37     Quality: 100.19     Best: 85.13\"\n",
            "[1] \"Evaluations: 38     Quality: 96.83     Best: 85.13\"\n",
            "[1] \"Evaluations: 39     Quality: 90.26     Best: 85.13\"\n",
            "[1] \"Evaluations: 40     Quality: 95.35     Best: 85.13\"\n"
          ]
        },
        {
          "output_type": "execute_result",
          "execution_count": 2,
          "data": {
            "text/plain": "    Fitness                                                  x  m_ini  seed  \\\n0     95.34  [14, 5, 18, 7, 0, 12, 15, 11, 8, 1, 13, 2, 17,...     10     2   \n1     93.21  [9, 13, 4, 6, 17, 3, 10, 14, 2, 16, 11, 12, 0,...     10     2   \n2     96.96  [6, 5, 9, 15, 18, 13, 16, 2, 14, 10, 1, 17, 8,...     10     2   \n3     96.07  [16, 17, 10, 3, 4, 1, 8, 2, 14, 12, 15, 6, 11,...     10     2   \n4     93.73  [9, 7, 1, 2, 5, 17, 6, 18, 13, 8, 16, 3, 10, 1...     10     2   \n5     93.32  [7, 9, 12, 18, 0, 13, 10, 19, 1, 15, 6, 17, 16...     10     2   \n6     85.46  [2, 16, 14, 10, 19, 17, 15, 6, 3, 0, 13, 4, 12...     10     2   \n7     98.29  [18, 3, 7, 8, 16, 14, 0, 11, 9, 1, 6, 19, 4, 1...     10     2   \n8     94.86  [2, 10, 13, 15, 19, 5, 4, 1, 11, 17, 9, 0, 7, ...     10     2   \n9     99.71  [3, 18, 5, 1, 9, 2, 19, 10, 8, 6, 12, 16, 17, ...     10     2   \n10    85.80  [6, 5, 12, 2, 10, 19, 17, 14, 4, 16, 1, 8, 7, ...     10     2   \n11    92.86  [7, 0, 15, 5, 11, 19, 14, 13, 2, 17, 3, 6, 9, ...     10     2   \n12    98.55  [1, 17, 11, 8, 15, 18, 5, 0, 9, 2, 12, 4, 13, ...     10     2   \n13    87.50  [5, 14, 17, 4, 7, 2, 11, 18, 0, 16, 13, 12, 1,...     10     2   \n14    94.05  [10, 11, 7, 18, 1, 12, 14, 16, 5, 17, 9, 8, 19...     10     2   \n15    94.67  [5, 12, 15, 4, 6, 16, 10, 17, 2, 19, 1, 9, 7, ...     10     2   \n16   101.06  [16, 5, 9, 8, 6, 15, 13, 11, 12, 14, 17, 10, 1...     10     2   \n17    92.62  [2, 18, 13, 7, 15, 17, 14, 10, 11, 5, 9, 3, 12...     10     2   \n18    85.13  [1, 14, 19, 4, 17, 18, 15, 16, 2, 10, 8, 3, 12...     10     2   \n19    89.67  [7, 16, 18, 13, 17, 15, 19, 8, 6, 2, 3, 9, 11,...     10     2   \n20    90.24  [12, 9, 17, 10, 19, 15, 14, 18, 2, 7, 6, 3, 13...     10     2   \n21    87.05  [6, 9, 17, 16, 14, 18, 12, 13, 1, 8, 10, 7, 2,...     10     2   \n22    90.74  [8, 6, 13, 17, 7, 9, 19, 11, 1, 14, 15, 0, 4, ...     10     2   \n23    96.11  [8, 15, 17, 2, 10, 19, 16, 18, 0, 7, 9, 1, 5, ...     10     2   \n24    89.49  [0, 11, 15, 7, 19, 6, 17, 9, 4, 14, 10, 2, 5, ...     10     2   \n25   102.04  [0, 9, 12, 13, 15, 10, 19, 6, 3, 7, 8, 18, 1, ...     10     2   \n26    91.59  [0, 14, 16, 1, 11, 8, 6, 13, 4, 12, 17, 7, 3, ...     10     2   \n27    97.71  [7, 15, 16, 2, 19, 5, 10, 18, 8, 9, 3, 1, 4, 0...     10     2   \n28    95.17  [1, 13, 10, 11, 15, 19, 12, 16, 14, 0, 9, 2, 8...     10     2   \n29   105.99  [5, 6, 18, 9, 13, 8, 11, 15, 3, 10, 12, 7, 17,...     10     2   \n30    99.96  [14, 8, 13, 15, 11, 16, 12, 6, 3, 19, 4, 10, 5...     10     2   \n31    92.62  [3, 13, 19, 14, 18, 15, 9, 16, 2, 7, 11, 6, 4,...     10     2   \n32    88.64  [9, 7, 15, 18, 12, 19, 4, 14, 6, 16, 17, 1, 2,...     10     2   \n33    87.22  [6, 15, 11, 10, 19, 18, 17, 14, 7, 4, 12, 0, 1...     10     2   \n34    90.45  [2, 1, 11, 10, 17, 12, 14, 15, 5, 19, 9, 3, 16...     10     2   \n35   102.21  [6, 15, 18, 8, 19, 5, 11, 16, 1, 12, 10, 3, 0,...     10     2   \n36   100.19  [10, 8, 9, 4, 14, 16, 19, 13, 6, 15, 3, 5, 12,...     10     2   \n37    96.83  [6, 11, 18, 16, 9, 13, 15, 19, 5, 10, 7, 0, 2,...     10     2   \n38    90.26  [5, 6, 14, 3, 19, 17, 15, 18, 7, 12, 4, 1, 11,...     10     2   \n39    95.35  [4, 5, 12, 18, 10, 19, 13, 14, 11, 8, 17, 1, 3...     10     2   \n\n    budget  budgetGA  Distance  Fitness_norm  Function evaluations  \\\n0       40       100  0.600000      0.397674                     1   \n1       40       100  0.489474      0.150000                     2   \n2       40       100  0.510526      0.586047                     3   \n3       40       100  0.557895      0.482558                     4   \n4       40       100  0.515789      0.210465                     5   \n5       40       100  0.426316      0.162791                     6   \n6       40       100  0.500000     -0.751163                     7   \n7       40       100  0.421053      0.740698                     8   \n8       40       100  0.547368      0.341860                     9   \n9       40       100  0.615789      0.905814                    10   \n10      40       100  0.563158     -0.711628                    11   \n11      40       100  0.494737      0.109302                    12   \n12      40       100  0.442105      0.770930                    13   \n13      40       100  0.578947     -0.513953                    14   \n14      40       100  0.426316      0.247674                    15   \n15      40       100  0.626316      0.319767                    16   \n16      40       100  0.410526      1.062791                    17   \n17      40       100  0.463158      0.081395                    18   \n18      40       100  0.578947     -0.789535                    19   \n19      40       100  0.484211     -0.261628                    20   \n20      40       100  0.531579     -0.195349                    21   \n21      40       100  0.468421     -0.566279                    22   \n22      40       100  0.521053     -0.137209                    23   \n23      40       100  0.673684      0.487209                    24   \n24      40       100  0.621053     -0.282558                    25   \n25      40       100  0.557895      1.176744                    26   \n26      40       100  0.605263     -0.038372                    27   \n27      40       100  0.636842      0.673256                    28   \n28      40       100  0.494737      0.377907                    29   \n29      40       100  0.526316      1.636047                    30   \n30      40       100  0.400000      0.934884                    31   \n31      40       100  0.626316      0.081395                    32   \n32      40       100  0.436842     -0.381395                    33   \n33      40       100  0.521053     -0.546512                    34   \n34      40       100  0.463158     -0.170930                    35   \n35      40       100  0.615789      1.196512                    36   \n36      40       100  0.457895      0.961628                    37   \n37      40       100  0.536842      0.570930                    38   \n38      40       100  0.526316     -0.193023                    39   \n39      40       100  0.378947      0.398837                    40   \n\n      run_time Problem                                      instance Solver  \n0   104.107355     LOP  LOP-synthetic,seed=123456,n=20,m=200,phi=0.9   CEGO  \n1   104.107355     LOP  LOP-synthetic,seed=123456,n=20,m=200,phi=0.9   CEGO  \n2   104.107355     LOP  LOP-synthetic,seed=123456,n=20,m=200,phi=0.9   CEGO  \n3   104.107355     LOP  LOP-synthetic,seed=123456,n=20,m=200,phi=0.9   CEGO  \n4   104.107355     LOP  LOP-synthetic,seed=123456,n=20,m=200,phi=0.9   CEGO  \n5   104.107355     LOP  LOP-synthetic,seed=123456,n=20,m=200,phi=0.9   CEGO  \n6   104.107355     LOP  LOP-synthetic,seed=123456,n=20,m=200,phi=0.9   CEGO  \n7   104.107355     LOP  LOP-synthetic,seed=123456,n=20,m=200,phi=0.9   CEGO  \n8   104.107355     LOP  LOP-synthetic,seed=123456,n=20,m=200,phi=0.9   CEGO  \n9   104.107355     LOP  LOP-synthetic,seed=123456,n=20,m=200,phi=0.9   CEGO  \n10  104.107355     LOP  LOP-synthetic,seed=123456,n=20,m=200,phi=0.9   CEGO  \n11  104.107355     LOP  LOP-synthetic,seed=123456,n=20,m=200,phi=0.9   CEGO  \n12  104.107355     LOP  LOP-synthetic,seed=123456,n=20,m=200,phi=0.9   CEGO  \n13  104.107355     LOP  LOP-synthetic,seed=123456,n=20,m=200,phi=0.9   CEGO  \n14  104.107355     LOP  LOP-synthetic,seed=123456,n=20,m=200,phi=0.9   CEGO  \n15  104.107355     LOP  LOP-synthetic,seed=123456,n=20,m=200,phi=0.9   CEGO  \n16  104.107355     LOP  LOP-synthetic,seed=123456,n=20,m=200,phi=0.9   CEGO  \n17  104.107355     LOP  LOP-synthetic,seed=123456,n=20,m=200,phi=0.9   CEGO  \n18  104.107355     LOP  LOP-synthetic,seed=123456,n=20,m=200,phi=0.9   CEGO  \n19  104.107355     LOP  LOP-synthetic,seed=123456,n=20,m=200,phi=0.9   CEGO  \n20  104.107355     LOP  LOP-synthetic,seed=123456,n=20,m=200,phi=0.9   CEGO  \n21  104.107355     LOP  LOP-synthetic,seed=123456,n=20,m=200,phi=0.9   CEGO  \n22  104.107355     LOP  LOP-synthetic,seed=123456,n=20,m=200,phi=0.9   CEGO  \n23  104.107355     LOP  LOP-synthetic,seed=123456,n=20,m=200,phi=0.9   CEGO  \n24  104.107355     LOP  LOP-synthetic,seed=123456,n=20,m=200,phi=0.9   CEGO  \n25  104.107355     LOP  LOP-synthetic,seed=123456,n=20,m=200,phi=0.9   CEGO  \n26  104.107355     LOP  LOP-synthetic,seed=123456,n=20,m=200,phi=0.9   CEGO  \n27  104.107355     LOP  LOP-synthetic,seed=123456,n=20,m=200,phi=0.9   CEGO  \n28  104.107355     LOP  LOP-synthetic,seed=123456,n=20,m=200,phi=0.9   CEGO  \n29  104.107355     LOP  LOP-synthetic,seed=123456,n=20,m=200,phi=0.9   CEGO  \n30  104.107355     LOP  LOP-synthetic,seed=123456,n=20,m=200,phi=0.9   CEGO  \n31  104.107355     LOP  LOP-synthetic,seed=123456,n=20,m=200,phi=0.9   CEGO  \n32  104.107355     LOP  LOP-synthetic,seed=123456,n=20,m=200,phi=0.9   CEGO  \n33  104.107355     LOP  LOP-synthetic,seed=123456,n=20,m=200,phi=0.9   CEGO  \n34  104.107355     LOP  LOP-synthetic,seed=123456,n=20,m=200,phi=0.9   CEGO  \n35  104.107355     LOP  LOP-synthetic,seed=123456,n=20,m=200,phi=0.9   CEGO  \n36  104.107355     LOP  LOP-synthetic,seed=123456,n=20,m=200,phi=0.9   CEGO  \n37  104.107355     LOP  LOP-synthetic,seed=123456,n=20,m=200,phi=0.9   CEGO  \n38  104.107355     LOP  LOP-synthetic,seed=123456,n=20,m=200,phi=0.9   CEGO  \n39  104.107355     LOP  LOP-synthetic,seed=123456,n=20,m=200,phi=0.9   CEGO  ",
            "text/html": "<div>\n<style scoped>\n    .dataframe tbody tr th:only-of-type {\n        vertical-align: middle;\n    }\n\n    .dataframe tbody tr th {\n        vertical-align: top;\n    }\n\n    .dataframe thead th {\n        text-align: right;\n    }\n</style>\n<table border=\"1\" class=\"dataframe\">\n  <thead>\n    <tr style=\"text-align: right;\">\n      <th></th>\n      <th>Fitness</th>\n      <th>x</th>\n      <th>m_ini</th>\n      <th>seed</th>\n      <th>budget</th>\n      <th>budgetGA</th>\n      <th>Distance</th>\n      <th>Fitness_norm</th>\n      <th>Function evaluations</th>\n      <th>run_time</th>\n      <th>Problem</th>\n      <th>instance</th>\n      <th>Solver</th>\n    </tr>\n  </thead>\n  <tbody>\n    <tr>\n      <th>0</th>\n      <td>95.34</td>\n      <td>[14, 5, 18, 7, 0, 12, 15, 11, 8, 1, 13, 2, 17,...</td>\n      <td>10</td>\n      <td>2</td>\n      <td>40</td>\n      <td>100</td>\n      <td>0.600000</td>\n      <td>0.397674</td>\n      <td>1</td>\n      <td>104.107355</td>\n      <td>LOP</td>\n      <td>LOP-synthetic,seed=123456,n=20,m=200,phi=0.9</td>\n      <td>CEGO</td>\n    </tr>\n    <tr>\n      <th>1</th>\n      <td>93.21</td>\n      <td>[9, 13, 4, 6, 17, 3, 10, 14, 2, 16, 11, 12, 0,...</td>\n      <td>10</td>\n      <td>2</td>\n      <td>40</td>\n      <td>100</td>\n      <td>0.489474</td>\n      <td>0.150000</td>\n      <td>2</td>\n      <td>104.107355</td>\n      <td>LOP</td>\n      <td>LOP-synthetic,seed=123456,n=20,m=200,phi=0.9</td>\n      <td>CEGO</td>\n    </tr>\n    <tr>\n      <th>2</th>\n      <td>96.96</td>\n      <td>[6, 5, 9, 15, 18, 13, 16, 2, 14, 10, 1, 17, 8,...</td>\n      <td>10</td>\n      <td>2</td>\n      <td>40</td>\n      <td>100</td>\n      <td>0.510526</td>\n      <td>0.586047</td>\n      <td>3</td>\n      <td>104.107355</td>\n      <td>LOP</td>\n      <td>LOP-synthetic,seed=123456,n=20,m=200,phi=0.9</td>\n      <td>CEGO</td>\n    </tr>\n    <tr>\n      <th>3</th>\n      <td>96.07</td>\n      <td>[16, 17, 10, 3, 4, 1, 8, 2, 14, 12, 15, 6, 11,...</td>\n      <td>10</td>\n      <td>2</td>\n      <td>40</td>\n      <td>100</td>\n      <td>0.557895</td>\n      <td>0.482558</td>\n      <td>4</td>\n      <td>104.107355</td>\n      <td>LOP</td>\n      <td>LOP-synthetic,seed=123456,n=20,m=200,phi=0.9</td>\n      <td>CEGO</td>\n    </tr>\n    <tr>\n      <th>4</th>\n      <td>93.73</td>\n      <td>[9, 7, 1, 2, 5, 17, 6, 18, 13, 8, 16, 3, 10, 1...</td>\n      <td>10</td>\n      <td>2</td>\n      <td>40</td>\n      <td>100</td>\n      <td>0.515789</td>\n      <td>0.210465</td>\n      <td>5</td>\n      <td>104.107355</td>\n      <td>LOP</td>\n      <td>LOP-synthetic,seed=123456,n=20,m=200,phi=0.9</td>\n      <td>CEGO</td>\n    </tr>\n    <tr>\n      <th>5</th>\n      <td>93.32</td>\n      <td>[7, 9, 12, 18, 0, 13, 10, 19, 1, 15, 6, 17, 16...</td>\n      <td>10</td>\n      <td>2</td>\n      <td>40</td>\n      <td>100</td>\n      <td>0.426316</td>\n      <td>0.162791</td>\n      <td>6</td>\n      <td>104.107355</td>\n      <td>LOP</td>\n      <td>LOP-synthetic,seed=123456,n=20,m=200,phi=0.9</td>\n      <td>CEGO</td>\n    </tr>\n    <tr>\n      <th>6</th>\n      <td>85.46</td>\n      <td>[2, 16, 14, 10, 19, 17, 15, 6, 3, 0, 13, 4, 12...</td>\n      <td>10</td>\n      <td>2</td>\n      <td>40</td>\n      <td>100</td>\n      <td>0.500000</td>\n      <td>-0.751163</td>\n      <td>7</td>\n      <td>104.107355</td>\n      <td>LOP</td>\n      <td>LOP-synthetic,seed=123456,n=20,m=200,phi=0.9</td>\n      <td>CEGO</td>\n    </tr>\n    <tr>\n      <th>7</th>\n      <td>98.29</td>\n      <td>[18, 3, 7, 8, 16, 14, 0, 11, 9, 1, 6, 19, 4, 1...</td>\n      <td>10</td>\n      <td>2</td>\n      <td>40</td>\n      <td>100</td>\n      <td>0.421053</td>\n      <td>0.740698</td>\n      <td>8</td>\n      <td>104.107355</td>\n      <td>LOP</td>\n      <td>LOP-synthetic,seed=123456,n=20,m=200,phi=0.9</td>\n      <td>CEGO</td>\n    </tr>\n    <tr>\n      <th>8</th>\n      <td>94.86</td>\n      <td>[2, 10, 13, 15, 19, 5, 4, 1, 11, 17, 9, 0, 7, ...</td>\n      <td>10</td>\n      <td>2</td>\n      <td>40</td>\n      <td>100</td>\n      <td>0.547368</td>\n      <td>0.341860</td>\n      <td>9</td>\n      <td>104.107355</td>\n      <td>LOP</td>\n      <td>LOP-synthetic,seed=123456,n=20,m=200,phi=0.9</td>\n      <td>CEGO</td>\n    </tr>\n    <tr>\n      <th>9</th>\n      <td>99.71</td>\n      <td>[3, 18, 5, 1, 9, 2, 19, 10, 8, 6, 12, 16, 17, ...</td>\n      <td>10</td>\n      <td>2</td>\n      <td>40</td>\n      <td>100</td>\n      <td>0.615789</td>\n      <td>0.905814</td>\n      <td>10</td>\n      <td>104.107355</td>\n      <td>LOP</td>\n      <td>LOP-synthetic,seed=123456,n=20,m=200,phi=0.9</td>\n      <td>CEGO</td>\n    </tr>\n    <tr>\n      <th>10</th>\n      <td>85.80</td>\n      <td>[6, 5, 12, 2, 10, 19, 17, 14, 4, 16, 1, 8, 7, ...</td>\n      <td>10</td>\n      <td>2</td>\n      <td>40</td>\n      <td>100</td>\n      <td>0.563158</td>\n      <td>-0.711628</td>\n      <td>11</td>\n      <td>104.107355</td>\n      <td>LOP</td>\n      <td>LOP-synthetic,seed=123456,n=20,m=200,phi=0.9</td>\n      <td>CEGO</td>\n    </tr>\n    <tr>\n      <th>11</th>\n      <td>92.86</td>\n      <td>[7, 0, 15, 5, 11, 19, 14, 13, 2, 17, 3, 6, 9, ...</td>\n      <td>10</td>\n      <td>2</td>\n      <td>40</td>\n      <td>100</td>\n      <td>0.494737</td>\n      <td>0.109302</td>\n      <td>12</td>\n      <td>104.107355</td>\n      <td>LOP</td>\n      <td>LOP-synthetic,seed=123456,n=20,m=200,phi=0.9</td>\n      <td>CEGO</td>\n    </tr>\n    <tr>\n      <th>12</th>\n      <td>98.55</td>\n      <td>[1, 17, 11, 8, 15, 18, 5, 0, 9, 2, 12, 4, 13, ...</td>\n      <td>10</td>\n      <td>2</td>\n      <td>40</td>\n      <td>100</td>\n      <td>0.442105</td>\n      <td>0.770930</td>\n      <td>13</td>\n      <td>104.107355</td>\n      <td>LOP</td>\n      <td>LOP-synthetic,seed=123456,n=20,m=200,phi=0.9</td>\n      <td>CEGO</td>\n    </tr>\n    <tr>\n      <th>13</th>\n      <td>87.50</td>\n      <td>[5, 14, 17, 4, 7, 2, 11, 18, 0, 16, 13, 12, 1,...</td>\n      <td>10</td>\n      <td>2</td>\n      <td>40</td>\n      <td>100</td>\n      <td>0.578947</td>\n      <td>-0.513953</td>\n      <td>14</td>\n      <td>104.107355</td>\n      <td>LOP</td>\n      <td>LOP-synthetic,seed=123456,n=20,m=200,phi=0.9</td>\n      <td>CEGO</td>\n    </tr>\n    <tr>\n      <th>14</th>\n      <td>94.05</td>\n      <td>[10, 11, 7, 18, 1, 12, 14, 16, 5, 17, 9, 8, 19...</td>\n      <td>10</td>\n      <td>2</td>\n      <td>40</td>\n      <td>100</td>\n      <td>0.426316</td>\n      <td>0.247674</td>\n      <td>15</td>\n      <td>104.107355</td>\n      <td>LOP</td>\n      <td>LOP-synthetic,seed=123456,n=20,m=200,phi=0.9</td>\n      <td>CEGO</td>\n    </tr>\n    <tr>\n      <th>15</th>\n      <td>94.67</td>\n      <td>[5, 12, 15, 4, 6, 16, 10, 17, 2, 19, 1, 9, 7, ...</td>\n      <td>10</td>\n      <td>2</td>\n      <td>40</td>\n      <td>100</td>\n      <td>0.626316</td>\n      <td>0.319767</td>\n      <td>16</td>\n      <td>104.107355</td>\n      <td>LOP</td>\n      <td>LOP-synthetic,seed=123456,n=20,m=200,phi=0.9</td>\n      <td>CEGO</td>\n    </tr>\n    <tr>\n      <th>16</th>\n      <td>101.06</td>\n      <td>[16, 5, 9, 8, 6, 15, 13, 11, 12, 14, 17, 10, 1...</td>\n      <td>10</td>\n      <td>2</td>\n      <td>40</td>\n      <td>100</td>\n      <td>0.410526</td>\n      <td>1.062791</td>\n      <td>17</td>\n      <td>104.107355</td>\n      <td>LOP</td>\n      <td>LOP-synthetic,seed=123456,n=20,m=200,phi=0.9</td>\n      <td>CEGO</td>\n    </tr>\n    <tr>\n      <th>17</th>\n      <td>92.62</td>\n      <td>[2, 18, 13, 7, 15, 17, 14, 10, 11, 5, 9, 3, 12...</td>\n      <td>10</td>\n      <td>2</td>\n      <td>40</td>\n      <td>100</td>\n      <td>0.463158</td>\n      <td>0.081395</td>\n      <td>18</td>\n      <td>104.107355</td>\n      <td>LOP</td>\n      <td>LOP-synthetic,seed=123456,n=20,m=200,phi=0.9</td>\n      <td>CEGO</td>\n    </tr>\n    <tr>\n      <th>18</th>\n      <td>85.13</td>\n      <td>[1, 14, 19, 4, 17, 18, 15, 16, 2, 10, 8, 3, 12...</td>\n      <td>10</td>\n      <td>2</td>\n      <td>40</td>\n      <td>100</td>\n      <td>0.578947</td>\n      <td>-0.789535</td>\n      <td>19</td>\n      <td>104.107355</td>\n      <td>LOP</td>\n      <td>LOP-synthetic,seed=123456,n=20,m=200,phi=0.9</td>\n      <td>CEGO</td>\n    </tr>\n    <tr>\n      <th>19</th>\n      <td>89.67</td>\n      <td>[7, 16, 18, 13, 17, 15, 19, 8, 6, 2, 3, 9, 11,...</td>\n      <td>10</td>\n      <td>2</td>\n      <td>40</td>\n      <td>100</td>\n      <td>0.484211</td>\n      <td>-0.261628</td>\n      <td>20</td>\n      <td>104.107355</td>\n      <td>LOP</td>\n      <td>LOP-synthetic,seed=123456,n=20,m=200,phi=0.9</td>\n      <td>CEGO</td>\n    </tr>\n    <tr>\n      <th>20</th>\n      <td>90.24</td>\n      <td>[12, 9, 17, 10, 19, 15, 14, 18, 2, 7, 6, 3, 13...</td>\n      <td>10</td>\n      <td>2</td>\n      <td>40</td>\n      <td>100</td>\n      <td>0.531579</td>\n      <td>-0.195349</td>\n      <td>21</td>\n      <td>104.107355</td>\n      <td>LOP</td>\n      <td>LOP-synthetic,seed=123456,n=20,m=200,phi=0.9</td>\n      <td>CEGO</td>\n    </tr>\n    <tr>\n      <th>21</th>\n      <td>87.05</td>\n      <td>[6, 9, 17, 16, 14, 18, 12, 13, 1, 8, 10, 7, 2,...</td>\n      <td>10</td>\n      <td>2</td>\n      <td>40</td>\n      <td>100</td>\n      <td>0.468421</td>\n      <td>-0.566279</td>\n      <td>22</td>\n      <td>104.107355</td>\n      <td>LOP</td>\n      <td>LOP-synthetic,seed=123456,n=20,m=200,phi=0.9</td>\n      <td>CEGO</td>\n    </tr>\n    <tr>\n      <th>22</th>\n      <td>90.74</td>\n      <td>[8, 6, 13, 17, 7, 9, 19, 11, 1, 14, 15, 0, 4, ...</td>\n      <td>10</td>\n      <td>2</td>\n      <td>40</td>\n      <td>100</td>\n      <td>0.521053</td>\n      <td>-0.137209</td>\n      <td>23</td>\n      <td>104.107355</td>\n      <td>LOP</td>\n      <td>LOP-synthetic,seed=123456,n=20,m=200,phi=0.9</td>\n      <td>CEGO</td>\n    </tr>\n    <tr>\n      <th>23</th>\n      <td>96.11</td>\n      <td>[8, 15, 17, 2, 10, 19, 16, 18, 0, 7, 9, 1, 5, ...</td>\n      <td>10</td>\n      <td>2</td>\n      <td>40</td>\n      <td>100</td>\n      <td>0.673684</td>\n      <td>0.487209</td>\n      <td>24</td>\n      <td>104.107355</td>\n      <td>LOP</td>\n      <td>LOP-synthetic,seed=123456,n=20,m=200,phi=0.9</td>\n      <td>CEGO</td>\n    </tr>\n    <tr>\n      <th>24</th>\n      <td>89.49</td>\n      <td>[0, 11, 15, 7, 19, 6, 17, 9, 4, 14, 10, 2, 5, ...</td>\n      <td>10</td>\n      <td>2</td>\n      <td>40</td>\n      <td>100</td>\n      <td>0.621053</td>\n      <td>-0.282558</td>\n      <td>25</td>\n      <td>104.107355</td>\n      <td>LOP</td>\n      <td>LOP-synthetic,seed=123456,n=20,m=200,phi=0.9</td>\n      <td>CEGO</td>\n    </tr>\n    <tr>\n      <th>25</th>\n      <td>102.04</td>\n      <td>[0, 9, 12, 13, 15, 10, 19, 6, 3, 7, 8, 18, 1, ...</td>\n      <td>10</td>\n      <td>2</td>\n      <td>40</td>\n      <td>100</td>\n      <td>0.557895</td>\n      <td>1.176744</td>\n      <td>26</td>\n      <td>104.107355</td>\n      <td>LOP</td>\n      <td>LOP-synthetic,seed=123456,n=20,m=200,phi=0.9</td>\n      <td>CEGO</td>\n    </tr>\n    <tr>\n      <th>26</th>\n      <td>91.59</td>\n      <td>[0, 14, 16, 1, 11, 8, 6, 13, 4, 12, 17, 7, 3, ...</td>\n      <td>10</td>\n      <td>2</td>\n      <td>40</td>\n      <td>100</td>\n      <td>0.605263</td>\n      <td>-0.038372</td>\n      <td>27</td>\n      <td>104.107355</td>\n      <td>LOP</td>\n      <td>LOP-synthetic,seed=123456,n=20,m=200,phi=0.9</td>\n      <td>CEGO</td>\n    </tr>\n    <tr>\n      <th>27</th>\n      <td>97.71</td>\n      <td>[7, 15, 16, 2, 19, 5, 10, 18, 8, 9, 3, 1, 4, 0...</td>\n      <td>10</td>\n      <td>2</td>\n      <td>40</td>\n      <td>100</td>\n      <td>0.636842</td>\n      <td>0.673256</td>\n      <td>28</td>\n      <td>104.107355</td>\n      <td>LOP</td>\n      <td>LOP-synthetic,seed=123456,n=20,m=200,phi=0.9</td>\n      <td>CEGO</td>\n    </tr>\n    <tr>\n      <th>28</th>\n      <td>95.17</td>\n      <td>[1, 13, 10, 11, 15, 19, 12, 16, 14, 0, 9, 2, 8...</td>\n      <td>10</td>\n      <td>2</td>\n      <td>40</td>\n      <td>100</td>\n      <td>0.494737</td>\n      <td>0.377907</td>\n      <td>29</td>\n      <td>104.107355</td>\n      <td>LOP</td>\n      <td>LOP-synthetic,seed=123456,n=20,m=200,phi=0.9</td>\n      <td>CEGO</td>\n    </tr>\n    <tr>\n      <th>29</th>\n      <td>105.99</td>\n      <td>[5, 6, 18, 9, 13, 8, 11, 15, 3, 10, 12, 7, 17,...</td>\n      <td>10</td>\n      <td>2</td>\n      <td>40</td>\n      <td>100</td>\n      <td>0.526316</td>\n      <td>1.636047</td>\n      <td>30</td>\n      <td>104.107355</td>\n      <td>LOP</td>\n      <td>LOP-synthetic,seed=123456,n=20,m=200,phi=0.9</td>\n      <td>CEGO</td>\n    </tr>\n    <tr>\n      <th>30</th>\n      <td>99.96</td>\n      <td>[14, 8, 13, 15, 11, 16, 12, 6, 3, 19, 4, 10, 5...</td>\n      <td>10</td>\n      <td>2</td>\n      <td>40</td>\n      <td>100</td>\n      <td>0.400000</td>\n      <td>0.934884</td>\n      <td>31</td>\n      <td>104.107355</td>\n      <td>LOP</td>\n      <td>LOP-synthetic,seed=123456,n=20,m=200,phi=0.9</td>\n      <td>CEGO</td>\n    </tr>\n    <tr>\n      <th>31</th>\n      <td>92.62</td>\n      <td>[3, 13, 19, 14, 18, 15, 9, 16, 2, 7, 11, 6, 4,...</td>\n      <td>10</td>\n      <td>2</td>\n      <td>40</td>\n      <td>100</td>\n      <td>0.626316</td>\n      <td>0.081395</td>\n      <td>32</td>\n      <td>104.107355</td>\n      <td>LOP</td>\n      <td>LOP-synthetic,seed=123456,n=20,m=200,phi=0.9</td>\n      <td>CEGO</td>\n    </tr>\n    <tr>\n      <th>32</th>\n      <td>88.64</td>\n      <td>[9, 7, 15, 18, 12, 19, 4, 14, 6, 16, 17, 1, 2,...</td>\n      <td>10</td>\n      <td>2</td>\n      <td>40</td>\n      <td>100</td>\n      <td>0.436842</td>\n      <td>-0.381395</td>\n      <td>33</td>\n      <td>104.107355</td>\n      <td>LOP</td>\n      <td>LOP-synthetic,seed=123456,n=20,m=200,phi=0.9</td>\n      <td>CEGO</td>\n    </tr>\n    <tr>\n      <th>33</th>\n      <td>87.22</td>\n      <td>[6, 15, 11, 10, 19, 18, 17, 14, 7, 4, 12, 0, 1...</td>\n      <td>10</td>\n      <td>2</td>\n      <td>40</td>\n      <td>100</td>\n      <td>0.521053</td>\n      <td>-0.546512</td>\n      <td>34</td>\n      <td>104.107355</td>\n      <td>LOP</td>\n      <td>LOP-synthetic,seed=123456,n=20,m=200,phi=0.9</td>\n      <td>CEGO</td>\n    </tr>\n    <tr>\n      <th>34</th>\n      <td>90.45</td>\n      <td>[2, 1, 11, 10, 17, 12, 14, 15, 5, 19, 9, 3, 16...</td>\n      <td>10</td>\n      <td>2</td>\n      <td>40</td>\n      <td>100</td>\n      <td>0.463158</td>\n      <td>-0.170930</td>\n      <td>35</td>\n      <td>104.107355</td>\n      <td>LOP</td>\n      <td>LOP-synthetic,seed=123456,n=20,m=200,phi=0.9</td>\n      <td>CEGO</td>\n    </tr>\n    <tr>\n      <th>35</th>\n      <td>102.21</td>\n      <td>[6, 15, 18, 8, 19, 5, 11, 16, 1, 12, 10, 3, 0,...</td>\n      <td>10</td>\n      <td>2</td>\n      <td>40</td>\n      <td>100</td>\n      <td>0.615789</td>\n      <td>1.196512</td>\n      <td>36</td>\n      <td>104.107355</td>\n      <td>LOP</td>\n      <td>LOP-synthetic,seed=123456,n=20,m=200,phi=0.9</td>\n      <td>CEGO</td>\n    </tr>\n    <tr>\n      <th>36</th>\n      <td>100.19</td>\n      <td>[10, 8, 9, 4, 14, 16, 19, 13, 6, 15, 3, 5, 12,...</td>\n      <td>10</td>\n      <td>2</td>\n      <td>40</td>\n      <td>100</td>\n      <td>0.457895</td>\n      <td>0.961628</td>\n      <td>37</td>\n      <td>104.107355</td>\n      <td>LOP</td>\n      <td>LOP-synthetic,seed=123456,n=20,m=200,phi=0.9</td>\n      <td>CEGO</td>\n    </tr>\n    <tr>\n      <th>37</th>\n      <td>96.83</td>\n      <td>[6, 11, 18, 16, 9, 13, 15, 19, 5, 10, 7, 0, 2,...</td>\n      <td>10</td>\n      <td>2</td>\n      <td>40</td>\n      <td>100</td>\n      <td>0.536842</td>\n      <td>0.570930</td>\n      <td>38</td>\n      <td>104.107355</td>\n      <td>LOP</td>\n      <td>LOP-synthetic,seed=123456,n=20,m=200,phi=0.9</td>\n      <td>CEGO</td>\n    </tr>\n    <tr>\n      <th>38</th>\n      <td>90.26</td>\n      <td>[5, 6, 14, 3, 19, 17, 15, 18, 7, 12, 4, 1, 11,...</td>\n      <td>10</td>\n      <td>2</td>\n      <td>40</td>\n      <td>100</td>\n      <td>0.526316</td>\n      <td>-0.193023</td>\n      <td>39</td>\n      <td>104.107355</td>\n      <td>LOP</td>\n      <td>LOP-synthetic,seed=123456,n=20,m=200,phi=0.9</td>\n      <td>CEGO</td>\n    </tr>\n    <tr>\n      <th>39</th>\n      <td>95.35</td>\n      <td>[4, 5, 12, 18, 10, 19, 13, 14, 11, 8, 17, 1, 3...</td>\n      <td>10</td>\n      <td>2</td>\n      <td>40</td>\n      <td>100</td>\n      <td>0.378947</td>\n      <td>0.398837</td>\n      <td>40</td>\n      <td>104.107355</td>\n      <td>LOP</td>\n      <td>LOP-synthetic,seed=123456,n=20,m=200,phi=0.9</td>\n      <td>CEGO</td>\n    </tr>\n  </tbody>\n</table>\n</div>"
          },
          "metadata": {}
        }
      ],
      "execution_count": 2,
      "metadata": {
        "collapsed": true,
        "execution": {
          "iopub.execute_input": "2020-11-17T18:52:47.644Z",
          "iopub.status.busy": "2020-11-17T18:52:47.637Z",
          "iopub.status.idle": "2020-11-17T18:54:32.278Z",
          "shell.execute_reply": "2020-11-17T18:54:32.338Z"
        },
        "jupyter": {
          "outputs_hidden": false,
          "source_hidden": false
        },
        "nteract": {
          "transient": {
            "deleting": false
          }
        }
      }
    },
    {
      "cell_type": "markdown",
      "source": [
        "The following piece of code plots the results of the previous experiment"
      ],
      "metadata": {}
    },
    {
      "cell_type": "code",
      "source": [
        "out_file = \"pickles/\"+instance_name.replace(\"/\", \"__\").replace(\".txt\", \"\")\n",
        "df = pd.read_pickle(out_filename+'.pkl.gz')\n",
        "\n",
        "print(\"instance name\", df.instance.iloc[0], \"- time\", round(df.run_time.iloc[0], 2))\n",
        "print(df.Fitness.min())\n",
        "\n",
        "color_variable = 'Solver'\n",
        "y_variables = ['Fitness']#,'Distance','phi_sample'\n",
        "palette = sns.color_palette(\"husl\", len(df[color_variable].drop_duplicates()))\n",
        "for y_variable in y_variables:\n",
        "    plt.figure(figsize=(15,5))\n",
        "    sns.lineplot(x='Function evaluations',y=y_variable,hue='Solver',data=df, palette=palette)\n",
        "    plt.show()"
      ],
      "outputs": [
        {
          "output_type": "stream",
          "name": "stdout",
          "text": [
            "instance name LOP-synthetic,seed=123456,n=20,m=200,phi=0.9 - time 104.11\n",
            "85.13\n"
          ]
        },
        {
          "output_type": "display_data",
          "data": {
            "text/plain": "<Figure size 1080x360 with 1 Axes>",
            "image/png": "[encoded data removed]"
          },
          "metadata": {
            "needs_background": "light"
          }
        }
      ],
      "execution_count": 3,
      "metadata": {
        "collapsed": true,
        "execution": {
          "iopub.execute_input": "2020-11-17T18:54:39.034Z",
          "iopub.status.busy": "2020-11-17T18:54:39.028Z",
          "iopub.status.idle": "2020-11-17T18:54:39.521Z",
          "shell.execute_reply": "2020-11-17T18:54:39.547Z"
        },
        "jupyter": {
          "outputs_hidden": false,
          "source_hidden": false
        },
        "nteract": {
          "transient": {
            "deleting": false
          }
        }
      }
    },
    {
      "cell_type": "code",
      "source": [
        "np.random.seed(0)"
      ],
      "outputs": [],
      "execution_count": 34,
      "metadata": {
        "collapsed": true,
        "execution": {
          "iopub.execute_input": "2020-11-15T20:36:11.205Z",
          "iopub.status.busy": "2020-11-15T20:36:11.199Z",
          "iopub.status.idle": "2020-11-15T20:36:11.213Z",
          "shell.execute_reply": "2020-11-15T20:36:11.219Z"
        },
        "jupyter": {
          "outputs_hidden": false,
          "source_hidden": false
        },
        "nteract": {
          "transient": {
            "deleting": false
          }
        }
      }
    },
    {
      "cell_type": "code",
      "source": [
        "def synthetic_LOP(n, m, phi):\n",
        "    instanceID = np.zeros((n,n))\n",
        "    instanceRA = np.zeros((n,n))\n",
        "    # FIXME: It should already return an array.\n",
        "    s = np.asarray(mk.samplingMM(m, n, phi=phi, k=None))\n",
        "    \n",
        "    for i in range(n):\n",
        "        for j in range(i+1,n):\n",
        "            instanceID[i, j] = (s[:, i] < s[:, j]).sum() / m\n",
        "            instanceID[j, i] = 1 - instanceID[i, j]\n",
        "    central = np.random.permutation(n)\n",
        "    s = s[:, central] #compose\n",
        "    for i in range(n):\n",
        "        for j in range(i+1,n):\n",
        "            instanceRA[i, j] = (s[:, i] < s[:, j]).sum() / m\n",
        "            instanceRA[j, i] = 1 - instanceRA[i, j]\n",
        "    return instanceID, instanceRA, central\n",
        "  \n",
        "n=6\n",
        "m,phi = 200,.9\n",
        "import mallows_kendall as mk\n",
        "\n",
        "instanceID, instanceRA, best_sol = synthetic_LOP(n, m, phi)\n",
        "worst_sol = best_sol[::-1]\n",
        "instanceID, instanceRA\n",
        "ide = np.arange(n)\n",
        "inv = np.argsort(best_sol)\n",
        "s = 0\n",
        "for i in range(n):\n",
        "  for j in range(i):\n",
        "    s += instanceRA[best_sol[i],best_sol[j]] #LT\n",
        "s\n",
        "np.tril(instanceID[np.ix_(ide, ide)]).sum(), np.tril(instanceRA[np.ix_(inv, inv)]).sum(), np.tril(instanceRA[np.ix_(best_sol, best_sol)]).sum(),s"
      ],
      "outputs": [
        {
          "output_type": "execute_result",
          "execution_count": 89,
          "data": {
            "text/plain": "(7.05, 7.05, 7.31, 7.309999999999999)"
          },
          "metadata": {}
        }
      ],
      "execution_count": 89,
      "metadata": {
        "collapsed": true,
        "execution": {
          "iopub.execute_input": "2020-11-15T20:43:57.454Z",
          "iopub.status.busy": "2020-11-15T20:43:57.450Z",
          "iopub.status.idle": "2020-11-15T20:43:57.465Z",
          "shell.execute_reply": "2020-11-15T20:43:57.479Z"
        },
        "jupyter": {
          "outputs_hidden": false,
          "source_hidden": false
        },
        "nteract": {
          "transient": {
            "deleting": false
          }
        }
      }
    },
    {
      "cell_type": "code",
      "source": [
        "instanceID[np.ix_(best_sol, best_sol)] == instanceRA, instanceRA[np.ix_(inv, inv)] == instanceID"
      ],
      "outputs": [
        {
          "output_type": "execute_result",
          "execution_count": 96,
          "data": {
            "text/plain": "(array([[ True,  True,  True,  True,  True,  True],\n        [ True,  True,  True,  True,  True,  True],\n        [ True,  True,  True,  True,  True,  True],\n        [ True,  True,  True,  True,  True,  True],\n        [ True,  True,  True,  True,  True,  True],\n        [ True,  True,  True,  True,  True,  True]]),\n array([[ True,  True,  True,  True,  True,  True],\n        [ True,  True,  True,  True,  True,  True],\n        [ True,  True,  True,  True,  True,  True],\n        [ True,  True,  True,  True,  True,  True],\n        [ True,  True,  True,  True,  True,  True],\n        [ True,  True,  True,  True,  True,  True]]))"
          },
          "metadata": {}
        }
      ],
      "execution_count": 96,
      "metadata": {
        "collapsed": true,
        "execution": {
          "iopub.execute_input": "2020-11-15T20:54:09.798Z",
          "iopub.status.busy": "2020-11-15T20:54:09.793Z",
          "iopub.status.idle": "2020-11-15T20:54:09.809Z",
          "shell.execute_reply": "2020-11-15T20:54:09.825Z"
        },
        "jupyter": {
          "outputs_hidden": false,
          "source_hidden": false
        },
        "nteract": {
          "transient": {
            "deleting": false
          }
        }
      }
    },
    {
      "cell_type": "code",
      "source": [
        "import lop as lop\n",
        "reload(lop)\n",
        "import random\n",
        "from lop import LOP\n",
        "n,m,phi,seed = 8,200,0.9,random.randint(1,10)\n",
        "p= LOP.generate_synthetic(n,m,phi,seed)"
      ],
      "outputs": [
        {
          "output_type": "stream",
          "name": "stdout",
          "text": [
            "identity, reverse, best-known and worst-known fitnesses 14.42 13.580000000000002 12.379999999999999 14.600000000000001\n"
          ]
        }
      ],
      "execution_count": 96,
      "metadata": {
        "collapsed": true,
        "execution": {
          "iopub.execute_input": "2020-11-16T14:13:59.707Z",
          "iopub.status.busy": "2020-11-16T14:13:59.701Z",
          "iopub.status.idle": "2020-11-16T14:13:59.753Z",
          "shell.execute_reply": "2020-11-16T14:13:59.773Z"
        },
        "jupyter": {
          "outputs_hidden": false,
          "source_hidden": false
        },
        "nteract": {
          "transient": {
            "deleting": false
          }
        }
      }
    },
    {
      "cell_type": "code",
      "source": [
        "import lop as lop\n",
        "reload(lop)\n",
        "import random\n",
        "from lop import LOP\n",
        "n,m,phi,seed = 8,200,0.9,random.randint(1,10)\n",
        "p= LOP.generate_synthetic(n,m,phi,seed)\n",
        "p.instance, p.best_sol, p.fitness_nosave(p.best_sol)\n",
        "ide = np.arange(n)\n",
        "bes = p.best_sol\n",
        "inv = np.argsort(bes)\n",
        "wor = np.argsort(inv[::-1])\n",
        "s = 0\n",
        "for i in range(n):\n",
        "  for j in range(i):\n",
        "    s += p.instance[inv[i],inv[j]] #LT\n",
        "print(s, bes)\n",
        "# np.tril(instanceID[np.ix_(ide, ide)]).sum(), \n",
        "np.tril(p.instance[np.ix_(inv, inv)]).sum(), np.tril(p.instance[np.ix_(inv[::-1], inv[::-1])]).sum(), #esto es la identidad\n",
        "# np.tril(instanceRA[np.ix_(best_sol, best_sol)]).sum(),s\n",
        "p.fitness_nosave(bes), p.fitness_nosave(wor)"
      ],
      "outputs": [
        {
          "output_type": "stream",
          "name": "stdout",
          "text": [
            "identity, reverse, best-known and worst-known fitnesses 14.014999999999999 13.985 12.425 14.025\n",
            "12.425000000000002 [2 1 7 5 4 3 6 0]\n"
          ]
        },
        {
          "output_type": "execute_result",
          "execution_count": 92,
          "data": {
            "text/plain": "(12.425, 15.575000000000001)"
          },
          "metadata": {}
        }
      ],
      "execution_count": 92,
      "metadata": {
        "collapsed": true,
        "execution": {
          "iopub.execute_input": "2020-11-16T14:10:16.892Z",
          "iopub.status.busy": "2020-11-16T14:10:16.885Z",
          "iopub.status.idle": "2020-11-16T14:10:16.944Z",
          "shell.execute_reply": "2020-11-16T14:10:16.965Z"
        },
        "jupyter": {
          "outputs_hidden": false,
          "source_hidden": false
        },
        "nteract": {
          "transient": {
            "deleting": false
          }
        }
      }
    },
    {
      "cell_type": "code",
      "source": [
        "wor = np.argsort(inv[::-1])\n",
        "s = 0\n",
        "for i in range(n):\n",
        "  for j in range(i):\n",
        "    s += p.instance[wor[i],wor[j]] #LT\n",
        "print(s, bes)\n"
      ],
      "outputs": [
        {
          "output_type": "stream",
          "name": "stdout",
          "text": [
            "15.155 [4 0 2 7 5 6 1 3]\n"
          ]
        }
      ],
      "execution_count": 80,
      "metadata": {
        "collapsed": true,
        "execution": {
          "iopub.execute_input": "2020-11-16T13:47:34.543Z",
          "iopub.status.busy": "2020-11-16T13:47:34.538Z",
          "iopub.status.idle": "2020-11-16T13:47:34.556Z",
          "shell.execute_reply": "2020-11-16T13:47:34.561Z"
        },
        "jupyter": {
          "outputs_hidden": false,
          "source_hidden": false
        },
        "nteract": {
          "transient": {
            "deleting": false
          }
        }
      }
    },
    {
      "cell_type": "code",
      "source": [],
      "outputs": [],
      "execution_count": null,
      "metadata": {
        "collapsed": true,
        "jupyter": {
          "outputs_hidden": false,
          "source_hidden": false
        },
        "nteract": {
          "transient": {
            "deleting": false
          }
        }
      }
    },
    {
      "cell_type": "code",
      "source": [],
      "outputs": [],
      "execution_count": null,
      "metadata": {
        "collapsed": true,
        "jupyter": {
          "outputs_hidden": false,
          "source_hidden": false
        },
        "nteract": {
          "transient": {
            "deleting": false
          }
        }
      }
    },
    {
      "cell_type": "code",
      "source": [],
      "outputs": [],
      "execution_count": null,
      "metadata": {
        "collapsed": true,
        "jupyter": {
          "outputs_hidden": false,
          "source_hidden": false
        },
        "nteract": {
          "transient": {
            "deleting": false
          }
        }
      }
    },
    {
      "cell_type": "code",
      "source": [],
      "outputs": [],
      "execution_count": null,
      "metadata": {
        "collapsed": true,
        "jupyter": {
          "outputs_hidden": false,
          "source_hidden": false
        },
        "nteract": {
          "transient": {
            "deleting": false
          }
        }
      }
    },
    {
      "cell_type": "code",
      "source": [],
      "outputs": [],
      "execution_count": null,
      "metadata": {
        "collapsed": true,
        "jupyter": {
          "outputs_hidden": false,
          "source_hidden": false
        },
        "nteract": {
          "transient": {
            "deleting": false
          }
        }
      }
    }
  ],
  "metadata": {
    "kernel_info": {
      "name": "python3"
    },
    "kernelspec": {
      "display_name": "Python 3",
      "language": "python",
      "name": "python3"
    },
    "language_info": {
      "name": "python",
      "version": "3.7.5",
      "mimetype": "text/x-python",
      "codemirror_mode": {
        "name": "ipython",
        "version": 3
      },
      "pygments_lexer": "ipython3",
      "nbconvert_exporter": "python",
      "file_extension": ".py"
    },
    "nteract": {
      "version": "0.26.0"
    }
  },
  "nbformat": 4,
  "nbformat_minor": 1
}