{
  "cells": [
    {
      "cell_type": "code",
      "source": [
        "from imp import reload\n",
        "import sys\n",
        "print(sys.version)\n",
        "# import rpy2\n",
        "import os\n",
        "import numpy as np\n",
        "import pandas as pd\n",
        "from scipy import stats\n",
        "#import statsmodels.stats.api as sms\n",
        "import seaborn as sns\n",
        "import matplotlib.pyplot as plt\n",
        "import matplotlib\n",
        "# Use Type 1 fonts in plots.\n",
        "matplotlib.rcParams['ps.useafm'] = True\n",
        "matplotlib.rcParams['pdf.use14corefonts'] = True\n",
        "matplotlib.rcParams['text.usetex'] = False\n",
        "# Do not wrap long lines\n",
        "np.set_printoptions(linewidth=np.nan)\n",
        "sns.set_style(\"whitegrid\")\n",
        "import runner\n",
        "import umm"
      ],
      "outputs": [
        {
          "output_type": "stream",
          "name": "stdout",
          "text": [
            "3.9.0 (default, Nov 21 2020, 14:55:42) \n",
            "[Clang 12.0.0 (clang-1200.0.32.27)]\n"
          ]
        }
      ],
      "execution_count": 1,
      "metadata": {
        "execution": {
          "iopub.execute_input": "2021-01-24T17:18:47.792Z",
          "iopub.status.busy": "2021-01-24T17:18:47.780Z",
          "iopub.status.idle": "2021-01-24T17:18:48.479Z",
          "shell.execute_reply": "2021-01-24T17:18:48.551Z"
        },
        "jupyter": {
          "outputs_hidden": false,
          "source_hidden": false
        },
        "nteract": {
          "transient": {
            "deleting": false
          }
        }
      }
    },
    {
      "cell_type": "markdown",
      "source": [
        "## Running UMM and CEGO over one instance\n",
        "\n",
        "The next cell allows running CEGO and UMM over a chosen instance and with the selected parameters"
      ],
      "metadata": {}
    },
    {
      "cell_type": "code",
      "source": [
        "reload(runner)\n",
        "# instance_name=\"LOP-synthetic,seed=123456,n=20,m=200,phi=0.5\"\n",
        "# instance_name = \"pfsp/tai20_5_8.fsp\"\n",
        "# instance_name=\"pfsp/rec19.txt\"\n",
        "instance_name=\"lop/RandB/N-p50-01\"\n",
        "# instance_name=\"lop/Spec/N-pal13\"\n",
        "# instance_name=\"lop/xLOLIB/N-be75eec_150\"\n",
        "# instance_name=\"qap/nug12.dat\"\n",
        "budgetGA=10**3#\n",
        "seed=8\n",
        "budget=100#0\n",
        "m_ini=10\n",
        "budgetMM=10\n",
        "eval_ranks = False\n",
        "r_1 = [.1]\n",
        "r_2 = [.9]\n",
        "res = []\n",
        "for ratio_samples_learn in r_1:\n",
        "  for weight_mass_learn in r_2:\n",
        "    out_filename = \"pickles/\"+instance_name.replace(\"/\", \"__\").replace(\".txt\", \"\")\n",
        "    df = runner.run_once(\"UMM\", instance_name, seed,budget = budget, m_ini = m_ini, budgetMM = budgetMM, ratio_samples_learn = ratio_samples_learn, weight_mass_learn = weight_mass_learn, out_filename = out_filename, eval_ranks=eval_ranks)\n",
        "#     res.append([out_filename,ratio_samples_learn, weight_mass_learn,df.Fitness.min()])\n",
        "# runner.run_once(\"CEGO\", instance_name, seed,budget = budget, m_ini = m_ini, budgetGA = budgetGA, out_filename = out_filename)"
      ],
      "outputs": [
        {
          "output_type": "stream",
          "name": "stdout",
          "text": [
            "Reading instance from lop/RandB/N-p50-01\n",
            "identity, reverse, best-known and worst-known fitnesses 29166.0 32174.0 None None\n"
          ]
        }
      ],
      "execution_count": 11,
      "metadata": {
        "execution": {
          "iopub.execute_input": "2021-01-24T17:29:41.216Z",
          "iopub.status.busy": "2021-01-24T17:29:41.208Z",
          "iopub.status.idle": "2021-01-24T17:30:52.620Z",
          "shell.execute_reply": "2021-01-24T17:30:52.625Z"
        },
        "jupyter": {
          "outputs_hidden": false,
          "source_hidden": false
        },
        "nteract": {
          "transient": {
            "deleting": false
          }
        }
      }
    },
    {
      "cell_type": "markdown",
      "source": [
        "The following piece of code plots the results of the previous experiment"
      ],
      "metadata": {}
    },
    {
      "cell_type": "code",
      "source": [
        "out_filename"
      ],
      "outputs": [
        {
          "output_type": "execute_result",
          "execution_count": 6,
          "data": {
            "text/plain": "'pickles/lop__RandB__N-p50-01'"
          },
          "metadata": {}
        }
      ],
      "execution_count": 6,
      "metadata": {
        "collapsed": true,
        "jupyter": {
          "source_hidden": false,
          "outputs_hidden": false
        },
        "nteract": {
          "transient": {
            "deleting": false
          }
        },
        "execution": {
          "iopub.status.busy": "2021-01-24T17:27:37.224Z",
          "iopub.execute_input": "2021-01-24T17:27:37.232Z",
          "iopub.status.idle": "2021-01-24T17:27:37.250Z",
          "shell.execute_reply": "2021-01-24T17:27:37.258Z"
        }
      }
    },
    {
      "cell_type": "code",
      "source": [
        "out_file = \"pickles/\"+instance_name.replace(\"/\", \"__\").replace(\".txt\", \"\")\n",
        "out_file = 'pickles/lop__RandB__N-p50-01'\n",
        "# df = pd.read_pickle(out_filename+'.pkl.gz')\n",
        "\n",
        "print(\"instance name\", df.instance.iloc[0], \"- time\", round(df.run_time.iloc[0], 2))\n",
        "print(df.Fitness.min())\n",
        "\n",
        "color_variable = 'Solver'\n",
        "y_variables = ['Fitness']#,'Distance','phi_sample'\n",
        "palette = sns.color_palette(\"husl\", len(df[color_variable].drop_duplicates()))\n",
        "for y_variable in y_variables:\n",
        "    plt.figure(figsize=(15,5))\n",
        "    sns.lineplot(x='Function evaluations',y=y_variable,hue='Solver',data=df, palette=palette)\n",
        "#     plt.savefig('img/'+instance_name.replace(\"/\", \"__\").replace(\".txt\", \"\")+'order.eps')\n",
        "    plt.show()"
      ],
      "outputs": [
        {
          "output_type": "stream",
          "name": "stdout",
          "text": [
            "instance name lop/RandB/N-p50-01 - time 67.15\n",
            "25529.0\n"
          ]
        },
        {
          "output_type": "display_data",
          "data": {
            "text/plain": "<Figure size 1080x360 with 1 Axes>",
            "image/png": "[encoded data removed]"
          },
          "metadata": {}
        }
      ],
      "execution_count": 9,
      "metadata": {
        "execution": {
          "iopub.execute_input": "2021-01-24T17:29:05.371Z",
          "iopub.status.busy": "2021-01-24T17:29:05.362Z",
          "iopub.status.idle": "2021-01-24T17:29:05.574Z",
          "shell.execute_reply": "2021-01-24T17:29:05.591Z"
        },
        "jupyter": {
          "outputs_hidden": false,
          "source_hidden": false
        },
        "nteract": {
          "transient": {
            "deleting": false
          }
        }
      }
    },
    {
      "cell_type": "code",
      "source": [
        "df"
      ],
      "outputs": [
        {
          "output_type": "execute_result",
          "execution_count": 10,
          "data": {
            "text/plain": "              rho  phi_estim  phi_sample  Distance  Fitness  \\\n0             NaN        NaN         NaN       NaN   1766.0   \n1             NaN        NaN         NaN       NaN   1469.0   \n2             NaN        NaN         NaN       NaN   1680.0   \n3             NaN        NaN         NaN       NaN   1631.0   \n4             NaN        NaN         NaN       NaN   1481.0   \n..            ...        ...         ...       ...      ...   \n395  7.275958e-12   0.444981     0.09375       NaN   1355.0   \n396  6.366463e-12   0.444173     0.09375       NaN   1360.0   \n397  5.456968e-12   0.443365     0.09375       NaN   1318.0   \n398  5.002221e-12   0.438393     0.06250       NaN   1333.0   \n399  4.547474e-12   0.436306     0.06250       NaN   1336.0   \n\n                                                     x  m_ini  seed  budget  \\\n0    [7, 11, 6, 15, 18, 4, 12, 2, 13, 1, 16, 0, 14,...     10     8     400   \n1    [8, 19, 0, 15, 11, 12, 1, 17, 2, 16, 10, 7, 13...     10     8     400   \n2    [5, 14, 12, 16, 19, 3, 9, 1, 17, 4, 18, 6, 2, ...     10     8     400   \n3    [5, 11, 4, 1, 17, 8, 3, 10, 15, 12, 13, 18, 2,...     10     8     400   \n4    [4, 19, 13, 0, 11, 18, 1, 7, 15, 10, 3, 16, 5,...     10     8     400   \n..                                                 ...    ...   ...     ...   \n395  [2, 11, 8, 0, 18, 7, 3, 12, 15, 6, 10, 4, 17, ...     10     8     400   \n396  [1, 11, 7, 0, 16, 5, 3, 12, 19, 8, 10, 4, 18, ...     10     8     400   \n397  [1, 11, 7, 0, 18, 5, 3, 13, 17, 8, 10, 4, 14, ...     10     8     400   \n398  [1, 11, 8, 0, 18, 5, 2, 12, 17, 7, 9, 3, 16, 1...     10     8     400   \n399  [1, 9, 7, 0, 18, 6, 3, 11, 17, 8, 13, 4, 16, 1...     10     8     400   \n\n     budgetMM  ratio_samples_learn  weight_mass_learn  eval_ranks  \\\n0          10                  0.1                0.9       False   \n1          10                  0.1                0.9       False   \n2          10                  0.1                0.9       False   \n3          10                  0.1                0.9       False   \n4          10                  0.1                0.9       False   \n..        ...                  ...                ...         ...   \n395        10                  0.1                0.9       False   \n396        10                  0.1                0.9       False   \n397        10                  0.1                0.9       False   \n398        10                  0.1                0.9       False   \n399        10                  0.1                0.9       False   \n\n     Function evaluations    run_time Problem            instance Solver  \n0                       1  189.665819    PFSP  pfsp/tai20_5_8.fsp    UMM  \n1                       2  189.665819    PFSP  pfsp/tai20_5_8.fsp    UMM  \n2                       3  189.665819    PFSP  pfsp/tai20_5_8.fsp    UMM  \n3                       4  189.665819    PFSP  pfsp/tai20_5_8.fsp    UMM  \n4                       5  189.665819    PFSP  pfsp/tai20_5_8.fsp    UMM  \n..                    ...         ...     ...                 ...    ...  \n395                   396  189.665819    PFSP  pfsp/tai20_5_8.fsp    UMM  \n396                   397  189.665819    PFSP  pfsp/tai20_5_8.fsp    UMM  \n397                   398  189.665819    PFSP  pfsp/tai20_5_8.fsp    UMM  \n398                   399  189.665819    PFSP  pfsp/tai20_5_8.fsp    UMM  \n399                   400  189.665819    PFSP  pfsp/tai20_5_8.fsp    UMM  \n\n[400 rows x 18 columns]",
            "text/html": "<div>\n<style scoped>\n    .dataframe tbody tr th:only-of-type {\n        vertical-align: middle;\n    }\n\n    .dataframe tbody tr th {\n        vertical-align: top;\n    }\n\n    .dataframe thead th {\n        text-align: right;\n    }\n</style>\n<table border=\"1\" class=\"dataframe\">\n  <thead>\n    <tr style=\"text-align: right;\">\n      <th></th>\n      <th>rho</th>\n      <th>phi_estim</th>\n      <th>phi_sample</th>\n      <th>Distance</th>\n      <th>Fitness</th>\n      <th>x</th>\n      <th>m_ini</th>\n      <th>seed</th>\n      <th>budget</th>\n      <th>budgetMM</th>\n      <th>ratio_samples_learn</th>\n      <th>weight_mass_learn</th>\n      <th>eval_ranks</th>\n      <th>Function evaluations</th>\n      <th>run_time</th>\n      <th>Problem</th>\n      <th>instance</th>\n      <th>Solver</th>\n    </tr>\n  </thead>\n  <tbody>\n    <tr>\n      <th>0</th>\n      <td>NaN</td>\n      <td>NaN</td>\n      <td>NaN</td>\n      <td>NaN</td>\n      <td>1766.0</td>\n      <td>[7, 11, 6, 15, 18, 4, 12, 2, 13, 1, 16, 0, 14,...</td>\n      <td>10</td>\n      <td>8</td>\n      <td>400</td>\n      <td>10</td>\n      <td>0.1</td>\n      <td>0.9</td>\n      <td>False</td>\n      <td>1</td>\n      <td>189.665819</td>\n      <td>PFSP</td>\n      <td>pfsp/tai20_5_8.fsp</td>\n      <td>UMM</td>\n    </tr>\n    <tr>\n      <th>1</th>\n      <td>NaN</td>\n      <td>NaN</td>\n      <td>NaN</td>\n      <td>NaN</td>\n      <td>1469.0</td>\n      <td>[8, 19, 0, 15, 11, 12, 1, 17, 2, 16, 10, 7, 13...</td>\n      <td>10</td>\n      <td>8</td>\n      <td>400</td>\n      <td>10</td>\n      <td>0.1</td>\n      <td>0.9</td>\n      <td>False</td>\n      <td>2</td>\n      <td>189.665819</td>\n      <td>PFSP</td>\n      <td>pfsp/tai20_5_8.fsp</td>\n      <td>UMM</td>\n    </tr>\n    <tr>\n      <th>2</th>\n      <td>NaN</td>\n      <td>NaN</td>\n      <td>NaN</td>\n      <td>NaN</td>\n      <td>1680.0</td>\n      <td>[5, 14, 12, 16, 19, 3, 9, 1, 17, 4, 18, 6, 2, ...</td>\n      <td>10</td>\n      <td>8</td>\n      <td>400</td>\n      <td>10</td>\n      <td>0.1</td>\n      <td>0.9</td>\n      <td>False</td>\n      <td>3</td>\n      <td>189.665819</td>\n      <td>PFSP</td>\n      <td>pfsp/tai20_5_8.fsp</td>\n      <td>UMM</td>\n    </tr>\n    <tr>\n      <th>3</th>\n      <td>NaN</td>\n      <td>NaN</td>\n      <td>NaN</td>\n      <td>NaN</td>\n      <td>1631.0</td>\n      <td>[5, 11, 4, 1, 17, 8, 3, 10, 15, 12, 13, 18, 2,...</td>\n      <td>10</td>\n      <td>8</td>\n      <td>400</td>\n      <td>10</td>\n      <td>0.1</td>\n      <td>0.9</td>\n      <td>False</td>\n      <td>4</td>\n      <td>189.665819</td>\n      <td>PFSP</td>\n      <td>pfsp/tai20_5_8.fsp</td>\n      <td>UMM</td>\n    </tr>\n    <tr>\n      <th>4</th>\n      <td>NaN</td>\n      <td>NaN</td>\n      <td>NaN</td>\n      <td>NaN</td>\n      <td>1481.0</td>\n      <td>[4, 19, 13, 0, 11, 18, 1, 7, 15, 10, 3, 16, 5,...</td>\n      <td>10</td>\n      <td>8</td>\n      <td>400</td>\n      <td>10</td>\n      <td>0.1</td>\n      <td>0.9</td>\n      <td>False</td>\n      <td>5</td>\n      <td>189.665819</td>\n      <td>PFSP</td>\n      <td>pfsp/tai20_5_8.fsp</td>\n      <td>UMM</td>\n    </tr>\n    <tr>\n      <th>...</th>\n      <td>...</td>\n      <td>...</td>\n      <td>...</td>\n      <td>...</td>\n      <td>...</td>\n      <td>...</td>\n      <td>...</td>\n      <td>...</td>\n      <td>...</td>\n      <td>...</td>\n      <td>...</td>\n      <td>...</td>\n      <td>...</td>\n      <td>...</td>\n      <td>...</td>\n      <td>...</td>\n      <td>...</td>\n      <td>...</td>\n    </tr>\n    <tr>\n      <th>395</th>\n      <td>7.275958e-12</td>\n      <td>0.444981</td>\n      <td>0.09375</td>\n      <td>NaN</td>\n      <td>1355.0</td>\n      <td>[2, 11, 8, 0, 18, 7, 3, 12, 15, 6, 10, 4, 17, ...</td>\n      <td>10</td>\n      <td>8</td>\n      <td>400</td>\n      <td>10</td>\n      <td>0.1</td>\n      <td>0.9</td>\n      <td>False</td>\n      <td>396</td>\n      <td>189.665819</td>\n      <td>PFSP</td>\n      <td>pfsp/tai20_5_8.fsp</td>\n      <td>UMM</td>\n    </tr>\n    <tr>\n      <th>396</th>\n      <td>6.366463e-12</td>\n      <td>0.444173</td>\n      <td>0.09375</td>\n      <td>NaN</td>\n      <td>1360.0</td>\n      <td>[1, 11, 7, 0, 16, 5, 3, 12, 19, 8, 10, 4, 18, ...</td>\n      <td>10</td>\n      <td>8</td>\n      <td>400</td>\n      <td>10</td>\n      <td>0.1</td>\n      <td>0.9</td>\n      <td>False</td>\n      <td>397</td>\n      <td>189.665819</td>\n      <td>PFSP</td>\n      <td>pfsp/tai20_5_8.fsp</td>\n      <td>UMM</td>\n    </tr>\n    <tr>\n      <th>397</th>\n      <td>5.456968e-12</td>\n      <td>0.443365</td>\n      <td>0.09375</td>\n      <td>NaN</td>\n      <td>1318.0</td>\n      <td>[1, 11, 7, 0, 18, 5, 3, 13, 17, 8, 10, 4, 14, ...</td>\n      <td>10</td>\n      <td>8</td>\n      <td>400</td>\n      <td>10</td>\n      <td>0.1</td>\n      <td>0.9</td>\n      <td>False</td>\n      <td>398</td>\n      <td>189.665819</td>\n      <td>PFSP</td>\n      <td>pfsp/tai20_5_8.fsp</td>\n      <td>UMM</td>\n    </tr>\n    <tr>\n      <th>398</th>\n      <td>5.002221e-12</td>\n      <td>0.438393</td>\n      <td>0.06250</td>\n      <td>NaN</td>\n      <td>1333.0</td>\n      <td>[1, 11, 8, 0, 18, 5, 2, 12, 17, 7, 9, 3, 16, 1...</td>\n      <td>10</td>\n      <td>8</td>\n      <td>400</td>\n      <td>10</td>\n      <td>0.1</td>\n      <td>0.9</td>\n      <td>False</td>\n      <td>399</td>\n      <td>189.665819</td>\n      <td>PFSP</td>\n      <td>pfsp/tai20_5_8.fsp</td>\n      <td>UMM</td>\n    </tr>\n    <tr>\n      <th>399</th>\n      <td>4.547474e-12</td>\n      <td>0.436306</td>\n      <td>0.06250</td>\n      <td>NaN</td>\n      <td>1336.0</td>\n      <td>[1, 9, 7, 0, 18, 6, 3, 11, 17, 8, 13, 4, 16, 1...</td>\n      <td>10</td>\n      <td>8</td>\n      <td>400</td>\n      <td>10</td>\n      <td>0.1</td>\n      <td>0.9</td>\n      <td>False</td>\n      <td>400</td>\n      <td>189.665819</td>\n      <td>PFSP</td>\n      <td>pfsp/tai20_5_8.fsp</td>\n      <td>UMM</td>\n    </tr>\n  </tbody>\n</table>\n<p>400 rows × 18 columns</p>\n</div>"
          },
          "metadata": {}
        }
      ],
      "execution_count": 10,
      "metadata": {
        "collapsed": true,
        "jupyter": {
          "source_hidden": false,
          "outputs_hidden": false
        },
        "nteract": {
          "transient": {
            "deleting": false
          }
        },
        "execution": {
          "iopub.status.busy": "2020-11-26T11:50:42.799Z",
          "iopub.execute_input": "2020-11-26T11:50:42.811Z",
          "iopub.status.idle": "2020-11-26T11:50:42.833Z",
          "shell.execute_reply": "2020-11-26T11:50:42.966Z"
        }
      }
    },
    {
      "cell_type": "code",
      "source": [
        "def synthetic_LOP(n, m, phi):\n",
        "    instanceID = np.zeros((n,n))\n",
        "    instanceRA = np.zeros((n,n))\n",
        "    # FIXME: It should already return an array.\n",
        "    s = np.asarray(mk.samplingMM(m, n, phi=phi, k=None))\n",
        "    \n",
        "    for i in range(n):\n",
        "        for j in range(i+1,n):\n",
        "            instanceID[i, j] = (s[:, i] < s[:, j]).sum() / m\n",
        "            instanceID[j, i] = 1 - instanceID[i, j]\n",
        "    central = np.random.permutation(n)\n",
        "    s = s[:, central] #compose\n",
        "    for i in range(n):\n",
        "        for j in range(i+1,n):\n",
        "            instanceRA[i, j] = (s[:, i] < s[:, j]).sum() / m\n",
        "            instanceRA[j, i] = 1 - instanceRA[i, j]\n",
        "    return instanceID, instanceRA, central\n",
        "  \n",
        "n=6\n",
        "m,phi = 200,.9\n",
        "import mallows_kendall as mk\n",
        "\n",
        "instanceID, instanceRA, best_sol = synthetic_LOP(n, m, phi)\n",
        "worst_sol = best_sol[::-1]\n",
        "instanceID, instanceRA\n",
        "ide = np.arange(n)\n",
        "inv = np.argsort(best_sol)\n",
        "s = 0\n",
        "for i in range(n):\n",
        "  for j in range(i):\n",
        "    s += instanceRA[best_sol[i],best_sol[j]] #LT\n",
        "s\n",
        "np.tril(instanceID[np.ix_(ide, ide)]).sum(), np.tril(instanceRA[np.ix_(inv, inv)]).sum(), np.tril(instanceRA[np.ix_(best_sol, best_sol)]).sum(),s"
      ],
      "outputs": [
        {
          "output_type": "execute_result",
          "execution_count": 89,
          "data": {
            "text/plain": "(7.05, 7.05, 7.31, 7.309999999999999)"
          },
          "metadata": {}
        }
      ],
      "execution_count": 89,
      "metadata": {
        "collapsed": true,
        "execution": {
          "iopub.execute_input": "2020-11-15T20:43:57.454Z",
          "iopub.status.busy": "2020-11-15T20:43:57.450Z",
          "iopub.status.idle": "2020-11-15T20:43:57.465Z",
          "shell.execute_reply": "2020-11-15T20:43:57.479Z"
        },
        "jupyter": {
          "outputs_hidden": false,
          "source_hidden": false
        },
        "nteract": {
          "transient": {
            "deleting": false
          }
        }
      }
    },
    {
      "cell_type": "code",
      "source": [
        "instanceID[np.ix_(best_sol, best_sol)] == instanceRA, instanceRA[np.ix_(inv, inv)] == instanceID"
      ],
      "outputs": [
        {
          "output_type": "execute_result",
          "execution_count": 96,
          "data": {
            "text/plain": "(array([[ True,  True,  True,  True,  True,  True],\n        [ True,  True,  True,  True,  True,  True],\n        [ True,  True,  True,  True,  True,  True],\n        [ True,  True,  True,  True,  True,  True],\n        [ True,  True,  True,  True,  True,  True],\n        [ True,  True,  True,  True,  True,  True]]),\n array([[ True,  True,  True,  True,  True,  True],\n        [ True,  True,  True,  True,  True,  True],\n        [ True,  True,  True,  True,  True,  True],\n        [ True,  True,  True,  True,  True,  True],\n        [ True,  True,  True,  True,  True,  True],\n        [ True,  True,  True,  True,  True,  True]]))"
          },
          "metadata": {}
        }
      ],
      "execution_count": 96,
      "metadata": {
        "collapsed": true,
        "execution": {
          "iopub.execute_input": "2020-11-15T20:54:09.798Z",
          "iopub.status.busy": "2020-11-15T20:54:09.793Z",
          "iopub.status.idle": "2020-11-15T20:54:09.809Z",
          "shell.execute_reply": "2020-11-15T20:54:09.825Z"
        },
        "jupyter": {
          "outputs_hidden": false,
          "source_hidden": false
        },
        "nteract": {
          "transient": {
            "deleting": false
          }
        }
      }
    },
    {
      "cell_type": "code",
      "source": [
        "import lop as lop\n",
        "reload(lop)\n",
        "import random\n",
        "from lop import LOP\n",
        "n,m,phi,seed = 8,200,0.9,random.randint(1,10)\n",
        "p= LOP.generate_synthetic(n,m,phi,seed)"
      ],
      "outputs": [
        {
          "output_type": "stream",
          "name": "stdout",
          "text": [
            "identity, reverse, best-known and worst-known fitnesses 14.42 13.580000000000002 12.379999999999999 14.600000000000001\n"
          ]
        }
      ],
      "execution_count": 96,
      "metadata": {
        "collapsed": true,
        "execution": {
          "iopub.execute_input": "2020-11-16T14:13:59.707Z",
          "iopub.status.busy": "2020-11-16T14:13:59.701Z",
          "iopub.status.idle": "2020-11-16T14:13:59.753Z",
          "shell.execute_reply": "2020-11-16T14:13:59.773Z"
        },
        "jupyter": {
          "outputs_hidden": false,
          "source_hidden": false
        },
        "nteract": {
          "transient": {
            "deleting": false
          }
        }
      }
    },
    {
      "cell_type": "code",
      "source": [
        "import lop as lop\n",
        "reload(lop)\n",
        "import random\n",
        "from lop import LOP\n",
        "n,m,phi,seed = 8,200,0.9,random.randint(1,10)\n",
        "p= LOP.generate_synthetic(n,m,phi,seed)\n",
        "p.instance, p.best_sol, p.fitness_nosave(p.best_sol)\n",
        "ide = np.arange(n)\n",
        "bes = p.best_sol\n",
        "inv = np.argsort(bes)\n",
        "wor = np.argsort(inv[::-1])\n",
        "s = 0\n",
        "for i in range(n):\n",
        "  for j in range(i):\n",
        "    s += p.instance[inv[i],inv[j]] #LT\n",
        "print(s, bes)\n",
        "# np.tril(instanceID[np.ix_(ide, ide)]).sum(), \n",
        "np.tril(p.instance[np.ix_(inv, inv)]).sum(), np.tril(p.instance[np.ix_(inv[::-1], inv[::-1])]).sum(), #esto es la identidad\n",
        "# np.tril(instanceRA[np.ix_(best_sol, best_sol)]).sum(),s\n",
        "p.fitness_nosave(bes), p.fitness_nosave(wor)"
      ],
      "outputs": [
        {
          "output_type": "stream",
          "name": "stdout",
          "text": [
            "identity, reverse, best-known and worst-known fitnesses 14.014999999999999 13.985 12.425 14.025\n",
            "12.425000000000002 [2 1 7 5 4 3 6 0]\n"
          ]
        },
        {
          "output_type": "execute_result",
          "execution_count": 92,
          "data": {
            "text/plain": "(12.425, 15.575000000000001)"
          },
          "metadata": {}
        }
      ],
      "execution_count": 92,
      "metadata": {
        "execution": {
          "iopub.execute_input": "2020-11-16T14:10:16.892Z",
          "iopub.status.busy": "2020-11-16T14:10:16.885Z",
          "iopub.status.idle": "2020-11-16T14:10:16.944Z",
          "shell.execute_reply": "2020-11-16T14:10:16.965Z"
        },
        "jupyter": {
          "outputs_hidden": false,
          "source_hidden": false
        },
        "nteract": {
          "transient": {
            "deleting": false
          }
        }
      }
    },
    {
      "cell_type": "code",
      "source": [
        "wor = np.argsort(inv[::-1])\n",
        "s = 0\n",
        "for i in range(n):\n",
        "  for j in range(i):\n",
        "    s += p.instance[wor[i],wor[j]] #LT\n",
        "print(s, bes)\n"
      ],
      "outputs": [
        {
          "output_type": "stream",
          "name": "stdout",
          "text": [
            "15.155 [4 0 2 7 5 6 1 3]\n"
          ]
        }
      ],
      "execution_count": 80,
      "metadata": {
        "collapsed": true,
        "execution": {
          "iopub.execute_input": "2020-11-16T13:47:34.543Z",
          "iopub.status.busy": "2020-11-16T13:47:34.538Z",
          "iopub.status.idle": "2020-11-16T13:47:34.556Z",
          "shell.execute_reply": "2020-11-16T13:47:34.561Z"
        },
        "jupyter": {
          "outputs_hidden": false,
          "source_hidden": false
        },
        "nteract": {
          "transient": {
            "deleting": false
          }
        }
      }
    },
    {
      "cell_type": "code",
      "source": [],
      "outputs": [],
      "execution_count": null,
      "metadata": {
        "collapsed": true,
        "jupyter": {
          "outputs_hidden": false,
          "source_hidden": false
        },
        "nteract": {
          "transient": {
            "deleting": false
          }
        }
      }
    },
    {
      "cell_type": "code",
      "source": [],
      "outputs": [],
      "execution_count": null,
      "metadata": {
        "collapsed": true,
        "jupyter": {
          "outputs_hidden": false,
          "source_hidden": false
        },
        "nteract": {
          "transient": {
            "deleting": false
          }
        }
      }
    },
    {
      "cell_type": "code",
      "source": [],
      "outputs": [],
      "execution_count": null,
      "metadata": {
        "collapsed": true,
        "jupyter": {
          "outputs_hidden": false,
          "source_hidden": false
        },
        "nteract": {
          "transient": {
            "deleting": false
          }
        }
      }
    },
    {
      "cell_type": "code",
      "source": [],
      "outputs": [],
      "execution_count": null,
      "metadata": {
        "collapsed": true,
        "jupyter": {
          "outputs_hidden": false,
          "source_hidden": false
        },
        "nteract": {
          "transient": {
            "deleting": false
          }
        }
      }
    },
    {
      "cell_type": "code",
      "source": [],
      "outputs": [],
      "execution_count": null,
      "metadata": {
        "collapsed": true,
        "jupyter": {
          "outputs_hidden": false,
          "source_hidden": false
        },
        "nteract": {
          "transient": {
            "deleting": false
          }
        }
      }
    }
  ],
  "metadata": {
    "kernel_info": {
      "name": "python3"
    },
    "kernelspec": {
      "display_name": "Python 3",
      "language": "python",
      "name": "python3"
    },
    "language_info": {
      "name": "python",
      "version": "3.9.0",
      "mimetype": "text/x-python",
      "codemirror_mode": {
        "name": "ipython",
        "version": 3
      },
      "pygments_lexer": "ipython3",
      "nbconvert_exporter": "python",
      "file_extension": ".py"
    },
    "nteract": {
      "version": "0.27.0"
    }
  },
  "nbformat": 4,
  "nbformat_minor": 1
}