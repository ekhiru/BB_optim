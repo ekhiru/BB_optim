{
  "cells": [
    {
      "cell_type": "code",
      "source": [
        "from imp import reload\n",
        "import sys\n",
        "print(sys.version)\n",
        "# import rpy2\n",
        "import os\n",
        "import numpy as np\n",
        "import pandas as pd\n",
        "from scipy import stats\n",
        "#import statsmodels.stats.api as sms\n",
        "import seaborn as sns\n",
        "import matplotlib.pyplot as plt\n",
        "import matplotlib\n",
        "# Use Type 1 fonts in plots.\n",
        "matplotlib.rcParams['ps.useafm'] = True\n",
        "matplotlib.rcParams['pdf.use14corefonts'] = True\n",
        "matplotlib.rcParams['text.usetex'] = False\n",
        "# Do not wrap long lines\n",
        "np.set_printoptions(linewidth=np.nan)\n",
        "sns.set_style(\"whitegrid\")\n",
        "import runner\n",
        "import umm"
      ],
      "outputs": [
        {
          "output_type": "stream",
          "name": "stdout",
          "text": [
            "3.9.0 (default, Nov 21 2020, 14:55:42) \n",
            "[Clang 12.0.0 (clang-1200.0.32.27)]\n"
          ]
        }
      ],
      "execution_count": 1,
      "metadata": {
        "execution": {
          "iopub.execute_input": "2020-11-26T11:07:37.707Z",
          "iopub.status.busy": "2020-11-26T11:07:37.700Z",
          "iopub.status.idle": "2020-11-26T11:07:38.872Z",
          "shell.execute_reply": "2020-11-26T11:07:38.903Z"
        },
        "jupyter": {
          "outputs_hidden": false,
          "source_hidden": false
        },
        "nteract": {
          "transient": {
            "deleting": false
          }
        }
      }
    },
    {
      "cell_type": "markdown",
      "source": [
        "## Running UMM and CEGO over one instance\n",
        "\n",
        "The next cell allows running CEGO and UMM over a chosen instance and with the selected parameters"
      ],
      "metadata": {}
    },
    {
      "cell_type": "code",
      "source": [
        "reload(runner)\n",
        "# instance_name=\"LOP-synthetic,seed=123456,n=20,m=200,phi=0.5\"\n",
        "instance_name = \"pfsp/tai20_5_8.fsp\"\n",
        "# instance_name=\"pfsp/rec19.txt\"\n",
        "# instance_name=\"lop/RandB/N-p50-01\"\n",
        "# instance_name=\"lop/Spec/N-pal13\"\n",
        "# instance_name=\"lop/xLOLIB/N-be75eec_150\"\n",
        "# instance_name=\"qap/nug12.dat\"\n",
        "budgetGA=10**3#\n",
        "seed=8\n",
        "budget=400#0\n",
        "m_ini=10\n",
        "budgetMM=10\n",
        "eval_ranks = False\n",
        "r_1 = [.1]\n",
        "r_2 = [.9]\n",
        "res = []\n",
        "for ratio_samples_learn in r_1:\n",
        "  for weight_mass_learn in r_2:\n",
        "    out_filename = \"pickles/\"+instance_name.replace(\"/\", \"__\").replace(\".txt\", \"\")\n",
        "    df = runner.run_once(\"UMM\", instance_name, seed,budget = budget, m_ini = m_ini, budgetMM = budgetMM, ratio_samples_learn = ratio_samples_learn, weight_mass_learn = weight_mass_learn, out_filename = out_filename, eval_ranks=eval_ranks)\n",
        "#     res.append([out_filename,ratio_samples_learn, weight_mass_learn,df.Fitness.min()])\n",
        "# runner.run_once(\"CEGO\", instance_name, seed,budget = budget, m_ini = m_ini, budgetGA = budgetGA, out_filename = out_filename)"
      ],
      "outputs": [
        {
          "output_type": "stream",
          "name": "stdout",
          "text": [
            "Reading instance from pfsp/tai20_5_8.fsp\n",
            "header: tai_20_a 20x5 type C instance\n",
            "\n",
            "[[37. 59. 65. 70. 94.]\n",
            " [36. 16. 94.  3. 98.]\n",
            " [ 1. 90. 96. 43. 63.]\n",
            " [ 4.  3. 47. 14. 83.]\n",
            " [64. 76. 35. 26. 19.]\n",
            " [74. 74. 34. 83. 79.]\n",
            " [32. 22. 84. 26. 54.]\n",
            " [67. 30.  3. 65. 78.]\n",
            " [73. 89. 60. 47. 29.]\n",
            " [ 7. 61. 34. 94.  8.]\n",
            " [78. 39. 70. 75. 38.]\n",
            " [64. 15. 57. 30. 97.]\n",
            " [98. 69.  8.  1. 61.]\n",
            " [60. 57. 74. 71. 10.]\n",
            " [89.  9. 13. 46. 37.]\n",
            " [49. 13. 37. 87. 16.]\n",
            " [ 2. 71. 87. 78. 78.]\n",
            " [79.  2. 71. 76. 96.]\n",
            " [79. 34. 89. 75.  9.]\n",
            " [53. 49. 57. 55. 91.]]\n",
            "UMM: eval=0\tF=1564.0\tbest_known=None\n",
            "UMM: eval=1\tF=1665.0\tbest_known=None\n",
            "UMM: eval=2\tF=1605.0\tbest_known=None\n",
            "UMM: eval=3\tF=1495.0\tbest_known=None\n",
            "UMM: eval=4\tF=1576.0\tbest_known=None\n",
            "UMM: eval=5\tF=1574.0\tbest_known=None\n",
            "UMM: eval=6\tF=1587.0\tbest_known=None\n",
            "UMM: eval=7\tF=1592.0\tbest_known=None\n",
            "UMM: eval=8\tF=1672.0\tbest_known=None\n",
            "UMM: eval=9\tF=1695.0\tbest_known=None\n",
            "UMM: eval=10\tF=1622.0\tbest_known=None\n",
            "UMM: eval=11\tF=1593.0\tbest_known=None\n",
            "UMM: eval=12\tF=1657.0\tbest_known=None\n",
            "UMM: eval=13\tF=1525.0\tbest_known=None\n",
            "UMM: eval=14\tF=1614.0\tbest_known=None\n",
            "UMM: eval=15\tF=1567.0\tbest_known=None\n",
            "UMM: eval=16\tF=1552.0\tbest_known=None\n",
            "UMM: eval=17\tF=1646.0\tbest_known=None\n",
            "UMM: eval=18\tF=1770.0\tbest_known=None\n",
            "UMM: eval=19\tF=1529.0\tbest_known=None\n",
            "UMM: eval=20\tF=1581.0\tbest_known=None\n",
            "UMM: eval=21\tF=1515.0\tbest_known=None\n",
            "UMM: eval=22\tF=1582.0\tbest_known=None\n",
            "UMM: eval=23\tF=1558.0\tbest_known=None\n",
            "UMM: eval=24\tF=1622.0\tbest_known=None\n",
            "UMM: eval=25\tF=1623.0\tbest_known=None\n",
            "UMM: eval=26\tF=1587.0\tbest_known=None\n",
            "UMM: eval=27\tF=1668.0\tbest_known=None\n",
            "UMM: eval=28\tF=1539.0\tbest_known=None\n",
            "UMM: eval=29\tF=1481.0\tbest_known=None\n",
            "UMM: eval=30\tF=1590.0\tbest_known=None\n",
            "UMM: eval=31\tF=1674.0\tbest_known=None\n",
            "UMM: eval=32\tF=1529.0\tbest_known=None\n",
            "UMM: eval=33\tF=1534.0\tbest_known=None\n",
            "UMM: eval=34\tF=1549.0\tbest_known=None\n",
            "UMM: eval=35\tF=1576.0\tbest_known=None\n",
            "UMM: eval=36\tF=1474.0\tbest_known=None\n",
            "UMM: eval=37\tF=1584.0\tbest_known=None\n",
            "UMM: eval=38\tF=1580.0\tbest_known=None\n",
            "UMM: eval=39\tF=1612.0\tbest_known=None\n",
            "UMM: eval=40\tF=1524.0\tbest_known=None\n",
            "UMM: eval=41\tF=1535.0\tbest_known=None\n",
            "UMM: eval=42\tF=1608.0\tbest_known=None\n",
            "UMM: eval=43\tF=1679.0\tbest_known=None\n",
            "UMM: eval=44\tF=1492.0\tbest_known=None\n",
            "UMM: eval=45\tF=1514.0\tbest_known=None\n",
            "UMM: eval=46\tF=1568.0\tbest_known=None\n",
            "UMM: eval=47\tF=1592.0\tbest_known=None\n",
            "UMM: eval=48\tF=1679.0\tbest_known=None\n",
            "UMM: eval=49\tF=1620.0\tbest_known=None\n",
            "UMM: eval=50\tF=1691.0\tbest_known=None\n",
            "UMM: eval=51\tF=1508.0\tbest_known=None\n",
            "UMM: eval=52\tF=1684.0\tbest_known=None\n",
            "UMM: eval=53\tF=1743.0\tbest_known=None\n",
            "UMM: eval=54\tF=1594.0\tbest_known=None\n",
            "UMM: eval=55\tF=1639.0\tbest_known=None\n",
            "UMM: eval=56\tF=1636.0\tbest_known=None\n",
            "UMM: eval=57\tF=1546.0\tbest_known=None\n",
            "UMM: eval=58\tF=1513.0\tbest_known=None\n",
            "UMM: eval=59\tF=1538.0\tbest_known=None\n",
            "UMM: eval=60\tF=1555.0\tbest_known=None\n",
            "UMM: eval=61\tF=1594.0\tbest_known=None\n",
            "UMM: eval=62\tF=1526.0\tbest_known=None\n",
            "UMM: eval=63\tF=1603.0\tbest_known=None\n",
            "UMM: eval=64\tF=1560.0\tbest_known=None\n",
            "UMM: eval=65\tF=1604.0\tbest_known=None\n",
            "UMM: eval=66\tF=1560.0\tbest_known=None\n",
            "UMM: eval=67\tF=1581.0\tbest_known=None\n",
            "UMM: eval=68\tF=1776.0\tbest_known=None\n",
            "UMM: eval=69\tF=1662.0\tbest_known=None\n",
            "UMM: eval=70\tF=1373.0\tbest_known=None\n",
            "UMM: eval=71\tF=1603.0\tbest_known=None\n",
            "UMM: eval=72\tF=1385.0\tbest_known=None\n",
            "UMM: eval=73\tF=1525.0\tbest_known=None\n",
            "UMM: eval=74\tF=1558.0\tbest_known=None\n",
            "UMM: eval=75\tF=1473.0\tbest_known=None\n",
            "UMM: eval=76\tF=1413.0\tbest_known=None\n",
            "UMM: eval=77\tF=1378.0\tbest_known=None\n",
            "UMM: eval=78\tF=1465.0\tbest_known=None\n",
            "UMM: eval=79\tF=1342.0\tbest_known=None\n",
            "UMM: eval=80\tF=1374.0\tbest_known=None\n",
            "UMM: eval=81\tF=1525.0\tbest_known=None\n",
            "UMM: eval=82\tF=1473.0\tbest_known=None\n",
            "UMM: eval=83\tF=1437.0\tbest_known=None\n",
            "UMM: eval=84\tF=1427.0\tbest_known=None\n",
            "UMM: eval=85\tF=1523.0\tbest_known=None\n",
            "UMM: eval=86\tF=1459.0\tbest_known=None\n",
            "UMM: eval=87\tF=1489.0\tbest_known=None\n",
            "UMM: eval=88\tF=1426.0\tbest_known=None\n",
            "UMM: eval=89\tF=1481.0\tbest_known=None\n",
            "UMM: eval=90\tF=1469.0\tbest_known=None\n",
            "UMM: eval=91\tF=1453.0\tbest_known=None\n",
            "UMM: eval=92\tF=1559.0\tbest_known=None\n",
            "UMM: eval=93\tF=1662.0\tbest_known=None\n",
            "UMM: eval=94\tF=1589.0\tbest_known=None\n",
            "UMM: eval=95\tF=1505.0\tbest_known=None\n",
            "UMM: eval=96\tF=1608.0\tbest_known=None\n",
            "UMM: eval=97\tF=1628.0\tbest_known=None\n",
            "UMM: eval=98\tF=1443.0\tbest_known=None\n",
            "UMM: eval=99\tF=1554.0\tbest_known=None\n",
            "UMM: eval=100\tF=1493.0\tbest_known=None\n",
            "UMM: eval=101\tF=1421.0\tbest_known=None\n",
            "UMM: eval=102\tF=1477.0\tbest_known=None\n",
            "UMM: eval=103\tF=1385.0\tbest_known=None\n",
            "UMM: eval=104\tF=1593.0\tbest_known=None\n",
            "UMM: eval=105\tF=1445.0\tbest_known=None\n",
            "UMM: eval=106\tF=1537.0\tbest_known=None\n",
            "UMM: eval=107\tF=1412.0\tbest_known=None\n",
            "UMM: eval=108\tF=1479.0\tbest_known=None\n",
            "UMM: eval=109\tF=1426.0\tbest_known=None\n",
            "UMM: eval=110\tF=1464.0\tbest_known=None\n",
            "UMM: eval=111\tF=1517.0\tbest_known=None\n",
            "UMM: eval=112\tF=1397.0\tbest_known=None\n",
            "UMM: eval=113\tF=1452.0\tbest_known=None\n",
            "UMM: eval=114\tF=1484.0\tbest_known=None\n",
            "UMM: eval=115\tF=1461.0\tbest_known=None\n",
            "UMM: eval=116\tF=1429.0\tbest_known=None\n",
            "UMM: eval=117\tF=1433.0\tbest_known=None\n",
            "UMM: eval=118\tF=1510.0\tbest_known=None\n",
            "UMM: eval=119\tF=1478.0\tbest_known=None\n",
            "UMM: eval=120\tF=1422.0\tbest_known=None\n",
            "UMM: eval=121\tF=1459.0\tbest_known=None\n",
            "UMM: eval=122\tF=1476.0\tbest_known=None\n",
            "UMM: eval=123\tF=1476.0\tbest_known=None\n",
            "UMM: eval=124\tF=1466.0\tbest_known=None\n",
            "UMM: eval=125\tF=1562.0\tbest_known=None\n",
            "UMM: eval=126\tF=1543.0\tbest_known=None\n",
            "UMM: eval=127\tF=1468.0\tbest_known=None\n",
            "UMM: eval=128\tF=1454.0\tbest_known=None\n",
            "UMM: eval=129\tF=1481.0\tbest_known=None\n",
            "UMM: eval=130\tF=1508.0\tbest_known=None\n",
            "UMM: eval=131\tF=1510.0\tbest_known=None\n",
            "UMM: eval=132\tF=1542.0\tbest_known=None\n",
            "UMM: eval=133\tF=1454.0\tbest_known=None\n",
            "UMM: eval=134\tF=1446.0\tbest_known=None\n",
            "UMM: eval=135\tF=1452.0\tbest_known=None\n",
            "UMM: eval=136\tF=1478.0\tbest_known=None\n",
            "UMM: eval=137\tF=1514.0\tbest_known=None\n",
            "UMM: eval=138\tF=1438.0\tbest_known=None\n",
            "UMM: eval=139\tF=1521.0\tbest_known=None\n",
            "UMM: eval=140\tF=1462.0\tbest_known=None\n",
            "UMM: eval=141\tF=1480.0\tbest_known=None\n",
            "UMM: eval=142\tF=1448.0\tbest_known=None\n",
            "UMM: eval=143\tF=1492.0\tbest_known=None\n",
            "UMM: eval=144\tF=1568.0\tbest_known=None\n",
            "UMM: eval=145\tF=1335.0\tbest_known=None\n",
            "UMM: eval=146\tF=1515.0\tbest_known=None\n",
            "UMM: eval=147\tF=1590.0\tbest_known=None\n",
            "UMM: eval=148\tF=1457.0\tbest_known=None\n",
            "UMM: eval=149\tF=1405.0\tbest_known=None\n",
            "UMM: eval=150\tF=1461.0\tbest_known=None\n",
            "UMM: eval=151\tF=1443.0\tbest_known=None\n",
            "UMM: eval=152\tF=1454.0\tbest_known=None\n",
            "UMM: eval=153\tF=1555.0\tbest_known=None\n",
            "UMM: eval=154\tF=1550.0\tbest_known=None\n",
            "UMM: eval=155\tF=1456.0\tbest_known=None\n",
            "UMM: eval=156\tF=1426.0\tbest_known=None\n",
            "UMM: eval=157\tF=1471.0\tbest_known=None\n",
            "UMM: eval=158\tF=1439.0\tbest_known=None\n",
            "UMM: eval=159\tF=1373.0\tbest_known=None\n",
            "UMM: eval=160\tF=1473.0\tbest_known=None\n",
            "UMM: eval=161\tF=1468.0\tbest_known=None\n",
            "UMM: eval=162\tF=1474.0\tbest_known=None\n",
            "UMM: eval=163\tF=1461.0\tbest_known=None\n",
            "UMM: eval=164\tF=1366.0\tbest_known=None\n",
            "UMM: eval=165\tF=1410.0\tbest_known=None\n",
            "UMM: eval=166\tF=1530.0\tbest_known=None\n",
            "UMM: eval=167\tF=1462.0\tbest_known=None\n",
            "UMM: eval=168\tF=1441.0\tbest_known=None\n",
            "UMM: eval=169\tF=1527.0\tbest_known=None\n",
            "UMM: eval=170\tF=1466.0\tbest_known=None\n",
            "UMM: eval=171\tF=1450.0\tbest_known=None\n",
            "UMM: eval=172\tF=1426.0\tbest_known=None\n",
            "UMM: eval=173\tF=1411.0\tbest_known=None\n",
            "UMM: eval=174\tF=1398.0\tbest_known=None\n",
            "UMM: eval=175\tF=1470.0\tbest_known=None\n",
            "UMM: eval=176\tF=1435.0\tbest_known=None\n",
            "UMM: eval=177\tF=1407.0\tbest_known=None\n",
            "UMM: eval=178\tF=1442.0\tbest_known=None\n",
            "UMM: eval=179\tF=1415.0\tbest_known=None\n",
            "UMM: eval=180\tF=1408.0\tbest_known=None\n",
            "UMM: eval=181\tF=1545.0\tbest_known=None\n",
            "UMM: eval=182\tF=1477.0\tbest_known=None\n",
            "UMM: eval=183\tF=1508.0\tbest_known=None\n",
            "UMM: eval=184\tF=1599.0\tbest_known=None\n",
            "UMM: eval=185\tF=1412.0\tbest_known=None\n",
            "UMM: eval=186\tF=1365.0\tbest_known=None\n",
            "UMM: eval=187\tF=1498.0\tbest_known=None\n",
            "UMM: eval=188\tF=1420.0\tbest_known=None\n",
            "UMM: eval=189\tF=1392.0\tbest_known=None\n",
            "UMM: eval=190\tF=1448.0\tbest_known=None\n",
            "UMM: eval=191\tF=1401.0\tbest_known=None\n",
            "UMM: eval=192\tF=1452.0\tbest_known=None\n",
            "UMM: eval=193\tF=1462.0\tbest_known=None\n",
            "UMM: eval=194\tF=1469.0\tbest_known=None\n",
            "UMM: eval=195\tF=1488.0\tbest_known=None\n",
            "UMM: eval=196\tF=1409.0\tbest_known=None\n",
            "UMM: eval=197\tF=1437.0\tbest_known=None\n",
            "UMM: eval=198\tF=1497.0\tbest_known=None\n",
            "UMM: eval=199\tF=1424.0\tbest_known=None\n",
            "UMM: eval=200\tF=1401.0\tbest_known=None\n",
            "UMM: eval=201\tF=1571.0\tbest_known=None\n",
            "UMM: eval=202\tF=1515.0\tbest_known=None\n",
            "UMM: eval=203\tF=1427.0\tbest_known=None\n",
            "UMM: eval=204\tF=1424.0\tbest_known=None\n",
            "UMM: eval=205\tF=1465.0\tbest_known=None\n",
            "UMM: eval=206\tF=1505.0\tbest_known=None\n",
            "UMM: eval=207\tF=1560.0\tbest_known=None\n",
            "UMM: eval=208\tF=1481.0\tbest_known=None\n",
            "UMM: eval=209\tF=1380.0\tbest_known=None\n",
            "UMM: eval=210\tF=1421.0\tbest_known=None\n",
            "UMM: eval=211\tF=1433.0\tbest_known=None\n",
            "UMM: eval=212\tF=1434.0\tbest_known=None\n",
            "UMM: eval=213\tF=1483.0\tbest_known=None\n",
            "UMM: eval=214\tF=1564.0\tbest_known=None\n",
            "UMM: eval=215\tF=1403.0\tbest_known=None\n",
            "UMM: eval=216\tF=1497.0\tbest_known=None\n",
            "UMM: eval=217\tF=1504.0\tbest_known=None\n",
            "UMM: eval=218\tF=1368.0\tbest_known=None\n",
            "UMM: eval=219\tF=1464.0\tbest_known=None\n",
            "UMM: eval=220\tF=1385.0\tbest_known=None\n",
            "UMM: eval=221\tF=1468.0\tbest_known=None\n",
            "UMM: eval=222\tF=1419.0\tbest_known=None\n",
            "UMM: eval=223\tF=1447.0\tbest_known=None\n",
            "UMM: eval=224\tF=1495.0\tbest_known=None\n",
            "UMM: eval=225\tF=1292.0\tbest_known=None\n",
            "UMM: eval=226\tF=1387.0\tbest_known=None\n",
            "UMM: eval=227\tF=1476.0\tbest_known=None\n",
            "UMM: eval=228\tF=1382.0\tbest_known=None\n",
            "UMM: eval=229\tF=1453.0\tbest_known=None\n",
            "UMM: eval=230\tF=1439.0\tbest_known=None\n",
            "UMM: eval=231\tF=1446.0\tbest_known=None\n",
            "UMM: eval=232\tF=1412.0\tbest_known=None\n",
            "UMM: eval=233\tF=1402.0\tbest_known=None\n",
            "UMM: eval=234\tF=1393.0\tbest_known=None\n",
            "UMM: eval=235\tF=1372.0\tbest_known=None\n",
            "UMM: eval=236\tF=1391.0\tbest_known=None\n",
            "UMM: eval=237\tF=1366.0\tbest_known=None\n",
            "UMM: eval=238\tF=1370.0\tbest_known=None\n",
            "UMM: eval=239\tF=1409.0\tbest_known=None\n",
            "UMM: eval=240\tF=1487.0\tbest_known=None\n",
            "UMM: eval=241\tF=1332.0\tbest_known=None\n",
            "UMM: eval=242\tF=1410.0\tbest_known=None\n",
            "UMM: eval=243\tF=1406.0\tbest_known=None\n",
            "UMM: eval=244\tF=1426.0\tbest_known=None\n",
            "UMM: eval=245\tF=1434.0\tbest_known=None\n",
            "UMM: eval=246\tF=1483.0\tbest_known=None\n",
            "UMM: eval=247\tF=1425.0\tbest_known=None\n",
            "UMM: eval=248\tF=1385.0\tbest_known=None\n",
            "UMM: eval=249\tF=1372.0\tbest_known=None\n",
            "UMM: eval=250\tF=1375.0\tbest_known=None\n",
            "UMM: eval=251\tF=1480.0\tbest_known=None\n",
            "UMM: eval=252\tF=1433.0\tbest_known=None\n",
            "UMM: eval=253\tF=1290.0\tbest_known=None\n",
            "UMM: eval=254\tF=1361.0\tbest_known=None\n",
            "UMM: eval=255\tF=1467.0\tbest_known=None\n",
            "UMM: eval=256\tF=1369.0\tbest_known=None\n",
            "UMM: eval=257\tF=1375.0\tbest_known=None\n",
            "UMM: eval=258\tF=1414.0\tbest_known=None\n",
            "UMM: eval=259\tF=1366.0\tbest_known=None\n",
            "UMM: eval=260\tF=1422.0\tbest_known=None\n",
            "UMM: eval=261\tF=1472.0\tbest_known=None\n",
            "UMM: eval=262\tF=1377.0\tbest_known=None\n",
            "UMM: eval=263\tF=1369.0\tbest_known=None\n",
            "UMM: eval=264\tF=1402.0\tbest_known=None\n",
            "UMM: eval=265\tF=1445.0\tbest_known=None\n",
            "UMM: eval=266\tF=1449.0\tbest_known=None\n",
            "UMM: eval=267\tF=1420.0\tbest_known=None\n",
            "UMM: eval=268\tF=1356.0\tbest_known=None\n",
            "UMM: eval=269\tF=1382.0\tbest_known=None\n",
            "UMM: eval=270\tF=1372.0\tbest_known=None\n",
            "UMM: eval=271\tF=1366.0\tbest_known=None\n",
            "UMM: eval=272\tF=1382.0\tbest_known=None\n",
            "UMM: eval=273\tF=1384.0\tbest_known=None\n",
            "UMM: eval=274\tF=1369.0\tbest_known=None\n",
            "UMM: eval=275\tF=1385.0\tbest_known=None\n",
            "UMM: eval=276\tF=1465.0\tbest_known=None\n",
            "UMM: eval=277\tF=1424.0\tbest_known=None\n",
            "UMM: eval=278\tF=1377.0\tbest_known=None\n",
            "UMM: eval=279\tF=1365.0\tbest_known=None\n",
            "UMM: eval=280\tF=1324.0\tbest_known=None\n",
            "UMM: eval=281\tF=1298.0\tbest_known=None\n",
            "UMM: eval=282\tF=1419.0\tbest_known=None\n",
            "UMM: eval=283\tF=1360.0\tbest_known=None\n",
            "UMM: eval=284\tF=1454.0\tbest_known=None\n",
            "UMM: eval=285\tF=1383.0\tbest_known=None\n",
            "UMM: eval=286\tF=1476.0\tbest_known=None\n",
            "UMM: eval=287\tF=1405.0\tbest_known=None\n",
            "UMM: eval=288\tF=1432.0\tbest_known=None\n",
            "UMM: eval=289\tF=1365.0\tbest_known=None\n",
            "UMM: eval=290\tF=1458.0\tbest_known=None\n",
            "UMM: eval=291\tF=1392.0\tbest_known=None\n",
            "UMM: eval=292\tF=1457.0\tbest_known=None\n",
            "UMM: eval=293\tF=1377.0\tbest_known=None\n",
            "UMM: eval=294\tF=1342.0\tbest_known=None\n",
            "UMM: eval=295\tF=1390.0\tbest_known=None\n",
            "UMM: eval=296\tF=1369.0\tbest_known=None\n",
            "UMM: eval=297\tF=1366.0\tbest_known=None\n",
            "UMM: eval=298\tF=1388.0\tbest_known=None\n",
            "UMM: eval=299\tF=1389.0\tbest_known=None\n",
            "UMM: eval=300\tF=1389.0\tbest_known=None\n",
            "UMM: eval=301\tF=1452.0\tbest_known=None\n",
            "UMM: eval=302\tF=1412.0\tbest_known=None\n",
            "UMM: eval=303\tF=1355.0\tbest_known=None\n",
            "UMM: eval=304\tF=1452.0\tbest_known=None\n",
            "UMM: eval=305\tF=1386.0\tbest_known=None\n",
            "UMM: eval=306\tF=1438.0\tbest_known=None\n",
            "UMM: eval=307\tF=1375.0\tbest_known=None\n",
            "UMM: eval=308\tF=1385.0\tbest_known=None\n",
            "UMM: eval=309\tF=1383.0\tbest_known=None\n",
            "UMM: eval=310\tF=1443.0\tbest_known=None\n",
            "UMM: eval=311\tF=1435.0\tbest_known=None\n",
            "UMM: eval=312\tF=1469.0\tbest_known=None\n",
            "UMM: eval=313\tF=1403.0\tbest_known=None\n",
            "UMM: eval=314\tF=1376.0\tbest_known=None\n",
            "UMM: eval=315\tF=1497.0\tbest_known=None\n",
            "UMM: eval=316\tF=1372.0\tbest_known=None\n",
            "UMM: eval=317\tF=1462.0\tbest_known=None\n",
            "UMM: eval=318\tF=1416.0\tbest_known=None\n",
            "UMM: eval=319\tF=1407.0\tbest_known=None\n",
            "UMM: eval=320\tF=1509.0\tbest_known=None\n",
            "UMM: eval=321\tF=1381.0\tbest_known=None\n",
            "UMM: eval=322\tF=1465.0\tbest_known=None\n",
            "UMM: eval=323\tF=1415.0\tbest_known=None\n",
            "UMM: eval=324\tF=1308.0\tbest_known=None\n",
            "UMM: eval=325\tF=1301.0\tbest_known=None\n",
            "UMM: eval=326\tF=1294.0\tbest_known=None\n",
            "UMM: eval=327\tF=1370.0\tbest_known=None\n",
            "UMM: eval=328\tF=1369.0\tbest_known=None\n",
            "UMM: eval=329\tF=1339.0\tbest_known=None\n",
            "UMM: eval=330\tF=1388.0\tbest_known=None\n",
            "UMM: eval=331\tF=1310.0\tbest_known=None\n",
            "UMM: eval=332\tF=1344.0\tbest_known=None\n",
            "UMM: eval=333\tF=1317.0\tbest_known=None\n",
            "UMM: eval=334\tF=1408.0\tbest_known=None\n",
            "UMM: eval=335\tF=1436.0\tbest_known=None\n",
            "UMM: eval=336\tF=1358.0\tbest_known=None\n",
            "UMM: eval=337\tF=1403.0\tbest_known=None\n",
            "UMM: eval=338\tF=1378.0\tbest_known=None\n",
            "UMM: eval=339\tF=1418.0\tbest_known=None\n",
            "UMM: eval=340\tF=1396.0\tbest_known=None\n",
            "UMM: eval=341\tF=1333.0\tbest_known=None\n",
            "UMM: eval=342\tF=1398.0\tbest_known=None\n",
            "UMM: eval=343\tF=1434.0\tbest_known=None\n",
            "UMM: eval=344\tF=1376.0\tbest_known=None\n",
            "UMM: eval=345\tF=1357.0\tbest_known=None\n",
            "UMM: eval=346\tF=1318.0\tbest_known=None\n",
            "UMM: eval=347\tF=1336.0\tbest_known=None\n",
            "UMM: eval=348\tF=1369.0\tbest_known=None\n",
            "UMM: eval=349\tF=1415.0\tbest_known=None\n",
            "UMM: eval=350\tF=1402.0\tbest_known=None\n",
            "UMM: eval=351\tF=1358.0\tbest_known=None\n",
            "UMM: eval=352\tF=1330.0\tbest_known=None\n",
            "UMM: eval=353\tF=1354.0\tbest_known=None\n",
            "UMM: eval=354\tF=1327.0\tbest_known=None\n",
            "UMM: eval=355\tF=1397.0\tbest_known=None\n",
            "UMM: eval=356\tF=1347.0\tbest_known=None\n",
            "UMM: eval=357\tF=1393.0\tbest_known=None\n",
            "UMM: eval=358\tF=1334.0\tbest_known=None\n",
            "UMM: eval=359\tF=1403.0\tbest_known=None\n",
            "UMM: eval=360\tF=1363.0\tbest_known=None\n",
            "UMM: eval=361\tF=1344.0\tbest_known=None\n",
            "UMM: eval=362\tF=1380.0\tbest_known=None\n",
            "UMM: eval=363\tF=1397.0\tbest_known=None\n",
            "UMM: eval=364\tF=1306.0\tbest_known=None\n",
            "UMM: eval=365\tF=1358.0\tbest_known=None\n",
            "UMM: eval=366\tF=1384.0\tbest_known=None\n",
            "UMM: eval=367\tF=1320.0\tbest_known=None\n",
            "UMM: eval=368\tF=1379.0\tbest_known=None\n",
            "UMM: eval=369\tF=1320.0\tbest_known=None\n",
            "UMM: eval=370\tF=1312.0\tbest_known=None\n",
            "UMM: eval=371\tF=1331.0\tbest_known=None\n",
            "UMM: eval=372\tF=1325.0\tbest_known=None\n",
            "UMM: eval=373\tF=1405.0\tbest_known=None\n",
            "UMM: eval=374\tF=1334.0\tbest_known=None\n",
            "UMM: eval=375\tF=1318.0\tbest_known=None\n",
            "UMM: eval=376\tF=1335.0\tbest_known=None\n",
            "UMM: eval=377\tF=1332.0\tbest_known=None\n",
            "UMM: eval=378\tF=1324.0\tbest_known=None\n",
            "UMM: eval=379\tF=1401.0\tbest_known=None\n",
            "UMM: eval=380\tF=1376.0\tbest_known=None\n",
            "UMM: eval=381\tF=1390.0\tbest_known=None\n",
            "UMM: eval=382\tF=1368.0\tbest_known=None\n",
            "UMM: eval=383\tF=1366.0\tbest_known=None\n",
            "UMM: eval=384\tF=1332.0\tbest_known=None\n",
            "UMM: eval=385\tF=1355.0\tbest_known=None\n",
            "UMM: eval=386\tF=1360.0\tbest_known=None\n",
            "UMM: eval=387\tF=1318.0\tbest_known=None\n",
            "UMM: eval=388\tF=1333.0\tbest_known=None\n",
            "UMM: eval=389\tF=1336.0\tbest_known=None\n"
          ]
        }
      ],
      "execution_count": 17,
      "metadata": {
        "execution": {
          "iopub.execute_input": "2020-11-26T12:45:51.869Z",
          "iopub.status.busy": "2020-11-26T12:45:51.862Z",
          "iopub.status.idle": "2020-11-26T12:49:13.887Z",
          "shell.execute_reply": "2020-11-26T12:49:14.000Z"
        },
        "jupyter": {
          "outputs_hidden": false,
          "source_hidden": false
        },
        "nteract": {
          "transient": {
            "deleting": false
          }
        }
      }
    },
    {
      "cell_type": "markdown",
      "source": [
        "The following piece of code plots the results of the previous experiment"
      ],
      "metadata": {}
    },
    {
      "cell_type": "code",
      "source": [
        "out_file = \"pickles/\"+instance_name.replace(\"/\", \"__\").replace(\".txt\", \"\")\n",
        "df = pd.read_pickle(out_filename+'.pkl.gz')\n",
        "\n",
        "print(\"instance name\", df.instance.iloc[0], \"- time\", round(df.run_time.iloc[0], 2))\n",
        "print(df.Fitness.min())\n",
        "\n",
        "color_variable = 'Solver'\n",
        "y_variables = ['Fitness']#,'Distance','phi_sample'\n",
        "palette = sns.color_palette(\"husl\", len(df[color_variable].drop_duplicates()))\n",
        "for y_variable in y_variables:\n",
        "    plt.figure(figsize=(15,5))\n",
        "    sns.lineplot(x='Function evaluations',y=y_variable,hue='Solver',data=df, palette=palette)\n",
        "#     plt.savefig('img/'+instance_name.replace(\"/\", \"__\").replace(\".txt\", \"\")+'order.eps')\n",
        "    plt.show()"
      ],
      "outputs": [
        {
          "output_type": "stream",
          "name": "stdout",
          "text": [
            "instance name pfsp/tai20_5_8.fsp - time 201.94\n",
            "1290.0\n"
          ]
        },
        {
          "output_type": "stream",
          "name": "stderr",
          "text": [
            "The PostScript backend does not support transparency; partially transparent artists will be rendered opaque.\n",
            "The PostScript backend does not support transparency; partially transparent artists will be rendered opaque.\n"
          ]
        },
        {
          "output_type": "display_data",
          "data": {
            "text/plain": "<Figure size 1080x360 with 1 Axes>",
            "image/png": "[encoded data removed]"
          },
          "metadata": {}
        }
      ],
      "execution_count": 18,
      "metadata": {
        "execution": {
          "iopub.execute_input": "2020-11-26T12:49:13.903Z",
          "iopub.status.busy": "2020-11-26T12:49:13.897Z",
          "iopub.status.idle": "2020-11-26T12:49:14.232Z",
          "shell.execute_reply": "2020-11-26T12:49:14.249Z"
        },
        "jupyter": {
          "outputs_hidden": false,
          "source_hidden": false
        },
        "nteract": {
          "transient": {
            "deleting": false
          }
        }
      }
    },
    {
      "cell_type": "code",
      "source": [
        "df"
      ],
      "outputs": [
        {
          "output_type": "execute_result",
          "execution_count": 10,
          "data": {
            "text/plain": "              rho  phi_estim  phi_sample  Distance  Fitness  \\\n0             NaN        NaN         NaN       NaN   1766.0   \n1             NaN        NaN         NaN       NaN   1469.0   \n2             NaN        NaN         NaN       NaN   1680.0   \n3             NaN        NaN         NaN       NaN   1631.0   \n4             NaN        NaN         NaN       NaN   1481.0   \n..            ...        ...         ...       ...      ...   \n395  7.275958e-12   0.444981     0.09375       NaN   1355.0   \n396  6.366463e-12   0.444173     0.09375       NaN   1360.0   \n397  5.456968e-12   0.443365     0.09375       NaN   1318.0   \n398  5.002221e-12   0.438393     0.06250       NaN   1333.0   \n399  4.547474e-12   0.436306     0.06250       NaN   1336.0   \n\n                                                     x  m_ini  seed  budget  \\\n0    [7, 11, 6, 15, 18, 4, 12, 2, 13, 1, 16, 0, 14,...     10     8     400   \n1    [8, 19, 0, 15, 11, 12, 1, 17, 2, 16, 10, 7, 13...     10     8     400   \n2    [5, 14, 12, 16, 19, 3, 9, 1, 17, 4, 18, 6, 2, ...     10     8     400   \n3    [5, 11, 4, 1, 17, 8, 3, 10, 15, 12, 13, 18, 2,...     10     8     400   \n4    [4, 19, 13, 0, 11, 18, 1, 7, 15, 10, 3, 16, 5,...     10     8     400   \n..                                                 ...    ...   ...     ...   \n395  [2, 11, 8, 0, 18, 7, 3, 12, 15, 6, 10, 4, 17, ...     10     8     400   \n396  [1, 11, 7, 0, 16, 5, 3, 12, 19, 8, 10, 4, 18, ...     10     8     400   \n397  [1, 11, 7, 0, 18, 5, 3, 13, 17, 8, 10, 4, 14, ...     10     8     400   \n398  [1, 11, 8, 0, 18, 5, 2, 12, 17, 7, 9, 3, 16, 1...     10     8     400   \n399  [1, 9, 7, 0, 18, 6, 3, 11, 17, 8, 13, 4, 16, 1...     10     8     400   \n\n     budgetMM  ratio_samples_learn  weight_mass_learn  eval_ranks  \\\n0          10                  0.1                0.9       False   \n1          10                  0.1                0.9       False   \n2          10                  0.1                0.9       False   \n3          10                  0.1                0.9       False   \n4          10                  0.1                0.9       False   \n..        ...                  ...                ...         ...   \n395        10                  0.1                0.9       False   \n396        10                  0.1                0.9       False   \n397        10                  0.1                0.9       False   \n398        10                  0.1                0.9       False   \n399        10                  0.1                0.9       False   \n\n     Function evaluations    run_time Problem            instance Solver  \n0                       1  189.665819    PFSP  pfsp/tai20_5_8.fsp    UMM  \n1                       2  189.665819    PFSP  pfsp/tai20_5_8.fsp    UMM  \n2                       3  189.665819    PFSP  pfsp/tai20_5_8.fsp    UMM  \n3                       4  189.665819    PFSP  pfsp/tai20_5_8.fsp    UMM  \n4                       5  189.665819    PFSP  pfsp/tai20_5_8.fsp    UMM  \n..                    ...         ...     ...                 ...    ...  \n395                   396  189.665819    PFSP  pfsp/tai20_5_8.fsp    UMM  \n396                   397  189.665819    PFSP  pfsp/tai20_5_8.fsp    UMM  \n397                   398  189.665819    PFSP  pfsp/tai20_5_8.fsp    UMM  \n398                   399  189.665819    PFSP  pfsp/tai20_5_8.fsp    UMM  \n399                   400  189.665819    PFSP  pfsp/tai20_5_8.fsp    UMM  \n\n[400 rows x 18 columns]",
            "text/html": "<div>\n<style scoped>\n    .dataframe tbody tr th:only-of-type {\n        vertical-align: middle;\n    }\n\n    .dataframe tbody tr th {\n        vertical-align: top;\n    }\n\n    .dataframe thead th {\n        text-align: right;\n    }\n</style>\n<table border=\"1\" class=\"dataframe\">\n  <thead>\n    <tr style=\"text-align: right;\">\n      <th></th>\n      <th>rho</th>\n      <th>phi_estim</th>\n      <th>phi_sample</th>\n      <th>Distance</th>\n      <th>Fitness</th>\n      <th>x</th>\n      <th>m_ini</th>\n      <th>seed</th>\n      <th>budget</th>\n      <th>budgetMM</th>\n      <th>ratio_samples_learn</th>\n      <th>weight_mass_learn</th>\n      <th>eval_ranks</th>\n      <th>Function evaluations</th>\n      <th>run_time</th>\n      <th>Problem</th>\n      <th>instance</th>\n      <th>Solver</th>\n    </tr>\n  </thead>\n  <tbody>\n    <tr>\n      <th>0</th>\n      <td>NaN</td>\n      <td>NaN</td>\n      <td>NaN</td>\n      <td>NaN</td>\n      <td>1766.0</td>\n      <td>[7, 11, 6, 15, 18, 4, 12, 2, 13, 1, 16, 0, 14,...</td>\n      <td>10</td>\n      <td>8</td>\n      <td>400</td>\n      <td>10</td>\n      <td>0.1</td>\n      <td>0.9</td>\n      <td>False</td>\n      <td>1</td>\n      <td>189.665819</td>\n      <td>PFSP</td>\n      <td>pfsp/tai20_5_8.fsp</td>\n      <td>UMM</td>\n    </tr>\n    <tr>\n      <th>1</th>\n      <td>NaN</td>\n      <td>NaN</td>\n      <td>NaN</td>\n      <td>NaN</td>\n      <td>1469.0</td>\n      <td>[8, 19, 0, 15, 11, 12, 1, 17, 2, 16, 10, 7, 13...</td>\n      <td>10</td>\n      <td>8</td>\n      <td>400</td>\n      <td>10</td>\n      <td>0.1</td>\n      <td>0.9</td>\n      <td>False</td>\n      <td>2</td>\n      <td>189.665819</td>\n      <td>PFSP</td>\n      <td>pfsp/tai20_5_8.fsp</td>\n      <td>UMM</td>\n    </tr>\n    <tr>\n      <th>2</th>\n      <td>NaN</td>\n      <td>NaN</td>\n      <td>NaN</td>\n      <td>NaN</td>\n      <td>1680.0</td>\n      <td>[5, 14, 12, 16, 19, 3, 9, 1, 17, 4, 18, 6, 2, ...</td>\n      <td>10</td>\n      <td>8</td>\n      <td>400</td>\n      <td>10</td>\n      <td>0.1</td>\n      <td>0.9</td>\n      <td>False</td>\n      <td>3</td>\n      <td>189.665819</td>\n      <td>PFSP</td>\n      <td>pfsp/tai20_5_8.fsp</td>\n      <td>UMM</td>\n    </tr>\n    <tr>\n      <th>3</th>\n      <td>NaN</td>\n      <td>NaN</td>\n      <td>NaN</td>\n      <td>NaN</td>\n      <td>1631.0</td>\n      <td>[5, 11, 4, 1, 17, 8, 3, 10, 15, 12, 13, 18, 2,...</td>\n      <td>10</td>\n      <td>8</td>\n      <td>400</td>\n      <td>10</td>\n      <td>0.1</td>\n      <td>0.9</td>\n      <td>False</td>\n      <td>4</td>\n      <td>189.665819</td>\n      <td>PFSP</td>\n      <td>pfsp/tai20_5_8.fsp</td>\n      <td>UMM</td>\n    </tr>\n    <tr>\n      <th>4</th>\n      <td>NaN</td>\n      <td>NaN</td>\n      <td>NaN</td>\n      <td>NaN</td>\n      <td>1481.0</td>\n      <td>[4, 19, 13, 0, 11, 18, 1, 7, 15, 10, 3, 16, 5,...</td>\n      <td>10</td>\n      <td>8</td>\n      <td>400</td>\n      <td>10</td>\n      <td>0.1</td>\n      <td>0.9</td>\n      <td>False</td>\n      <td>5</td>\n      <td>189.665819</td>\n      <td>PFSP</td>\n      <td>pfsp/tai20_5_8.fsp</td>\n      <td>UMM</td>\n    </tr>\n    <tr>\n      <th>...</th>\n      <td>...</td>\n      <td>...</td>\n      <td>...</td>\n      <td>...</td>\n      <td>...</td>\n      <td>...</td>\n      <td>...</td>\n      <td>...</td>\n      <td>...</td>\n      <td>...</td>\n      <td>...</td>\n      <td>...</td>\n      <td>...</td>\n      <td>...</td>\n      <td>...</td>\n      <td>...</td>\n      <td>...</td>\n      <td>...</td>\n    </tr>\n    <tr>\n      <th>395</th>\n      <td>7.275958e-12</td>\n      <td>0.444981</td>\n      <td>0.09375</td>\n      <td>NaN</td>\n      <td>1355.0</td>\n      <td>[2, 11, 8, 0, 18, 7, 3, 12, 15, 6, 10, 4, 17, ...</td>\n      <td>10</td>\n      <td>8</td>\n      <td>400</td>\n      <td>10</td>\n      <td>0.1</td>\n      <td>0.9</td>\n      <td>False</td>\n      <td>396</td>\n      <td>189.665819</td>\n      <td>PFSP</td>\n      <td>pfsp/tai20_5_8.fsp</td>\n      <td>UMM</td>\n    </tr>\n    <tr>\n      <th>396</th>\n      <td>6.366463e-12</td>\n      <td>0.444173</td>\n      <td>0.09375</td>\n      <td>NaN</td>\n      <td>1360.0</td>\n      <td>[1, 11, 7, 0, 16, 5, 3, 12, 19, 8, 10, 4, 18, ...</td>\n      <td>10</td>\n      <td>8</td>\n      <td>400</td>\n      <td>10</td>\n      <td>0.1</td>\n      <td>0.9</td>\n      <td>False</td>\n      <td>397</td>\n      <td>189.665819</td>\n      <td>PFSP</td>\n      <td>pfsp/tai20_5_8.fsp</td>\n      <td>UMM</td>\n    </tr>\n    <tr>\n      <th>397</th>\n      <td>5.456968e-12</td>\n      <td>0.443365</td>\n      <td>0.09375</td>\n      <td>NaN</td>\n      <td>1318.0</td>\n      <td>[1, 11, 7, 0, 18, 5, 3, 13, 17, 8, 10, 4, 14, ...</td>\n      <td>10</td>\n      <td>8</td>\n      <td>400</td>\n      <td>10</td>\n      <td>0.1</td>\n      <td>0.9</td>\n      <td>False</td>\n      <td>398</td>\n      <td>189.665819</td>\n      <td>PFSP</td>\n      <td>pfsp/tai20_5_8.fsp</td>\n      <td>UMM</td>\n    </tr>\n    <tr>\n      <th>398</th>\n      <td>5.002221e-12</td>\n      <td>0.438393</td>\n      <td>0.06250</td>\n      <td>NaN</td>\n      <td>1333.0</td>\n      <td>[1, 11, 8, 0, 18, 5, 2, 12, 17, 7, 9, 3, 16, 1...</td>\n      <td>10</td>\n      <td>8</td>\n      <td>400</td>\n      <td>10</td>\n      <td>0.1</td>\n      <td>0.9</td>\n      <td>False</td>\n      <td>399</td>\n      <td>189.665819</td>\n      <td>PFSP</td>\n      <td>pfsp/tai20_5_8.fsp</td>\n      <td>UMM</td>\n    </tr>\n    <tr>\n      <th>399</th>\n      <td>4.547474e-12</td>\n      <td>0.436306</td>\n      <td>0.06250</td>\n      <td>NaN</td>\n      <td>1336.0</td>\n      <td>[1, 9, 7, 0, 18, 6, 3, 11, 17, 8, 13, 4, 16, 1...</td>\n      <td>10</td>\n      <td>8</td>\n      <td>400</td>\n      <td>10</td>\n      <td>0.1</td>\n      <td>0.9</td>\n      <td>False</td>\n      <td>400</td>\n      <td>189.665819</td>\n      <td>PFSP</td>\n      <td>pfsp/tai20_5_8.fsp</td>\n      <td>UMM</td>\n    </tr>\n  </tbody>\n</table>\n<p>400 rows × 18 columns</p>\n</div>"
          },
          "metadata": {}
        }
      ],
      "execution_count": 10,
      "metadata": {
        "collapsed": true,
        "jupyter": {
          "source_hidden": false,
          "outputs_hidden": false
        },
        "nteract": {
          "transient": {
            "deleting": false
          }
        },
        "execution": {
          "iopub.status.busy": "2020-11-26T11:50:42.799Z",
          "iopub.execute_input": "2020-11-26T11:50:42.811Z",
          "iopub.status.idle": "2020-11-26T11:50:42.833Z",
          "shell.execute_reply": "2020-11-26T11:50:42.966Z"
        }
      }
    },
    {
      "cell_type": "code",
      "source": [
        "def synthetic_LOP(n, m, phi):\n",
        "    instanceID = np.zeros((n,n))\n",
        "    instanceRA = np.zeros((n,n))\n",
        "    # FIXME: It should already return an array.\n",
        "    s = np.asarray(mk.samplingMM(m, n, phi=phi, k=None))\n",
        "    \n",
        "    for i in range(n):\n",
        "        for j in range(i+1,n):\n",
        "            instanceID[i, j] = (s[:, i] < s[:, j]).sum() / m\n",
        "            instanceID[j, i] = 1 - instanceID[i, j]\n",
        "    central = np.random.permutation(n)\n",
        "    s = s[:, central] #compose\n",
        "    for i in range(n):\n",
        "        for j in range(i+1,n):\n",
        "            instanceRA[i, j] = (s[:, i] < s[:, j]).sum() / m\n",
        "            instanceRA[j, i] = 1 - instanceRA[i, j]\n",
        "    return instanceID, instanceRA, central\n",
        "  \n",
        "n=6\n",
        "m,phi = 200,.9\n",
        "import mallows_kendall as mk\n",
        "\n",
        "instanceID, instanceRA, best_sol = synthetic_LOP(n, m, phi)\n",
        "worst_sol = best_sol[::-1]\n",
        "instanceID, instanceRA\n",
        "ide = np.arange(n)\n",
        "inv = np.argsort(best_sol)\n",
        "s = 0\n",
        "for i in range(n):\n",
        "  for j in range(i):\n",
        "    s += instanceRA[best_sol[i],best_sol[j]] #LT\n",
        "s\n",
        "np.tril(instanceID[np.ix_(ide, ide)]).sum(), np.tril(instanceRA[np.ix_(inv, inv)]).sum(), np.tril(instanceRA[np.ix_(best_sol, best_sol)]).sum(),s"
      ],
      "outputs": [
        {
          "output_type": "execute_result",
          "execution_count": 89,
          "data": {
            "text/plain": "(7.05, 7.05, 7.31, 7.309999999999999)"
          },
          "metadata": {}
        }
      ],
      "execution_count": 89,
      "metadata": {
        "collapsed": true,
        "execution": {
          "iopub.execute_input": "2020-11-15T20:43:57.454Z",
          "iopub.status.busy": "2020-11-15T20:43:57.450Z",
          "iopub.status.idle": "2020-11-15T20:43:57.465Z",
          "shell.execute_reply": "2020-11-15T20:43:57.479Z"
        },
        "jupyter": {
          "outputs_hidden": false,
          "source_hidden": false
        },
        "nteract": {
          "transient": {
            "deleting": false
          }
        }
      }
    },
    {
      "cell_type": "code",
      "source": [
        "instanceID[np.ix_(best_sol, best_sol)] == instanceRA, instanceRA[np.ix_(inv, inv)] == instanceID"
      ],
      "outputs": [
        {
          "output_type": "execute_result",
          "execution_count": 96,
          "data": {
            "text/plain": "(array([[ True,  True,  True,  True,  True,  True],\n        [ True,  True,  True,  True,  True,  True],\n        [ True,  True,  True,  True,  True,  True],\n        [ True,  True,  True,  True,  True,  True],\n        [ True,  True,  True,  True,  True,  True],\n        [ True,  True,  True,  True,  True,  True]]),\n array([[ True,  True,  True,  True,  True,  True],\n        [ True,  True,  True,  True,  True,  True],\n        [ True,  True,  True,  True,  True,  True],\n        [ True,  True,  True,  True,  True,  True],\n        [ True,  True,  True,  True,  True,  True],\n        [ True,  True,  True,  True,  True,  True]]))"
          },
          "metadata": {}
        }
      ],
      "execution_count": 96,
      "metadata": {
        "collapsed": true,
        "execution": {
          "iopub.execute_input": "2020-11-15T20:54:09.798Z",
          "iopub.status.busy": "2020-11-15T20:54:09.793Z",
          "iopub.status.idle": "2020-11-15T20:54:09.809Z",
          "shell.execute_reply": "2020-11-15T20:54:09.825Z"
        },
        "jupyter": {
          "outputs_hidden": false,
          "source_hidden": false
        },
        "nteract": {
          "transient": {
            "deleting": false
          }
        }
      }
    },
    {
      "cell_type": "code",
      "source": [
        "import lop as lop\n",
        "reload(lop)\n",
        "import random\n",
        "from lop import LOP\n",
        "n,m,phi,seed = 8,200,0.9,random.randint(1,10)\n",
        "p= LOP.generate_synthetic(n,m,phi,seed)"
      ],
      "outputs": [
        {
          "output_type": "stream",
          "name": "stdout",
          "text": [
            "identity, reverse, best-known and worst-known fitnesses 14.42 13.580000000000002 12.379999999999999 14.600000000000001\n"
          ]
        }
      ],
      "execution_count": 96,
      "metadata": {
        "collapsed": true,
        "execution": {
          "iopub.execute_input": "2020-11-16T14:13:59.707Z",
          "iopub.status.busy": "2020-11-16T14:13:59.701Z",
          "iopub.status.idle": "2020-11-16T14:13:59.753Z",
          "shell.execute_reply": "2020-11-16T14:13:59.773Z"
        },
        "jupyter": {
          "outputs_hidden": false,
          "source_hidden": false
        },
        "nteract": {
          "transient": {
            "deleting": false
          }
        }
      }
    },
    {
      "cell_type": "code",
      "source": [
        "import lop as lop\n",
        "reload(lop)\n",
        "import random\n",
        "from lop import LOP\n",
        "n,m,phi,seed = 8,200,0.9,random.randint(1,10)\n",
        "p= LOP.generate_synthetic(n,m,phi,seed)\n",
        "p.instance, p.best_sol, p.fitness_nosave(p.best_sol)\n",
        "ide = np.arange(n)\n",
        "bes = p.best_sol\n",
        "inv = np.argsort(bes)\n",
        "wor = np.argsort(inv[::-1])\n",
        "s = 0\n",
        "for i in range(n):\n",
        "  for j in range(i):\n",
        "    s += p.instance[inv[i],inv[j]] #LT\n",
        "print(s, bes)\n",
        "# np.tril(instanceID[np.ix_(ide, ide)]).sum(), \n",
        "np.tril(p.instance[np.ix_(inv, inv)]).sum(), np.tril(p.instance[np.ix_(inv[::-1], inv[::-1])]).sum(), #esto es la identidad\n",
        "# np.tril(instanceRA[np.ix_(best_sol, best_sol)]).sum(),s\n",
        "p.fitness_nosave(bes), p.fitness_nosave(wor)"
      ],
      "outputs": [
        {
          "output_type": "stream",
          "name": "stdout",
          "text": [
            "identity, reverse, best-known and worst-known fitnesses 14.014999999999999 13.985 12.425 14.025\n",
            "12.425000000000002 [2 1 7 5 4 3 6 0]\n"
          ]
        },
        {
          "output_type": "execute_result",
          "execution_count": 92,
          "data": {
            "text/plain": "(12.425, 15.575000000000001)"
          },
          "metadata": {}
        }
      ],
      "execution_count": 92,
      "metadata": {
        "execution": {
          "iopub.execute_input": "2020-11-16T14:10:16.892Z",
          "iopub.status.busy": "2020-11-16T14:10:16.885Z",
          "iopub.status.idle": "2020-11-16T14:10:16.944Z",
          "shell.execute_reply": "2020-11-16T14:10:16.965Z"
        },
        "jupyter": {
          "outputs_hidden": false,
          "source_hidden": false
        },
        "nteract": {
          "transient": {
            "deleting": false
          }
        }
      }
    },
    {
      "cell_type": "code",
      "source": [
        "wor = np.argsort(inv[::-1])\n",
        "s = 0\n",
        "for i in range(n):\n",
        "  for j in range(i):\n",
        "    s += p.instance[wor[i],wor[j]] #LT\n",
        "print(s, bes)\n"
      ],
      "outputs": [
        {
          "output_type": "stream",
          "name": "stdout",
          "text": [
            "15.155 [4 0 2 7 5 6 1 3]\n"
          ]
        }
      ],
      "execution_count": 80,
      "metadata": {
        "collapsed": true,
        "execution": {
          "iopub.execute_input": "2020-11-16T13:47:34.543Z",
          "iopub.status.busy": "2020-11-16T13:47:34.538Z",
          "iopub.status.idle": "2020-11-16T13:47:34.556Z",
          "shell.execute_reply": "2020-11-16T13:47:34.561Z"
        },
        "jupyter": {
          "outputs_hidden": false,
          "source_hidden": false
        },
        "nteract": {
          "transient": {
            "deleting": false
          }
        }
      }
    },
    {
      "cell_type": "code",
      "source": [],
      "outputs": [],
      "execution_count": null,
      "metadata": {
        "collapsed": true,
        "jupyter": {
          "outputs_hidden": false,
          "source_hidden": false
        },
        "nteract": {
          "transient": {
            "deleting": false
          }
        }
      }
    },
    {
      "cell_type": "code",
      "source": [],
      "outputs": [],
      "execution_count": null,
      "metadata": {
        "collapsed": true,
        "jupyter": {
          "outputs_hidden": false,
          "source_hidden": false
        },
        "nteract": {
          "transient": {
            "deleting": false
          }
        }
      }
    },
    {
      "cell_type": "code",
      "source": [],
      "outputs": [],
      "execution_count": null,
      "metadata": {
        "collapsed": true,
        "jupyter": {
          "outputs_hidden": false,
          "source_hidden": false
        },
        "nteract": {
          "transient": {
            "deleting": false
          }
        }
      }
    },
    {
      "cell_type": "code",
      "source": [],
      "outputs": [],
      "execution_count": null,
      "metadata": {
        "collapsed": true,
        "jupyter": {
          "outputs_hidden": false,
          "source_hidden": false
        },
        "nteract": {
          "transient": {
            "deleting": false
          }
        }
      }
    },
    {
      "cell_type": "code",
      "source": [],
      "outputs": [],
      "execution_count": null,
      "metadata": {
        "collapsed": true,
        "jupyter": {
          "outputs_hidden": false,
          "source_hidden": false
        },
        "nteract": {
          "transient": {
            "deleting": false
          }
        }
      }
    }
  ],
  "metadata": {
    "kernel_info": {
      "name": "python3"
    },
    "kernelspec": {
      "display_name": "Python 3",
      "language": "python",
      "name": "python3"
    },
    "language_info": {
      "name": "python",
      "version": "3.9.0",
      "mimetype": "text/x-python",
      "codemirror_mode": {
        "name": "ipython",
        "version": 3
      },
      "pygments_lexer": "ipython3",
      "nbconvert_exporter": "python",
      "file_extension": ".py"
    },
    "nteract": {
      "version": "0.26.0"
    }
  },
  "nbformat": 4,
  "nbformat_minor": 1
}